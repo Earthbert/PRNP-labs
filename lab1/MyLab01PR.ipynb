{
  "cells": [
    {
      "cell_type": "markdown",
      "metadata": {
        "id": "kWOVYAgyI3T-"
      },
      "source": [
        "# Scopul Laboratorului\n",
        "\n",
        "In cadrul primului laborator vom exersa manipularea si extragerea informatiilor din dataset-uri folosind biblioteci din limbajul Python.\n"
      ]
    },
    {
      "cell_type": "markdown",
      "metadata": {
        "id": "Dz0J271ZI9DJ"
      },
      "source": [
        "# Cuvinte-Cheie\n",
        "\n",
        "*   Numpy\n",
        "*   Pandas\n",
        "*   Series\n",
        "*   DataFrame\n",
        "*   Data Cleaning"
      ]
    },
    {
      "cell_type": "markdown",
      "metadata": {
        "id": "ZfcR-oiyI-EC"
      },
      "source": [
        "# Utilizari in Lumea Reala\n",
        "\n",
        "*   analiza metricilor unui sistem/unei aplicatii (performante, erori)\n",
        "*   meteorologie (vizualizare, predictii)\n",
        "*   statistici in domeniul medical (de exemplu, rata de imbolnavire cu un virus la persoanele vacinate fata de cele vaccinate)\n",
        "*   observarea tendintelor sociale/politice/financiare (corelarea studiilor sau a categoriei de varsta cu preferintele unui individ)\n",
        "*   procesarea limbajului natural\n",
        "*   analiza feedback-ului consumatorilor (pentru imbunatatirea serviciilor)\n",
        "*   analiza retelelor sociale\n",
        "\n",
        "![picture](imgs/picture1.png)\n"
      ]
    },
    {
      "cell_type": "markdown",
      "metadata": {
        "id": "ZGXvyZF2PdUw"
      },
      "source": [
        "# Python Memento\n",
        "\n",
        "Amitim cateva facilitati oferite de limbajul Python:"
      ]
    },
    {
      "cell_type": "markdown",
      "metadata": {
        "id": "1G36OQqIofIe"
      },
      "source": [
        "### List Comprehension\n",
        "Creeaza o lista pornind de la elementele unei alte liste intr-un one-liner."
      ]
    },
    {
      "cell_type": "code",
      "execution_count": 222,
      "metadata": {
        "colab": {
          "base_uri": "https://localhost:8080/"
        },
        "id": "o5WmCqx9igaJ",
        "outputId": "885a5dd1-bc7f-4d58-fa30-021d2b374d65"
      },
      "outputs": [
        {
          "name": "stdout",
          "output_type": "stream",
          "text": [
            "[0, 1, 2, 3, 4, 5, 6, 7, 8, 9]\n"
          ]
        }
      ],
      "source": [
        "import numpy\n",
        "integers = [x for x in list(range(0, 10))]\n",
        "print(integers)"
      ]
    },
    {
      "cell_type": "markdown",
      "metadata": {
        "id": "0f8gIF8MP2XR"
      },
      "source": [
        "### Slicing,\n",
        "\n",
        "Extrage un fragment contiguu dintr-o lista.\n",
        ",,,,,,,\n",
        "\n",
        "\n",
        "\n",
        "\n",
        "\n",
        "\n",
        "\n",
        "\n",
        "*Atentie!* Un slice [n:m] va intoarce elementele listei pornind *de la indexul n pana la indexul m-1*, intrucat indexarea in Python incepe de la 0."
      ]
    },
    {
      "cell_type": "code",
      "execution_count": 223,
      "metadata": {
        "colab": {
          "base_uri": "https://localhost:8080/"
        },
        "id": "AjhEUbcAP56b",
        "outputId": "131c3f27-b214-42e6-deaf-c6755e6beb82"
      },
      "outputs": [
        {
          "name": "stdout",
          "output_type": "stream",
          "text": [
            "[0, 1, 2, 3, 4]\n"
          ]
        }
      ],
      "source": [
        "half = integers[:5]\n",
        "print(half)"
      ]
    },
    {
      "cell_type": "code",
      "execution_count": 224,
      "metadata": {
        "colab": {
          "base_uri": "https://localhost:8080/"
        },
        "id": "bEo3n3hSvhYi",
        "outputId": "e7e151c7-87cb-4d9e-bbca-63482af6fe69"
      },
      "outputs": [
        {
          "name": "stdout",
          "output_type": "stream",
          "text": [
            "[4, 5]\n"
          ]
        }
      ],
      "source": [
        "mid = integers[4:6]\n",
        "print(mid)"
      ]
    },
    {
      "cell_type": "code",
      "execution_count": 225,
      "metadata": {
        "colab": {
          "base_uri": "https://localhost:8080/"
        },
        "id": "km1UWiyYvhtd",
        "outputId": "f45572a6-c75f-4169-8182-703b0f258ef2"
      },
      "outputs": [
        {
          "name": "stdout",
          "output_type": "stream",
          "text": [
            "[0, 1, 2, 3, 4, 5, 6, 7, 8, 9]\n"
          ]
        }
      ],
      "source": [
        "all = integers[:]\n",
        "print(all)"
      ]
    },
    {
      "cell_type": "markdown",
      "metadata": {
        "id": "OJPLOh6_iR5x"
      },
      "source": [
        "### Lambdas\n",
        "\n",
        "Lambdas sunt functii anonime scrise ca one-liner. Pot primi oricate argumente si pot fi date drept parametru pentru functionale."
      ]
    },
    {
      "cell_type": "code",
      "execution_count": 226,
      "metadata": {
        "colab": {
          "base_uri": "https://localhost:8080/"
        },
        "id": "q0a_R70n39xm",
        "outputId": "f29f2a8d-c6df-40c1-a929-f3dbbc920035"
      },
      "outputs": [
        {
          "data": {
            "text/plain": [
              "41"
            ]
          },
          "execution_count": 226,
          "metadata": {},
          "output_type": "execute_result"
        }
      ],
      "source": [
        "foo = lambda x: x ** 2 + 3 * x + 1\n",
        "foo(5)"
      ]
    },
    {
      "cell_type": "markdown",
      "metadata": {
        "id": "_-1wvNUs4lnh"
      },
      "source": [
        "### Functional Programming"
      ]
    },
    {
      "cell_type": "markdown",
      "metadata": {
        "id": "M-WqOMCInken"
      },
      "source": [
        "# Optional: Good to know"
      ]
    },
    {
      "cell_type": "markdown",
      "metadata": {
        "id": "mB95qk2CoPJr"
      },
      "source": [
        "### Filter"
      ]
    },
    {
      "cell_type": "code",
      "execution_count": 227,
      "metadata": {
        "colab": {
          "base_uri": "https://localhost:8080/"
        },
        "id": "n6a2xadD49pT",
        "outputId": "9cbd9335-c9fb-48eb-efb6-3db333294873"
      },
      "outputs": [
        {
          "data": {
            "text/plain": [
              "<filter at 0x121bdb62080>"
            ]
          },
          "execution_count": 227,
          "metadata": {},
          "output_type": "execute_result"
        }
      ],
      "source": [
        "filter(lambda x: x % 2 == 1, integers)"
      ]
    },
    {
      "cell_type": "code",
      "execution_count": 228,
      "metadata": {
        "colab": {
          "base_uri": "https://localhost:8080/"
        },
        "id": "dIjYsr0z5a4R",
        "outputId": "b1ecbefa-3880-40e7-fde1-7f1a26560ea7"
      },
      "outputs": [
        {
          "name": "stdout",
          "output_type": "stream",
          "text": [
            "[1, 3, 5, 7, 9]\n"
          ]
        }
      ],
      "source": [
        "odd = list(filter(lambda x: x % 2 == 1, integers))\n",
        "print(odd)"
      ]
    },
    {
      "cell_type": "markdown",
      "metadata": {
        "id": "DI0fPWoBoTB9"
      },
      "source": [
        "### Map"
      ]
    },
    {
      "cell_type": "code",
      "execution_count": 229,
      "metadata": {
        "colab": {
          "base_uri": "https://localhost:8080/"
        },
        "id": "XP27SM4X51fh",
        "outputId": "87a34513-a89f-4134-d940-2e0167fd8a97"
      },
      "outputs": [
        {
          "name": "stdout",
          "output_type": "stream",
          "text": [
            "[0, 1, 4, 9, 16, 25, 36, 49, 64, 81]\n"
          ]
        }
      ],
      "source": [
        "squares = list(map(lambda x: x ** 2, integers))\n",
        "print(squares)"
      ]
    },
    {
      "cell_type": "markdown",
      "metadata": {
        "id": "h91DrLDsoXat"
      },
      "source": [
        "### Reduce"
      ]
    },
    {
      "cell_type": "code",
      "execution_count": 230,
      "metadata": {
        "colab": {
          "base_uri": "https://localhost:8080/"
        },
        "id": "3Qz7pmJE5_sY",
        "outputId": "62944c96-e512-4a7e-bd93-ac5f3425d56e"
      },
      "outputs": [
        {
          "name": "stdout",
          "output_type": "stream",
          "text": [
            "45\n",
            "55\n"
          ]
        }
      ],
      "source": [
        "from functools import reduce\n",
        "sum = reduce(lambda x, y: x + y, integers)\n",
        "print(sum)\n",
        "initial_value = 10\n",
        "sum = reduce(lambda x, y: x + y, integers, initial_value)\n",
        "print(sum)"
      ]
    },
    {
      "cell_type": "markdown",
      "metadata": {
        "id": "UN0zQNK5Q1gB"
      },
      "source": [
        "# NumPy\n",
        "\n",
        "NumPy este o biblioteca pentru limbajul Python specializata pe operatii matematice (structuri de date dedicate, vectorizari, functii optimizate). Ofera instrumente de creare, stocare si manipulare a informatiilor, ceea ce faciliteaza integrarea cu numeroase baze de date."
      ]
    },
    {
      "cell_type": "markdown",
      "metadata": {
        "id": "FfuLgI80qTsL"
      },
      "source": [
        "## Programare orientata pe Array-uri\n",
        "\n",
        "Elementul de baza in manipularea datelor folosind NumPy este np.array. Acesta poate fi creat fie pornind de la una sau mai multe liste, fie folosind functii speciale."
      ]
    },
    {
      "cell_type": "code",
      "execution_count": 231,
      "metadata": {
        "colab": {
          "base_uri": "https://localhost:8080/"
        },
        "id": "mjgyxC9ErSVC",
        "outputId": "d7a7cc2c-fd3e-42bf-d690-8d8370cf30ac"
      },
      "outputs": [
        {
          "name": "stdout",
          "output_type": "stream",
          "text": [
            "[0 1 2 3 4]\n",
            "<class 'numpy.ndarray'>\n"
          ]
        }
      ],
      "source": [
        "import numpy as np\n",
        "\n",
        "# array uni-dimensional de 5 elemente\n",
        "uni = np.array([0, 1, 2, 3, 4])\n",
        "print(uni)\n",
        "print(type(uni))"
      ]
    },
    {
      "cell_type": "code",
      "execution_count": 232,
      "metadata": {
        "colab": {
          "base_uri": "https://localhost:8080/"
        },
        "id": "GBcZfdb-rrUT",
        "outputId": "0e34647b-34c0-4ecf-e2a3-2d7c90a685ce"
      },
      "outputs": [
        {
          "name": "stdout",
          "output_type": "stream",
          "text": [
            "[[ 1  1  2  3]\n",
            " [ 5  8 13 21]]\n"
          ]
        }
      ],
      "source": [
        "# array multi-dimensional, cu 2 dimensiuni, fiecare avand 4 elemente\n",
        "multi = np.array([[1, 1, 2, 3], [5, 8, 13, 21]])\n",
        "print(multi)"
      ]
    },
    {
      "cell_type": "markdown",
      "metadata": {
        "id": "Wbe10P3N69Fx"
      },
      "source": [
        "Pentru a afla *dimensiunile unui np.array*, putem folosi urmatoarele atribute:\n",
        "*   *shape*: forma array-ului (distributia elementelor pe linii si coloane)\n",
        "*   *ndim*: numarul de dimensiuni\n",
        "*   *size*: numarul total de elemente din array"
      ]
    },
    {
      "cell_type": "code",
      "execution_count": 233,
      "metadata": {
        "colab": {
          "base_uri": "https://localhost:8080/"
        },
        "id": "_e3kvI7P7Cqh",
        "outputId": "b2c5d822-841f-4633-9590-1ba43ea31c3a"
      },
      "outputs": [
        {
          "name": "stdout",
          "output_type": "stream",
          "text": [
            "Array shapes:\n",
            "(5,)\n",
            "(2, 4)\n",
            "\n",
            "\n",
            "Array dimensions:\n",
            "1\n",
            "2\n",
            "\n",
            "\n",
            "Array size:\n",
            "5\n",
            "8\n"
          ]
        }
      ],
      "source": [
        "print(\"Array shapes:\")\n",
        "print(uni.shape)\n",
        "print(multi.shape)\n",
        "print(\"\\n\")\n",
        "\n",
        "print(\"Array dimensions:\")\n",
        "print(uni.ndim)\n",
        "print(multi.ndim)\n",
        "print(\"\\n\")\n",
        "\n",
        "print(\"Array size:\")\n",
        "print(uni.size)\n",
        "print(multi.size)"
      ]
    },
    {
      "cell_type": "markdown",
      "metadata": {
        "id": "BKAko6yJqKk-"
      },
      "source": [
        "Cum putem adauga o noua dimensiune la un np.array?"
      ]
    },
    {
      "cell_type": "markdown",
      "metadata": {
        "id": "RYmctV1QqKk_"
      },
      "source": [
        "Exista doua variante: \\\n",
        "&emsp; - fie prin apelul metodei reshape careia ii dam drept parametrii *shape*-urile pe care ni le dorim sa le aiba *ndarray*-ul nostru \\\n",
        "&emsp; - fie prin apelul lui np.newaxis in interiorul [] care va adauga o noua dimensiune cu marimea 1 in pozitia in care este pus apelul; acest np.newaxis este doar un alias pentru *None*"
      ]
    },
    {
      "cell_type": "code",
      "execution_count": 234,
      "metadata": {
        "id": "p_ODLnnLqKk_",
        "outputId": "f9a56a18-8374-42ec-ebd0-7af3b3496110"
      },
      "outputs": [
        {
          "name": "stdout",
          "output_type": "stream",
          "text": [
            "(5, 1)\n"
          ]
        }
      ],
      "source": [
        "uni_reshaped = uni.reshape(5, 1)\n",
        "print(uni_reshaped.shape)"
      ]
    },
    {
      "cell_type": "code",
      "execution_count": 235,
      "metadata": {
        "id": "arhC8ZeHqKk_",
        "outputId": "1fd212e8-2394-49e4-af32-9fb0e4a11641"
      },
      "outputs": [
        {
          "name": "stdout",
          "output_type": "stream",
          "text": [
            "(5, 1)\n"
          ]
        }
      ],
      "source": [
        "uni_reshaped = uni[:, np.newaxis]\n",
        "print(uni_reshaped.shape)"
      ]
    },
    {
      "cell_type": "code",
      "execution_count": 236,
      "metadata": {
        "id": "Vcy4zk7pqKk_",
        "outputId": "adce231f-c2e5-4c46-dd9f-57511686bc3d"
      },
      "outputs": [
        {
          "name": "stdout",
          "output_type": "stream",
          "text": [
            "(5, 1)\n"
          ]
        }
      ],
      "source": [
        "uni_reshaped = uni[:, None]\n",
        "print(uni_reshaped.shape)"
      ]
    },
    {
      "cell_type": "code",
      "execution_count": 237,
      "metadata": {
        "colab": {
          "base_uri": "https://localhost:8080/"
        },
        "id": "2f28rJkuzng-",
        "outputId": "4a6feff6-9b5b-4459-9b53-748f366e6ff6"
      },
      "outputs": [
        {
          "data": {
            "text/plain": [
              "array([[0.67298304, 0.87930212, 0.43447722, 0.022313  ],\n",
              "       [0.26700719, 0.28692869, 0.35508739, 0.58206241]])"
            ]
          },
          "execution_count": 237,
          "metadata": {},
          "output_type": "execute_result"
        }
      ],
      "source": [
        "# array multi-dimensional generat cu numere random:\n",
        "# np.random.rand(dim_no, dim_size)\n",
        "np.random.rand(2, 4)"
      ]
    },
    {
      "cell_type": "markdown",
      "metadata": {
        "id": "Ygi9GFPeqKk_"
      },
      "source": [
        "**Observatie**: In momentul generarii de numere aleatore folosind este recomandata folosirea unui *random seed*. Utilitatea acestui *random seed* rezida din dorinta noastra de a avea rezultate replicabile si de catre altii in momentul in care realizam experimente, astfel incat sa nu lucram pe numere diferite la rulari diferite. Singura conditie ce trebuie respectata de catre acest *random seed* este ca el sa nu fie aleatoriu la randul sau."
      ]
    },
    {
      "cell_type": "code",
      "execution_count": 238,
      "metadata": {
        "colab": {
          "base_uri": "https://localhost:8080/"
        },
        "id": "uCKgqQPM13bj",
        "outputId": "f87c3f26-fb4c-4b75-88c9-96cda8c3fbc8"
      },
      "outputs": [
        {
          "name": "stdout",
          "output_type": "stream",
          "text": [
            "[ 0  3  6  9 12 15 18]\n"
          ]
        }
      ],
      "source": [
        "# array generat printr-un interval si un pas:\n",
        "# np.arrange(start, stop, step)\n",
        "third = np.arange(0, 21, 3)\n",
        "print(third)"
      ]
    },
    {
      "cell_type": "code",
      "execution_count": 239,
      "metadata": {
        "colab": {
          "base_uri": "https://localhost:8080/"
        },
        "id": "CeZDYTu92tNi",
        "outputId": "19dac713-feb2-4164-a795-79d52e3cdd6f"
      },
      "outputs": [
        {
          "data": {
            "text/plain": [
              "array([ 0.  ,  1.25,  2.5 ,  3.75,  5.  ,  6.25,  7.5 ,  8.75, 10.  ])"
            ]
          },
          "execution_count": 239,
          "metadata": {},
          "output_type": "execute_result"
        }
      ],
      "source": [
        "# interval si un numar de elemente distribuite simetric intr-un spatiu liniar:\n",
        "# np.linspace(start, stop, elem_no)\n",
        "np.linspace(0, 10, 9)\n"
      ]
    },
    {
      "cell_type": "markdown",
      "metadata": {
        "id": "FWXfXKTF5iQH"
      },
      "source": [
        "## Functii Statistice si de Agregare\n"
      ]
    },
    {
      "cell_type": "markdown",
      "metadata": {
        "id": "ITVyKb53oIYm"
      },
      "source": [
        "# Optional: Good to know"
      ]
    },
    {
      "cell_type": "code",
      "execution_count": 240,
      "metadata": {
        "colab": {
          "base_uri": "https://localhost:8080/"
        },
        "id": "Tgzqh13GHzFP",
        "outputId": "33fe6dbe-eb42-4b46-973e-f88107c5075c"
      },
      "outputs": [
        {
          "name": "stdout",
          "output_type": "stream",
          "text": [
            "[[-10  -9  -8  -7  -6  -5  -4  -3  -2  -1]\n",
            " [  1   2   3   4   5   6   7   8   9  10]]\n"
          ]
        }
      ],
      "source": [
        "neg = [x for x in range(-10, 0)]\n",
        "pos = [x for x in range(1, 11)]\n",
        "arr = np.array([neg, pos])\n",
        "print(arr)"
      ]
    },
    {
      "cell_type": "markdown",
      "metadata": {
        "id": "tqH0DfJI8KHc"
      },
      "source": [
        "###    *Media Aritmetica: np.mean()*\n",
        "\n"
      ]
    },
    {
      "cell_type": "code",
      "execution_count": 241,
      "metadata": {
        "colab": {
          "base_uri": "https://localhost:8080/"
        },
        "id": "YIzqIgvf8GEF",
        "outputId": "5fdcbf17-2562-406f-f0c7-72c9e78fd719"
      },
      "outputs": [
        {
          "name": "stdout",
          "output_type": "stream",
          "text": [
            "[-4.5 -3.5 -2.5 -1.5 -0.5  0.5  1.5  2.5  3.5  4.5]\n"
          ]
        }
      ],
      "source": [
        "# media pe axa liniilor\n",
        "print(np.mean(arr, axis=0))"
      ]
    },
    {
      "cell_type": "code",
      "execution_count": 242,
      "metadata": {
        "colab": {
          "base_uri": "https://localhost:8080/"
        },
        "id": "YqTnA5bg_q3B",
        "outputId": "cc96cb94-b89b-4a27-a8fe-9c5f9bad668a"
      },
      "outputs": [
        {
          "name": "stdout",
          "output_type": "stream",
          "text": [
            "[-5.5  5.5]\n"
          ]
        }
      ],
      "source": [
        "# media pe axa coloanelor\n",
        "print(np.mean(arr, axis=1))"
      ]
    },
    {
      "cell_type": "code",
      "execution_count": 243,
      "metadata": {
        "colab": {
          "base_uri": "https://localhost:8080/"
        },
        "id": "AoCg7CQe_wHL",
        "outputId": "ddba475f-3612-4ba6-a879-90d7d8bf0368"
      },
      "outputs": [
        {
          "name": "stdout",
          "output_type": "stream",
          "text": [
            "0.0\n"
          ]
        }
      ],
      "source": [
        "# media tuturor elementelor\n",
        "print(np.mean(arr))"
      ]
    },
    {
      "cell_type": "markdown",
      "metadata": {
        "id": "ViT_x0fAAIXX"
      },
      "source": [
        "### *Deviatia Standard:   np.std()*\n",
        "\n",
        "*Reminder*: deviatia standard indica dispersia unui set de date relativ la media elementelor sale\n",
        "\n",
        "    std = sqrt(mean(x)), unde x = abs(arr - arr.mean())**2\n"
      ]
    },
    {
      "cell_type": "code",
      "execution_count": 244,
      "metadata": {
        "colab": {
          "base_uri": "https://localhost:8080/"
        },
        "id": "MRacNFrzAVpl",
        "outputId": "58f6d4e8-2f2c-4a8f-fda3-40c3a993e0f2"
      },
      "outputs": [
        {
          "data": {
            "text/plain": [
              "np.float64(6.2048368229954285)"
            ]
          },
          "execution_count": 244,
          "metadata": {},
          "output_type": "execute_result"
        }
      ],
      "source": [
        "np.std(arr)"
      ]
    },
    {
      "cell_type": "code",
      "execution_count": 245,
      "metadata": {
        "colab": {
          "base_uri": "https://localhost:8080/"
        },
        "id": "_ndPWAssCvkY",
        "outputId": "ee401c6c-dd32-4b80-f8ec-c07216e25152"
      },
      "outputs": [
        {
          "data": {
            "text/plain": [
              "array([5.5, 5.5, 5.5, 5.5, 5.5, 5.5, 5.5, 5.5, 5.5, 5.5])"
            ]
          },
          "execution_count": 245,
          "metadata": {},
          "output_type": "execute_result"
        }
      ],
      "source": [
        "np.std(arr, axis=0)"
      ]
    },
    {
      "cell_type": "code",
      "execution_count": 246,
      "metadata": {
        "colab": {
          "base_uri": "https://localhost:8080/"
        },
        "id": "j3IF34vvCyyI",
        "outputId": "0fafa317-34bd-42d1-b6ca-1100fe7c05b8"
      },
      "outputs": [
        {
          "data": {
            "text/plain": [
              "array([2.87228132, 2.87228132])"
            ]
          },
          "execution_count": 246,
          "metadata": {},
          "output_type": "execute_result"
        }
      ],
      "source": [
        "np.std(arr, axis=1)"
      ]
    },
    {
      "cell_type": "markdown",
      "metadata": {
        "id": "-QyT7XyDDjXV"
      },
      "source": [
        "### *Suma, Produs: np.sum(), np.prod()*"
      ]
    },
    {
      "cell_type": "code",
      "execution_count": 247,
      "metadata": {
        "colab": {
          "base_uri": "https://localhost:8080/"
        },
        "id": "LP8xYGQ1DpO2",
        "outputId": "cb055e52-74ae-4cf3-cb38-8967884f5008"
      },
      "outputs": [
        {
          "data": {
            "text/plain": [
              "np.int64(0)"
            ]
          },
          "execution_count": 247,
          "metadata": {},
          "output_type": "execute_result"
        }
      ],
      "source": [
        "np.sum(arr)"
      ]
    },
    {
      "cell_type": "code",
      "execution_count": 248,
      "metadata": {
        "colab": {
          "base_uri": "https://localhost:8080/"
        },
        "id": "wMVkQeWGDr-E",
        "outputId": "72a477af-a3a5-4c9f-e165-dce4a8fe14bb"
      },
      "outputs": [
        {
          "data": {
            "text/plain": [
              "array([-9, -7, -5, -3, -1,  1,  3,  5,  7,  9])"
            ]
          },
          "execution_count": 248,
          "metadata": {},
          "output_type": "execute_result"
        }
      ],
      "source": [
        "np.sum(arr, axis=0)"
      ]
    },
    {
      "cell_type": "code",
      "execution_count": 249,
      "metadata": {
        "colab": {
          "base_uri": "https://localhost:8080/"
        },
        "id": "AxFpMWHQDxgB",
        "outputId": "3a10a584-5a84-4dc0-bcb7-5733873b7105"
      },
      "outputs": [
        {
          "data": {
            "text/plain": [
              "array([-55,  55])"
            ]
          },
          "execution_count": 249,
          "metadata": {},
          "output_type": "execute_result"
        }
      ],
      "source": [
        "np.sum(arr, axis=1)"
      ]
    },
    {
      "cell_type": "code",
      "execution_count": 250,
      "metadata": {
        "colab": {
          "base_uri": "https://localhost:8080/"
        },
        "id": "nN3OEcnEHen3",
        "outputId": "41dff21d-7077-443a-e525-5dd248dfb7c7"
      },
      "outputs": [
        {
          "data": {
            "text/plain": [
              "array([-10, -18, -24, -28, -30, -30, -28, -24, -18, -10])"
            ]
          },
          "execution_count": 250,
          "metadata": {},
          "output_type": "execute_result"
        }
      ],
      "source": [
        "np.prod(arr, axis=0)"
      ]
    },
    {
      "cell_type": "markdown",
      "metadata": {
        "id": "SGsYtPG-EtSv"
      },
      "source": [
        "### *Min, Max: np.min(), np.max()*"
      ]
    },
    {
      "cell_type": "code",
      "execution_count": 251,
      "metadata": {
        "colab": {
          "base_uri": "https://localhost:8080/"
        },
        "id": "zvZoD20QE45K",
        "outputId": "a0cb33a1-cc7e-4b0a-d05e-b01b42919d29"
      },
      "outputs": [
        {
          "data": {
            "text/plain": [
              "np.int64(-10)"
            ]
          },
          "execution_count": 251,
          "metadata": {},
          "output_type": "execute_result"
        }
      ],
      "source": [
        "np.min(arr)"
      ]
    },
    {
      "cell_type": "code",
      "execution_count": 252,
      "metadata": {
        "colab": {
          "base_uri": "https://localhost:8080/"
        },
        "id": "DNjH6ZcIFBzR",
        "outputId": "8c5a58bd-a38e-415f-c853-e5dc3ef32279"
      },
      "outputs": [
        {
          "data": {
            "text/plain": [
              "array([-1, 10])"
            ]
          },
          "execution_count": 252,
          "metadata": {},
          "output_type": "execute_result"
        }
      ],
      "source": [
        "np.max(arr, axis=1)"
      ]
    },
    {
      "cell_type": "markdown",
      "metadata": {
        "id": "JRJY7-TTFJpz"
      },
      "source": [
        "### *Min index, Max index: np.argmin(), np.argmax()*"
      ]
    },
    {
      "cell_type": "code",
      "execution_count": 253,
      "metadata": {
        "colab": {
          "base_uri": "https://localhost:8080/"
        },
        "id": "CxLFAG6WF62z",
        "outputId": "0bf26ef0-6d42-43b5-8c61-8637ae3c84df"
      },
      "outputs": [
        {
          "data": {
            "text/plain": [
              "np.int64(0)"
            ]
          },
          "execution_count": 253,
          "metadata": {},
          "output_type": "execute_result"
        }
      ],
      "source": [
        "np.argmin(arr)"
      ]
    },
    {
      "cell_type": "code",
      "execution_count": 254,
      "metadata": {
        "colab": {
          "base_uri": "https://localhost:8080/"
        },
        "id": "sobhcI8OG-_o",
        "outputId": "4ee8327c-b5e1-4a67-ddeb-3f69bf779cdc"
      },
      "outputs": [
        {
          "data": {
            "text/plain": [
              "array([9, 9])"
            ]
          },
          "execution_count": 254,
          "metadata": {},
          "output_type": "execute_result"
        }
      ],
      "source": [
        "np.argmax(arr, axis=1)"
      ]
    },
    {
      "cell_type": "markdown",
      "metadata": {
        "id": "8rkNaHcVdQ2K"
      },
      "source": [
        "## Vectorizari\n",
        "\n",
        "In contextul limbajelor high-level (precum Python, MATLAB, R), vectorizarea descrie utilizarea codului optimizat si pre-compilat pentru a realiza operatii asupra unor secvente de date. Acest lucru presupune executia in-place a operatiei asupra tuturor elementelor colectiei, fara a mai fi nevoie de o iteratie explicita."
      ]
    },
    {
      "cell_type": "markdown",
      "metadata": {
        "id": "LR_Zi6gje1G_"
      },
      "source": [
        "Putem observa eficienta vectorizarii prin aplicarea functiei sum() in urmatorul exemplu:"
      ]
    },
    {
      "cell_type": "code",
      "execution_count": 255,
      "metadata": {
        "id": "fXBKMo_tfbhk"
      },
      "outputs": [],
      "source": [
        "import timeit\n",
        "\n",
        "rand_arr = np.random.rand(30, 30)\n",
        "rand_arr_vect = rand_arr\n",
        "rand_arr_iter = rand_arr\n",
        "\n",
        "def add_vect(arr):\n",
        "  sum = np.sum(arr)\n",
        "\n",
        "def add_iter(arr):\n",
        "  sum = 0\n",
        "  for num in arr:\n",
        "    sum += num"
      ]
    },
    {
      "cell_type": "code",
      "execution_count": 256,
      "metadata": {
        "colab": {
          "base_uri": "https://localhost:8080/"
        },
        "id": "C8DPR0ZvfsKE",
        "outputId": "989cd259-fece-4b73-bb36-dd928d73e45b"
      },
      "outputs": [
        {
          "name": "stdout",
          "output_type": "stream",
          "text": [
            "3.29 μs ± 17.1 ns per loop (mean ± std. dev. of 7 runs, 100,000 loops each)\n"
          ]
        }
      ],
      "source": [
        "%timeit add_vect(rand_arr_vect)"
      ]
    },
    {
      "cell_type": "code",
      "execution_count": 257,
      "metadata": {
        "colab": {
          "base_uri": "https://localhost:8080/"
        },
        "id": "Wi0_BtS0k45F",
        "outputId": "db910244-9469-4032-ae8a-7f8a22887c80"
      },
      "outputs": [
        {
          "name": "stdout",
          "output_type": "stream",
          "text": [
            "22.4 μs ± 3.83 μs per loop (mean ± std. dev. of 7 runs, 100,000 loops each)\n"
          ]
        }
      ],
      "source": [
        "%timeit add_iter(rand_arr_iter)"
      ]
    },
    {
      "cell_type": "markdown",
      "metadata": {
        "id": "AskSyjrSnyEc"
      },
      "source": [
        "## Indexare Booleana\n",
        "Daca dorim sa accesam doar elementele care respecta o anumita conditie, putem folosi indexarea booleana.\n",
        "\n",
        "Aceasta presupune crearea unei *masti booleene* (ce verifica pentru fiecare element conditia data si indica True sau False in dreptul fiecarui index, daca aceasta este verificata sau nu), Rezultatul mastii este folosit ulterior drept index pentru gasirea valorilor cautate.\n",
        "\n",
        "Mastile booleene functioneaza pe array-uri continand orice tip de date (ex. numerice, string, bool)."
      ]
    },
    {
      "cell_type": "code",
      "execution_count": 258,
      "metadata": {
        "colab": {
          "base_uri": "https://localhost:8080/"
        },
        "id": "hY8KHfDzk3K2",
        "outputId": "de751fe1-b0b3-41cd-bdb4-24ab06607c4d"
      },
      "outputs": [
        {
          "name": "stdout",
          "output_type": "stream",
          "text": [
            "[[-10   8  -6   4]\n",
            " [ -2   0   2  -4]\n",
            " [  6  -8  10 -12]]\n"
          ]
        }
      ],
      "source": [
        "arr = np.array([[-10,8,-6,4],\n",
        "              [-2,0,2,-4],\n",
        "              [6,-8,10,-12]])\n",
        "print(arr)"
      ]
    },
    {
      "cell_type": "markdown",
      "metadata": {
        "id": "j0U9tq5znZkX"
      },
      "source": [
        "Sa presupunem ca dorim sa extragem doar elementele pozitive din array."
      ]
    },
    {
      "cell_type": "code",
      "execution_count": 259,
      "metadata": {
        "colab": {
          "base_uri": "https://localhost:8080/"
        },
        "id": "FyGaj9KGnThf",
        "outputId": "d5505d00-378b-4fef-e586-87521d3e2ba7"
      },
      "outputs": [
        {
          "name": "stdout",
          "output_type": "stream",
          "text": [
            "[[False  True False  True]\n",
            " [False  True  True False]\n",
            " [ True False  True False]]\n"
          ]
        }
      ],
      "source": [
        "# cream o masca pentru a gasi pozitiile ce respecta conditia\n",
        "mask = arr >= 0\n",
        "print(mask)"
      ]
    },
    {
      "cell_type": "code",
      "execution_count": 260,
      "metadata": {
        "colab": {
          "base_uri": "https://localhost:8080/"
        },
        "id": "saFPit2dnUQE",
        "outputId": "bdafa41d-e775-4144-da9a-bdc6bf9cf510"
      },
      "outputs": [
        {
          "name": "stdout",
          "output_type": "stream",
          "text": [
            "[ 8  4  0  2  6 10]\n"
          ]
        }
      ],
      "source": [
        "# extragem elementele de pe pozitiile marcate cu True in masca\n",
        "pos = arr[mask]\n",
        "print(pos)"
      ]
    },
    {
      "cell_type": "markdown",
      "metadata": {
        "id": "e_yL_7nKoEwQ"
      },
      "source": [
        "## Slicing\n",
        "\n",
        "NumPy ofera posibilitatea de a extrage o vedere dintr-un array multidimensional prin slicing, similar cu cel din cazul listelor."
      ]
    },
    {
      "cell_type": "code",
      "execution_count": 261,
      "metadata": {
        "colab": {
          "base_uri": "https://localhost:8080/"
        },
        "id": "GdXY9mwFt37i",
        "outputId": "32e4725a-d508-4a67-a125-7e906f2d6526"
      },
      "outputs": [
        {
          "name": "stdout",
          "output_type": "stream",
          "text": [
            "[[17 18 19]\n",
            " [22 23 24]]\n"
          ]
        }
      ],
      "source": [
        "arr = np.array([[10, 11, 12, 13, 14],\n",
        "               [15, 16, 17, 18, 19],\n",
        "               [20, 21, 22, 23, 24],\n",
        "               [25, 26, 27, 28, 29]])\n",
        "\n",
        "# primul slice extrage liniile, iar cel de-al doilea coloanele cu indecsii specificati\n",
        "print(arr[1:3, 2:5])"
      ]
    },
    {
      "cell_type": "markdown",
      "metadata": {
        "id": "djBYAsbvkRI5"
      },
      "source": [
        "# Pandas\n",
        "\n",
        "Pandas este o biblioteca pentru limbajul Python specializata pe lucrul cu date, construita peste NumPy. Datorita facilitatilor pe care le ofera, este extrem de utila in preprocesarea, analiza, si vizualizarea datelor, precum si in analiza statistica sau machine learning."
      ]
    },
    {
      "cell_type": "markdown",
      "metadata": {
        "id": "HO6MSiPBmqCK"
      },
      "source": [
        "## Series\n",
        "\n",
        "Un Pandas Series este un array *unidimensional* (sau, mai simplu, o coloana) care poate contine orice tip de date.\n",
        "\n",
        "Array-ul este *indexat* fie prin valori numerice, fie prin label-uri nominale."
      ]
    },
    {
      "cell_type": "markdown",
      "metadata": {
        "id": "d6KnGC2DmwDM"
      },
      "source": [
        "### Cum putem crea Pandas Series?"
      ]
    },
    {
      "cell_type": "markdown",
      "metadata": {
        "id": "-xO04pVInI_6"
      },
      "source": [
        "#### 1. Pornind de la o *lista*"
      ]
    },
    {
      "cell_type": "code",
      "execution_count": 262,
      "metadata": {
        "colab": {
          "base_uri": "https://localhost:8080/"
        },
        "id": "Rt0l9GxUkjaP",
        "outputId": "40984850-24be-46b8-9b7f-839f7132a34e"
      },
      "outputs": [
        {
          "data": {
            "text/plain": [
              "0        Data Science\n",
              "1          Networking\n",
              "2    Machine Learning\n",
              "3      Bioinformatics\n",
              "4      Cyber security\n",
              "5                None\n",
              "dtype: object"
            ]
          },
          "execution_count": 262,
          "metadata": {},
          "output_type": "execute_result"
        }
      ],
      "source": [
        "import numpy as np\n",
        "import pandas as pd\n",
        "\n",
        "topics = ['Data Science', 'Networking', 'Machine Learning', 'Bioinformatics', 'Cyber security', None]\n",
        "pd.Series(topics)"
      ]
    },
    {
      "cell_type": "markdown",
      "metadata": {
        "id": "Z3qPWIcNlnEy"
      },
      "source": [
        "#### 2. Pornind de la un *dictionar*"
      ]
    },
    {
      "cell_type": "code",
      "execution_count": 263,
      "metadata": {
        "colab": {
          "base_uri": "https://localhost:8080/"
        },
        "id": "RiITJO4QllJf",
        "outputId": "636c58ff-1265-4019-b5fd-51fddb74fc68"
      },
      "outputs": [
        {
          "name": "stdout",
          "output_type": "stream",
          "text": [
            "Jack             Networking\n",
            "Chloe      Machine Learning\n",
            "Frank        Cyber security\n",
            "Barbara      Bioinformatics\n",
            "dtype: object\n",
            "Index(['Jack', 'Chloe', 'Frank', 'Barbara'], dtype='object')\n"
          ]
        }
      ],
      "source": [
        "students_topics = {'Jack' : 'Networking',\n",
        "                   'Chloe' : 'Machine Learning',\n",
        "                   'Frank' : 'Cyber security',\n",
        "                   'Barbara' : 'Bioinformatics'}\n",
        "s = pd.Series(students_topics)\n",
        "print(s)\n",
        "print(s.index)"
      ]
    },
    {
      "cell_type": "markdown",
      "metadata": {
        "id": "BeJCEFhO4FZ2"
      },
      "source": [
        "#### 3. Pornind de la *o lista de valori si o lista de indecsi*"
      ]
    },
    {
      "cell_type": "code",
      "execution_count": 264,
      "metadata": {
        "colab": {
          "base_uri": "https://localhost:8080/"
        },
        "id": "dzCyGObF4KM4",
        "outputId": "d719b407-d86b-4026-c943-86bc2af231f6"
      },
      "outputs": [
        {
          "name": "stdout",
          "output_type": "stream",
          "text": [
            "Alice       Data Science\n",
            "Claire    Bioinformatics\n",
            "John          Networking\n",
            "dtype: object\n",
            "Index(['Alice', 'Claire', 'John'], dtype='object')\n"
          ]
        }
      ],
      "source": [
        "s = pd.Series(['Data Science', 'Bioinformatics', 'Networking'], index=['Alice', 'Claire', 'John'])\n",
        "print(s)\n",
        "print(s.index)"
      ]
    },
    {
      "cell_type": "markdown",
      "metadata": {
        "id": "msehDr8u4bbL"
      },
      "source": [
        "### Cum accesam datele din Pandas Series?\n"
      ]
    },
    {
      "cell_type": "markdown",
      "metadata": {
        "id": "VcNudyHu4g1L"
      },
      "source": [
        "#### 1. **iloc**: prin pozitia indexului in cadrul Series"
      ]
    },
    {
      "cell_type": "code",
      "execution_count": 265,
      "metadata": {
        "colab": {
          "base_uri": "https://localhost:8080/",
          "height": 35
        },
        "id": "Brxa_3ue4p1s",
        "outputId": "883586fa-684b-4177-f340-9c61aa909c6a"
      },
      "outputs": [
        {
          "data": {
            "text/plain": [
              "'Bioinformatics'"
            ]
          },
          "execution_count": 265,
          "metadata": {},
          "output_type": "execute_result"
        }
      ],
      "source": [
        "s.iloc[1]"
      ]
    },
    {
      "cell_type": "markdown",
      "metadata": {
        "id": "9XX3Pqpb4tdI"
      },
      "source": [
        "#### 2. **loc**: prin valoarea indexului"
      ]
    },
    {
      "cell_type": "code",
      "execution_count": 266,
      "metadata": {
        "colab": {
          "base_uri": "https://localhost:8080/",
          "height": 35
        },
        "id": "EoXSugBU4yFp",
        "outputId": "4f3b5ce0-0371-44f4-e427-3c4426d37fad"
      },
      "outputs": [
        {
          "data": {
            "text/plain": [
              "'Bioinformatics'"
            ]
          },
          "execution_count": 266,
          "metadata": {},
          "output_type": "execute_result"
        }
      ],
      "source": [
        "s.loc['Claire']"
      ]
    },
    {
      "cell_type": "markdown",
      "metadata": {
        "id": "JE6zBN9D41Nm"
      },
      "source": [
        "#### Conventie\n",
        "Pentru a creste lizibilitatea codului, biblioteca Pandas foloseste o conventie de indexare:\n",
        " * daca vom accesa un element folosind un index *de tip intreg*, accesarea va fi echivalenta cu cea folosind atributul *iloc*\n",
        " * daca vom accesa un element folosind un index *de tip obiect*, accesarea va fi echivalenta cu cea folosind atributul *loc*"
      ]
    },
    {
      "cell_type": "code",
      "execution_count": 267,
      "metadata": {
        "colab": {
          "base_uri": "https://localhost:8080/",
          "height": 35
        },
        "id": "KLhha53j5ZVY",
        "outputId": "774d98f1-2c79-4b99-d83a-37aee7a80b63"
      },
      "outputs": [
        {
          "name": "stderr",
          "output_type": "stream",
          "text": [
            "C:\\Users\\earthbert\\AppData\\Local\\Temp\\ipykernel_15548\\878419959.py:1: FutureWarning: Series.__getitem__ treating keys as positions is deprecated. In a future version, integer keys will always be treated as labels (consistent with DataFrame behavior). To access a value by position, use `ser.iloc[pos]`\n",
            "  s[1]\n"
          ]
        },
        {
          "data": {
            "text/plain": [
              "'Bioinformatics'"
            ]
          },
          "execution_count": 267,
          "metadata": {},
          "output_type": "execute_result"
        }
      ],
      "source": [
        "s[1]"
      ]
    },
    {
      "cell_type": "code",
      "execution_count": 268,
      "metadata": {
        "colab": {
          "base_uri": "https://localhost:8080/",
          "height": 35
        },
        "id": "B2Ao7f7_5bZZ",
        "outputId": "4580599e-2077-45ba-c9af-759e1b80cdad"
      },
      "outputs": [
        {
          "data": {
            "text/plain": [
              "'Bioinformatics'"
            ]
          },
          "execution_count": 268,
          "metadata": {},
          "output_type": "execute_result"
        }
      ],
      "source": [
        "s['Claire']"
      ]
    },
    {
      "cell_type": "markdown",
      "metadata": {
        "id": "sNDWJb_Q9DfX"
      },
      "source": [
        "*Atentie!* Accesarea folosind un index *de tip intreg* poate fi inselatoare. Astfel, daca indecsii din Series sunt *de tip intreg*, in momentul accesarii pot aparea erori cauzate de faptul ca index-ul pe care dorim sa il folosim nu se afla in Series. Spre exemplu:"
      ]
    },
    {
      "cell_type": "code",
      "execution_count": 269,
      "metadata": {
        "colab": {
          "base_uri": "https://localhost:8080/",
          "height": 566
        },
        "id": "Q0d29E9B958H",
        "outputId": "0ca4f459-18e3-4eea-e163-9cf8c1f08dc0"
      },
      "outputs": [
        {
          "ename": "KeyError",
          "evalue": "0",
          "output_type": "error",
          "traceback": [
            "\u001b[1;31m---------------------------------------------------------------------------\u001b[0m",
            "\u001b[1;31mKeyError\u001b[0m                                  Traceback (most recent call last)",
            "File \u001b[1;32mc:\\Users\\earthbert\\University\\PRNP\\.venv\\Lib\\site-packages\\pandas\\core\\indexes\\base.py:3805\u001b[0m, in \u001b[0;36mIndex.get_loc\u001b[1;34m(self, key)\u001b[0m\n\u001b[0;32m   3804\u001b[0m \u001b[38;5;28;01mtry\u001b[39;00m:\n\u001b[1;32m-> 3805\u001b[0m     \u001b[38;5;28;01mreturn\u001b[39;00m \u001b[38;5;28;43mself\u001b[39;49m\u001b[38;5;241;43m.\u001b[39;49m\u001b[43m_engine\u001b[49m\u001b[38;5;241;43m.\u001b[39;49m\u001b[43mget_loc\u001b[49m\u001b[43m(\u001b[49m\u001b[43mcasted_key\u001b[49m\u001b[43m)\u001b[49m\n\u001b[0;32m   3806\u001b[0m \u001b[38;5;28;01mexcept\u001b[39;00m \u001b[38;5;167;01mKeyError\u001b[39;00m \u001b[38;5;28;01mas\u001b[39;00m err:\n",
            "File \u001b[1;32mindex.pyx:167\u001b[0m, in \u001b[0;36mpandas._libs.index.IndexEngine.get_loc\u001b[1;34m()\u001b[0m\n",
            "File \u001b[1;32mindex.pyx:196\u001b[0m, in \u001b[0;36mpandas._libs.index.IndexEngine.get_loc\u001b[1;34m()\u001b[0m\n",
            "File \u001b[1;32mpandas\\\\_libs\\\\hashtable_class_helper.pxi:2606\u001b[0m, in \u001b[0;36mpandas._libs.hashtable.Int64HashTable.get_item\u001b[1;34m()\u001b[0m\n",
            "File \u001b[1;32mpandas\\\\_libs\\\\hashtable_class_helper.pxi:2630\u001b[0m, in \u001b[0;36mpandas._libs.hashtable.Int64HashTable.get_item\u001b[1;34m()\u001b[0m\n",
            "\u001b[1;31mKeyError\u001b[0m: 0",
            "\nThe above exception was the direct cause of the following exception:\n",
            "\u001b[1;31mKeyError\u001b[0m                                  Traceback (most recent call last)",
            "Cell \u001b[1;32mIn[269], line 4\u001b[0m\n\u001b[0;32m      1\u001b[0m s \u001b[38;5;241m=\u001b[39m pd\u001b[38;5;241m.\u001b[39mSeries({\u001b[38;5;241m20\u001b[39m: \u001b[38;5;124m'\u001b[39m\u001b[38;5;124mJohn\u001b[39m\u001b[38;5;124m'\u001b[39m,\n\u001b[0;32m      2\u001b[0m                \u001b[38;5;241m21\u001b[39m: \u001b[38;5;124m'\u001b[39m\u001b[38;5;124mClaire\u001b[39m\u001b[38;5;124m'\u001b[39m,\n\u001b[0;32m      3\u001b[0m                \u001b[38;5;241m22\u001b[39m: \u001b[38;5;124m'\u001b[39m\u001b[38;5;124mChloe\u001b[39m\u001b[38;5;124m'\u001b[39m})\n\u001b[1;32m----> 4\u001b[0m \u001b[43ms\u001b[49m\u001b[43m[\u001b[49m\u001b[38;5;241;43m0\u001b[39;49m\u001b[43m]\u001b[49m\n",
            "File \u001b[1;32mc:\\Users\\earthbert\\University\\PRNP\\.venv\\Lib\\site-packages\\pandas\\core\\series.py:1121\u001b[0m, in \u001b[0;36mSeries.__getitem__\u001b[1;34m(self, key)\u001b[0m\n\u001b[0;32m   1118\u001b[0m     \u001b[38;5;28;01mreturn\u001b[39;00m \u001b[38;5;28mself\u001b[39m\u001b[38;5;241m.\u001b[39m_values[key]\n\u001b[0;32m   1120\u001b[0m \u001b[38;5;28;01melif\u001b[39;00m key_is_scalar:\n\u001b[1;32m-> 1121\u001b[0m     \u001b[38;5;28;01mreturn\u001b[39;00m \u001b[38;5;28;43mself\u001b[39;49m\u001b[38;5;241;43m.\u001b[39;49m\u001b[43m_get_value\u001b[49m\u001b[43m(\u001b[49m\u001b[43mkey\u001b[49m\u001b[43m)\u001b[49m\n\u001b[0;32m   1123\u001b[0m \u001b[38;5;66;03m# Convert generator to list before going through hashable part\u001b[39;00m\n\u001b[0;32m   1124\u001b[0m \u001b[38;5;66;03m# (We will iterate through the generator there to check for slices)\u001b[39;00m\n\u001b[0;32m   1125\u001b[0m \u001b[38;5;28;01mif\u001b[39;00m is_iterator(key):\n",
            "File \u001b[1;32mc:\\Users\\earthbert\\University\\PRNP\\.venv\\Lib\\site-packages\\pandas\\core\\series.py:1237\u001b[0m, in \u001b[0;36mSeries._get_value\u001b[1;34m(self, label, takeable)\u001b[0m\n\u001b[0;32m   1234\u001b[0m     \u001b[38;5;28;01mreturn\u001b[39;00m \u001b[38;5;28mself\u001b[39m\u001b[38;5;241m.\u001b[39m_values[label]\n\u001b[0;32m   1236\u001b[0m \u001b[38;5;66;03m# Similar to Index.get_value, but we do not fall back to positional\u001b[39;00m\n\u001b[1;32m-> 1237\u001b[0m loc \u001b[38;5;241m=\u001b[39m \u001b[38;5;28;43mself\u001b[39;49m\u001b[38;5;241;43m.\u001b[39;49m\u001b[43mindex\u001b[49m\u001b[38;5;241;43m.\u001b[39;49m\u001b[43mget_loc\u001b[49m\u001b[43m(\u001b[49m\u001b[43mlabel\u001b[49m\u001b[43m)\u001b[49m\n\u001b[0;32m   1239\u001b[0m \u001b[38;5;28;01mif\u001b[39;00m is_integer(loc):\n\u001b[0;32m   1240\u001b[0m     \u001b[38;5;28;01mreturn\u001b[39;00m \u001b[38;5;28mself\u001b[39m\u001b[38;5;241m.\u001b[39m_values[loc]\n",
            "File \u001b[1;32mc:\\Users\\earthbert\\University\\PRNP\\.venv\\Lib\\site-packages\\pandas\\core\\indexes\\base.py:3812\u001b[0m, in \u001b[0;36mIndex.get_loc\u001b[1;34m(self, key)\u001b[0m\n\u001b[0;32m   3807\u001b[0m     \u001b[38;5;28;01mif\u001b[39;00m \u001b[38;5;28misinstance\u001b[39m(casted_key, \u001b[38;5;28mslice\u001b[39m) \u001b[38;5;129;01mor\u001b[39;00m (\n\u001b[0;32m   3808\u001b[0m         \u001b[38;5;28misinstance\u001b[39m(casted_key, abc\u001b[38;5;241m.\u001b[39mIterable)\n\u001b[0;32m   3809\u001b[0m         \u001b[38;5;129;01mand\u001b[39;00m \u001b[38;5;28many\u001b[39m(\u001b[38;5;28misinstance\u001b[39m(x, \u001b[38;5;28mslice\u001b[39m) \u001b[38;5;28;01mfor\u001b[39;00m x \u001b[38;5;129;01min\u001b[39;00m casted_key)\n\u001b[0;32m   3810\u001b[0m     ):\n\u001b[0;32m   3811\u001b[0m         \u001b[38;5;28;01mraise\u001b[39;00m InvalidIndexError(key)\n\u001b[1;32m-> 3812\u001b[0m     \u001b[38;5;28;01mraise\u001b[39;00m \u001b[38;5;167;01mKeyError\u001b[39;00m(key) \u001b[38;5;28;01mfrom\u001b[39;00m \u001b[38;5;21;01merr\u001b[39;00m\n\u001b[0;32m   3813\u001b[0m \u001b[38;5;28;01mexcept\u001b[39;00m \u001b[38;5;167;01mTypeError\u001b[39;00m:\n\u001b[0;32m   3814\u001b[0m     \u001b[38;5;66;03m# If we have a listlike key, _check_indexing_error will raise\u001b[39;00m\n\u001b[0;32m   3815\u001b[0m     \u001b[38;5;66;03m#  InvalidIndexError. Otherwise we fall through and re-raise\u001b[39;00m\n\u001b[0;32m   3816\u001b[0m     \u001b[38;5;66;03m#  the TypeError.\u001b[39;00m\n\u001b[0;32m   3817\u001b[0m     \u001b[38;5;28mself\u001b[39m\u001b[38;5;241m.\u001b[39m_check_indexing_error(key)\n",
            "\u001b[1;31mKeyError\u001b[0m: 0"
          ]
        }
      ],
      "source": [
        "s = pd.Series({20: 'John',\n",
        "               21: 'Claire',\n",
        "               22: 'Chloe'})\n",
        "s[0]"
      ]
    },
    {
      "cell_type": "markdown",
      "metadata": {
        "id": "UPtAryup-stN"
      },
      "source": [
        "Pentru a nu ne lovi de aceasta eroare vom folosi atributul iloc pentru a accesa primul element din Series."
      ]
    },
    {
      "cell_type": "code",
      "execution_count": 51,
      "metadata": {
        "colab": {
          "base_uri": "https://localhost:8080/",
          "height": 35
        },
        "id": "ED6R5sbC-1vf",
        "outputId": "b80843db-b176-48e3-8064-b09a09a832b7"
      },
      "outputs": [
        {
          "data": {
            "text/plain": [
              "'John'"
            ]
          },
          "execution_count": 51,
          "metadata": {},
          "output_type": "execute_result"
        }
      ],
      "source": [
        "s.iloc[0]"
      ]
    },
    {
      "cell_type": "markdown",
      "metadata": {
        "id": "wgE8_aCTnS-b"
      },
      "source": [
        "## DataFrame\n",
        "\n",
        "DataFrame este structura cea mai folosita din Pandas.\n",
        "\n",
        "Reprezinta un array *bidimensional* indexat (numeric sau nominal), in care o linie indica valori pentru o anumita intrare in setul de date, iar o coloana marcheaza elementul masurat. Astfel, valorile de pe o linie *pot* avea tipuri de date diferite, insa cele de pe o coloana *trebuie* sa fie omogene."
      ]
    },
    {
      "cell_type": "markdown",
      "metadata": {
        "id": "Gl4En2eDXrha"
      },
      "source": [
        "### Cum putem crea un DataFrame?"
      ]
    },
    {
      "cell_type": "markdown",
      "metadata": {
        "id": "ApCQ3DN-X5pm"
      },
      "source": [
        "#### 1. Pornind de la un *dictionar* / o *lista de dictionare*"
      ]
    },
    {
      "cell_type": "code",
      "execution_count": 270,
      "metadata": {
        "colab": {
          "base_uri": "https://localhost:8080/",
          "height": 112
        },
        "id": "yw0PdK0a_2O4",
        "outputId": "31a36a5b-52d9-44b6-ac80-c1fdf96793c8"
      },
      "outputs": [
        {
          "data": {
            "text/html": [
              "<div>\n",
              "<style scoped>\n",
              "    .dataframe tbody tr th:only-of-type {\n",
              "        vertical-align: middle;\n",
              "    }\n",
              "\n",
              "    .dataframe tbody tr th {\n",
              "        vertical-align: top;\n",
              "    }\n",
              "\n",
              "    .dataframe thead th {\n",
              "        text-align: right;\n",
              "    }\n",
              "</style>\n",
              "<table border=\"1\" class=\"dataframe\">\n",
              "  <thead>\n",
              "    <tr style=\"text-align: right;\">\n",
              "      <th></th>\n",
              "      <th>Subject</th>\n",
              "      <th>Credits</th>\n",
              "    </tr>\n",
              "  </thead>\n",
              "  <tbody>\n",
              "    <tr>\n",
              "      <th>0</th>\n",
              "      <td>Computer Programming</td>\n",
              "      <td>5</td>\n",
              "    </tr>\n",
              "    <tr>\n",
              "      <th>1</th>\n",
              "      <td>Data Structures</td>\n",
              "      <td>5</td>\n",
              "    </tr>\n",
              "  </tbody>\n",
              "</table>\n",
              "</div>"
            ],
            "text/plain": [
              "                Subject Credits\n",
              "0  Computer Programming       5\n",
              "1       Data Structures       5"
            ]
          },
          "execution_count": 270,
          "metadata": {},
          "output_type": "execute_result"
        }
      ],
      "source": [
        "import pandas as pd\n",
        "import numpy as np\n",
        "\n",
        "# dictionar\n",
        "subjects = {\"Subject\": [\"Computer Programming\", \"Data Structures\"],\\\n",
        "            \"Credits\": [\"5\", \"5\"]}\n",
        "df = pd.DataFrame(subjects)\n",
        "df\n"
      ]
    },
    {
      "cell_type": "markdown",
      "metadata": {
        "id": "ILMJ9EkFiYIZ"
      },
      "source": [
        "In exemplul precedent, indecsii iau automat valori numerice pornind de la 0.\n",
        "\n",
        "Avem insa posibilitatea de a seta indexul dataframe-ului *la momentul crearii* prin argumentul ***index=***:"
      ]
    },
    {
      "cell_type": "code",
      "execution_count": 271,
      "metadata": {
        "colab": {
          "base_uri": "https://localhost:8080/",
          "height": 112
        },
        "id": "GF12EDRbh5U2",
        "outputId": "60a8860c-2961-42e3-ed5a-765f04318a6a"
      },
      "outputs": [
        {
          "data": {
            "text/html": [
              "<div>\n",
              "<style scoped>\n",
              "    .dataframe tbody tr th:only-of-type {\n",
              "        vertical-align: middle;\n",
              "    }\n",
              "\n",
              "    .dataframe tbody tr th {\n",
              "        vertical-align: top;\n",
              "    }\n",
              "\n",
              "    .dataframe thead th {\n",
              "        text-align: right;\n",
              "    }\n",
              "</style>\n",
              "<table border=\"1\" class=\"dataframe\">\n",
              "  <thead>\n",
              "    <tr style=\"text-align: right;\">\n",
              "      <th></th>\n",
              "      <th>Subject</th>\n",
              "      <th>Credits</th>\n",
              "    </tr>\n",
              "  </thead>\n",
              "  <tbody>\n",
              "    <tr>\n",
              "      <th>S1</th>\n",
              "      <td>Computer Programming</td>\n",
              "      <td>5</td>\n",
              "    </tr>\n",
              "    <tr>\n",
              "      <th>S2</th>\n",
              "      <td>Data Structures</td>\n",
              "      <td>5</td>\n",
              "    </tr>\n",
              "  </tbody>\n",
              "</table>\n",
              "</div>"
            ],
            "text/plain": [
              "                 Subject Credits\n",
              "S1  Computer Programming       5\n",
              "S2       Data Structures       5"
            ]
          },
          "execution_count": 271,
          "metadata": {},
          "output_type": "execute_result"
        }
      ],
      "source": [
        "df = pd.DataFrame(subjects, index=[\"S1\", \"S2\"])\n",
        "df"
      ]
    },
    {
      "cell_type": "markdown",
      "metadata": {
        "id": "i-_uGeVSjMND"
      },
      "source": [
        "Indexul mai poate fi setat la o coloana existenta folosind ***.set_index(\"column_name\")***:"
      ]
    },
    {
      "cell_type": "code",
      "execution_count": 272,
      "metadata": {
        "colab": {
          "base_uri": "https://localhost:8080/",
          "height": 143
        },
        "id": "Nmx318_yhGCH",
        "outputId": "8f4fbbf1-8dbc-4a07-a52a-a2ce9aca6b86"
      },
      "outputs": [
        {
          "data": {
            "text/html": [
              "<div>\n",
              "<style scoped>\n",
              "    .dataframe tbody tr th:only-of-type {\n",
              "        vertical-align: middle;\n",
              "    }\n",
              "\n",
              "    .dataframe tbody tr th {\n",
              "        vertical-align: top;\n",
              "    }\n",
              "\n",
              "    .dataframe thead th {\n",
              "        text-align: right;\n",
              "    }\n",
              "</style>\n",
              "<table border=\"1\" class=\"dataframe\">\n",
              "  <thead>\n",
              "    <tr style=\"text-align: right;\">\n",
              "      <th></th>\n",
              "      <th>Subject</th>\n",
              "      <th>Score</th>\n",
              "    </tr>\n",
              "    <tr>\n",
              "      <th>Name</th>\n",
              "      <th></th>\n",
              "      <th></th>\n",
              "    </tr>\n",
              "  </thead>\n",
              "  <tbody>\n",
              "    <tr>\n",
              "      <th>Alice</th>\n",
              "      <td>Computer Programming</td>\n",
              "      <td>90</td>\n",
              "    </tr>\n",
              "    <tr>\n",
              "      <th>Bob</th>\n",
              "      <td>Computer Programming</td>\n",
              "      <td>88</td>\n",
              "    </tr>\n",
              "  </tbody>\n",
              "</table>\n",
              "</div>"
            ],
            "text/plain": [
              "                    Subject  Score\n",
              "Name                              \n",
              "Alice  Computer Programming     90\n",
              "Bob    Computer Programming     88"
            ]
          },
          "execution_count": 272,
          "metadata": {},
          "output_type": "execute_result"
        }
      ],
      "source": [
        "# lista de dictionare\n",
        "students = [{\"Name\": \"Alice\", \"Subject\": \"Computer Programming\", \"Score\": 90},\\\n",
        "            {\"Name\": \"Bob\", \"Subject\": \"Computer Programming\", \"Score\": 88}]\n",
        "df = pd.DataFrame(students)\n",
        "df.set_index(\"Name\")"
      ]
    },
    {
      "cell_type": "markdown",
      "metadata": {
        "id": "gYYX4I81md-y"
      },
      "source": [
        "Putem reseta indecsii la valorile initiale cu ajutorul ***.reset_index()***:"
      ]
    },
    {
      "cell_type": "code",
      "execution_count": 273,
      "metadata": {
        "colab": {
          "base_uri": "https://localhost:8080/",
          "height": 112
        },
        "id": "HMUxFAwzm2--",
        "outputId": "7cc9a32d-19f7-4830-a65d-1200c55a0b79"
      },
      "outputs": [
        {
          "data": {
            "text/html": [
              "<div>\n",
              "<style scoped>\n",
              "    .dataframe tbody tr th:only-of-type {\n",
              "        vertical-align: middle;\n",
              "    }\n",
              "\n",
              "    .dataframe tbody tr th {\n",
              "        vertical-align: top;\n",
              "    }\n",
              "\n",
              "    .dataframe thead th {\n",
              "        text-align: right;\n",
              "    }\n",
              "</style>\n",
              "<table border=\"1\" class=\"dataframe\">\n",
              "  <thead>\n",
              "    <tr style=\"text-align: right;\">\n",
              "      <th></th>\n",
              "      <th>Name</th>\n",
              "      <th>Subject</th>\n",
              "      <th>Score</th>\n",
              "    </tr>\n",
              "  </thead>\n",
              "  <tbody>\n",
              "    <tr>\n",
              "      <th>0</th>\n",
              "      <td>Alice</td>\n",
              "      <td>Computer Programming</td>\n",
              "      <td>90</td>\n",
              "    </tr>\n",
              "    <tr>\n",
              "      <th>1</th>\n",
              "      <td>Bob</td>\n",
              "      <td>Computer Programming</td>\n",
              "      <td>88</td>\n",
              "    </tr>\n",
              "  </tbody>\n",
              "</table>\n",
              "</div>"
            ],
            "text/plain": [
              "    Name               Subject  Score\n",
              "0  Alice  Computer Programming     90\n",
              "1    Bob  Computer Programming     88"
            ]
          },
          "execution_count": 273,
          "metadata": {},
          "output_type": "execute_result"
        }
      ],
      "source": [
        "df.reset_index()\n",
        "df"
      ]
    },
    {
      "cell_type": "markdown",
      "metadata": {
        "id": "T8T7d0cpYHw0"
      },
      "source": [
        "#### 2. Pornind de la un *NumPy ndarray*"
      ]
    },
    {
      "cell_type": "code",
      "execution_count": 274,
      "metadata": {
        "colab": {
          "base_uri": "https://localhost:8080/",
          "height": 112
        },
        "id": "m8hr3JLJYbgR",
        "outputId": "5b400372-62a3-4026-eba0-b58b5e4ae078"
      },
      "outputs": [
        {
          "data": {
            "text/html": [
              "<div>\n",
              "<style scoped>\n",
              "    .dataframe tbody tr th:only-of-type {\n",
              "        vertical-align: middle;\n",
              "    }\n",
              "\n",
              "    .dataframe tbody tr th {\n",
              "        vertical-align: top;\n",
              "    }\n",
              "\n",
              "    .dataframe thead th {\n",
              "        text-align: right;\n",
              "    }\n",
              "</style>\n",
              "<table border=\"1\" class=\"dataframe\">\n",
              "  <thead>\n",
              "    <tr style=\"text-align: right;\">\n",
              "      <th></th>\n",
              "      <th>Subject</th>\n",
              "      <th>Score</th>\n",
              "    </tr>\n",
              "  </thead>\n",
              "  <tbody>\n",
              "    <tr>\n",
              "      <th>Alice</th>\n",
              "      <td>Computer Programming</td>\n",
              "      <td>90</td>\n",
              "    </tr>\n",
              "    <tr>\n",
              "      <th>Bob</th>\n",
              "      <td>Computer Programming</td>\n",
              "      <td>88</td>\n",
              "    </tr>\n",
              "  </tbody>\n",
              "</table>\n",
              "</div>"
            ],
            "text/plain": [
              "                    Subject Score\n",
              "Alice  Computer Programming    90\n",
              "Bob    Computer Programming    88"
            ]
          },
          "execution_count": 274,
          "metadata": {},
          "output_type": "execute_result"
        }
      ],
      "source": [
        "students = np.array([[\"\", 'Subject', 'Score'],\n",
        "                [\"Alice\", \"Computer Programming\", 90],\n",
        "                [\"Bob\", \"Computer Programming\", 88]])\n",
        "\n",
        "df = pd.DataFrame(data=students[1:, 1:],\\\n",
        "                  index=students[1:, 0],\\\n",
        "                  columns=students[0, 1:])\n",
        "df"
      ]
    },
    {
      "cell_type": "markdown",
      "metadata": {
        "id": "C33-LNbDYccg"
      },
      "source": [
        "#### 3. Pornind de la Pandas *Series*"
      ]
    },
    {
      "cell_type": "code",
      "execution_count": 275,
      "metadata": {
        "colab": {
          "base_uri": "https://localhost:8080/"
        },
        "id": "Ov7kiSRwYfT4",
        "outputId": "52e5a93b-4b8a-450f-9db5-a607de8fed35"
      },
      "outputs": [
        {
          "data": {
            "text/plain": [
              "0     Computer Programming\n",
              "1          Data Structures\n",
              "2                      OOP\n",
              "3    Programming Paradigms\n",
              "dtype: object"
            ]
          },
          "execution_count": 275,
          "metadata": {},
          "output_type": "execute_result"
        }
      ],
      "source": [
        "# creare a unei pd.Series pornind de la o lista\n",
        "subjects = pd.Series([\"Computer Programming\", \"Data Structures\",\\\n",
        "                      \"OOP\", \"Programming Paradigms\"])\n",
        "subjects"
      ]
    },
    {
      "cell_type": "code",
      "execution_count": 276,
      "metadata": {
        "colab": {
          "base_uri": "https://localhost:8080/",
          "height": 175
        },
        "id": "CA5R9r5lpBGM",
        "outputId": "3d85cb06-5bdf-4766-f162-04140415644f"
      },
      "outputs": [
        {
          "data": {
            "text/html": [
              "<div>\n",
              "<style scoped>\n",
              "    .dataframe tbody tr th:only-of-type {\n",
              "        vertical-align: middle;\n",
              "    }\n",
              "\n",
              "    .dataframe tbody tr th {\n",
              "        vertical-align: top;\n",
              "    }\n",
              "\n",
              "    .dataframe thead th {\n",
              "        text-align: right;\n",
              "    }\n",
              "</style>\n",
              "<table border=\"1\" class=\"dataframe\">\n",
              "  <thead>\n",
              "    <tr style=\"text-align: right;\">\n",
              "      <th></th>\n",
              "      <th>Subject</th>\n",
              "    </tr>\n",
              "  </thead>\n",
              "  <tbody>\n",
              "    <tr>\n",
              "      <th>0</th>\n",
              "      <td>Computer Programming</td>\n",
              "    </tr>\n",
              "    <tr>\n",
              "      <th>1</th>\n",
              "      <td>Data Structures</td>\n",
              "    </tr>\n",
              "    <tr>\n",
              "      <th>2</th>\n",
              "      <td>OOP</td>\n",
              "    </tr>\n",
              "    <tr>\n",
              "      <th>3</th>\n",
              "      <td>Programming Paradigms</td>\n",
              "    </tr>\n",
              "  </tbody>\n",
              "</table>\n",
              "</div>"
            ],
            "text/plain": [
              "                 Subject\n",
              "0   Computer Programming\n",
              "1        Data Structures\n",
              "2                    OOP\n",
              "3  Programming Paradigms"
            ]
          },
          "execution_count": 276,
          "metadata": {},
          "output_type": "execute_result"
        }
      ],
      "source": [
        "df = pd.DataFrame(subjects, columns=[\"Subject\"])\n",
        "df"
      ]
    },
    {
      "cell_type": "markdown",
      "metadata": {
        "id": "VqWSjtqZYwmk"
      },
      "source": [
        "#### 4. Citind dataset-ul dintr-un *fisier* (.csv, .json, .xlsx etc.)"
      ]
    },
    {
      "cell_type": "code",
      "execution_count": 277,
      "metadata": {
        "colab": {
          "base_uri": "https://localhost:8080/",
          "height": 206
        },
        "id": "6zx2wQC7mPfe",
        "outputId": "5a195993-351a-437c-e351-a9a37a899cdd"
      },
      "outputs": [
        {
          "data": {
            "text/html": [
              "<div>\n",
              "<style scoped>\n",
              "    .dataframe tbody tr th:only-of-type {\n",
              "        vertical-align: middle;\n",
              "    }\n",
              "\n",
              "    .dataframe tbody tr th {\n",
              "        vertical-align: top;\n",
              "    }\n",
              "\n",
              "    .dataframe thead th {\n",
              "        text-align: right;\n",
              "    }\n",
              "</style>\n",
              "<table border=\"1\" class=\"dataframe\">\n",
              "  <thead>\n",
              "    <tr style=\"text-align: right;\">\n",
              "      <th></th>\n",
              "      <th>datetime</th>\n",
              "      <th>host</th>\n",
              "      <th>src</th>\n",
              "      <th>proto</th>\n",
              "      <th>type</th>\n",
              "      <th>spt</th>\n",
              "      <th>dpt</th>\n",
              "      <th>srcstr</th>\n",
              "      <th>country</th>\n",
              "      <th>locale</th>\n",
              "      <th>latitude</th>\n",
              "      <th>longitude</th>\n",
              "    </tr>\n",
              "  </thead>\n",
              "  <tbody>\n",
              "    <tr>\n",
              "      <th>0</th>\n",
              "      <td>3/8/13 1:11</td>\n",
              "      <td>groucho-tokyo</td>\n",
              "      <td>1398184219</td>\n",
              "      <td>TCP</td>\n",
              "      <td>NaN</td>\n",
              "      <td>2065.0</td>\n",
              "      <td>23.0</td>\n",
              "      <td>83.86.153.27</td>\n",
              "      <td>Netherlands</td>\n",
              "      <td>South Holland</td>\n",
              "      <td>52.1763</td>\n",
              "      <td>4.5282</td>\n",
              "    </tr>\n",
              "    <tr>\n",
              "      <th>1</th>\n",
              "      <td>3/8/13 1:12</td>\n",
              "      <td>groucho-tokyo</td>\n",
              "      <td>1393252776</td>\n",
              "      <td>TCP</td>\n",
              "      <td>NaN</td>\n",
              "      <td>4667.0</td>\n",
              "      <td>23.0</td>\n",
              "      <td>83.11.89.168</td>\n",
              "      <td>Poland</td>\n",
              "      <td>Kujawsko-Pomorskie</td>\n",
              "      <td>52.5931</td>\n",
              "      <td>19.0894</td>\n",
              "    </tr>\n",
              "    <tr>\n",
              "      <th>2</th>\n",
              "      <td>3/8/13 1:14</td>\n",
              "      <td>groucho-sa</td>\n",
              "      <td>3662430566</td>\n",
              "      <td>ICMP</td>\n",
              "      <td>8.0</td>\n",
              "      <td>NaN</td>\n",
              "      <td>NaN</td>\n",
              "      <td>218.76.65.102</td>\n",
              "      <td>China</td>\n",
              "      <td>Hunan</td>\n",
              "      <td>28.1792</td>\n",
              "      <td>113.1136</td>\n",
              "    </tr>\n",
              "    <tr>\n",
              "      <th>3</th>\n",
              "      <td>3/8/13 1:14</td>\n",
              "      <td>groucho-sa</td>\n",
              "      <td>3662430566</td>\n",
              "      <td>ICMP</td>\n",
              "      <td>8.0</td>\n",
              "      <td>NaN</td>\n",
              "      <td>NaN</td>\n",
              "      <td>218.76.65.102</td>\n",
              "      <td>China</td>\n",
              "      <td>Hunan</td>\n",
              "      <td>28.1792</td>\n",
              "      <td>113.1136</td>\n",
              "    </tr>\n",
              "    <tr>\n",
              "      <th>4</th>\n",
              "      <td>3/8/13 1:16</td>\n",
              "      <td>groucho-tokyo</td>\n",
              "      <td>411470328</td>\n",
              "      <td>TCP</td>\n",
              "      <td>NaN</td>\n",
              "      <td>3422.0</td>\n",
              "      <td>23.0</td>\n",
              "      <td>24.134.137.248</td>\n",
              "      <td>Germany</td>\n",
              "      <td>Lower Saxony</td>\n",
              "      <td>53.5568</td>\n",
              "      <td>8.1266</td>\n",
              "    </tr>\n",
              "  </tbody>\n",
              "</table>\n",
              "</div>"
            ],
            "text/plain": [
              "      datetime           host         src proto  type     spt   dpt  \\\n",
              "0  3/8/13 1:11  groucho-tokyo  1398184219   TCP   NaN  2065.0  23.0   \n",
              "1  3/8/13 1:12  groucho-tokyo  1393252776   TCP   NaN  4667.0  23.0   \n",
              "2  3/8/13 1:14     groucho-sa  3662430566  ICMP   8.0     NaN   NaN   \n",
              "3  3/8/13 1:14     groucho-sa  3662430566  ICMP   8.0     NaN   NaN   \n",
              "4  3/8/13 1:16  groucho-tokyo   411470328   TCP   NaN  3422.0  23.0   \n",
              "\n",
              "           srcstr      country              locale  latitude  longitude  \n",
              "0    83.86.153.27  Netherlands       South Holland   52.1763     4.5282  \n",
              "1    83.11.89.168       Poland  Kujawsko-Pomorskie   52.5931    19.0894  \n",
              "2   218.76.65.102        China               Hunan   28.1792   113.1136  \n",
              "3   218.76.65.102        China               Hunan   28.1792   113.1136  \n",
              "4  24.134.137.248      Germany        Lower Saxony   53.5568     8.1266  "
            ]
          },
          "execution_count": 277,
          "metadata": {},
          "output_type": "execute_result"
        }
      ],
      "source": [
        "df = pd.read_csv(\"dataset/AWS_Honeypot.csv\")\n",
        "df.head()"
      ]
    },
    {
      "cell_type": "markdown",
      "metadata": {
        "id": "CZq1QjkAqKlJ"
      },
      "source": [
        "Cum putem afla informatii despre dataframe-ul creat?"
      ]
    },
    {
      "cell_type": "code",
      "execution_count": 278,
      "metadata": {
        "id": "B8r4fdl7qKlJ",
        "outputId": "b94bb682-eb04-4efa-ccc2-e5eb1286e99f"
      },
      "outputs": [
        {
          "name": "stdout",
          "output_type": "stream",
          "text": [
            "<class 'pandas.core.frame.DataFrame'>\n",
            "RangeIndex: 444 entries, 0 to 443\n",
            "Data columns (total 12 columns):\n",
            " #   Column     Non-Null Count  Dtype  \n",
            "---  ------     --------------  -----  \n",
            " 0   datetime   444 non-null    object \n",
            " 1   host       444 non-null    object \n",
            " 2   src        444 non-null    int64  \n",
            " 3   proto      444 non-null    object \n",
            " 4   type       56 non-null     float64\n",
            " 5   spt        388 non-null    float64\n",
            " 6   dpt        388 non-null    float64\n",
            " 7   srcstr     444 non-null    object \n",
            " 8   country    434 non-null    object \n",
            " 9   locale     380 non-null    object \n",
            " 10  latitude   443 non-null    float64\n",
            " 11  longitude  443 non-null    float64\n",
            "dtypes: float64(5), int64(1), object(6)\n",
            "memory usage: 41.8+ KB\n"
          ]
        }
      ],
      "source": [
        "df.info()"
      ]
    },
    {
      "cell_type": "markdown",
      "metadata": {
        "id": "6jH0WimnqKlJ"
      },
      "source": [
        "Acest apel de **df.info()** ne va da mai multe detalii precum coloanele ce le contine dataframe-ul creat de noi, tipurile datelor stocate pe acele coloane, numarul de valori ce nu sunt\n",
        "nule pe acele coloane, cat si memoria pe care o ocupa dataframe-ul nostru. \\\n",
        "De retinut: **memoria utilizata de dataframe** ce este intoarsa de **df.info()** este **memorie principala (RAM)** pentru ca *pandas* incarca dataframe-ul in RAM. Acest lucru poate fi costisitor si poate deveni un *bottleneck* in momentul in care lucram cu *Big Data*. \\\n",
        "Daca, totusi, dorim sa lucram cu date care sunt generate continuu, putem folosi Dask [1] sau PySpark [2]."
      ]
    },
    {
      "cell_type": "markdown",
      "metadata": {
        "id": "vP_zyEETqKlJ"
      },
      "source": [
        "## Valori Lipsa\n",
        "\n",
        "In practica, putem intalni seturi de date cu valori lipsa. Un data scientist va deduce semnificatia acestora sau le va elimina in procesul de *data cleaning*.\n",
        "\n",
        "NumPy foloseste ***np.nan*** pentru a indica valori lipsa. NaN (Not a Number) este o valoare de tip float in standardul IEEE, fapt ce permite utilizarea operatiilor matematice asupra structurilor care o contin. Toate operatiile efectuate asupra unor structuri ce contin NaN vor intoarce, la randul lor, NaN.\n",
        "\n",
        "*Atentie!* np.nan este diferit de None, obiect de tip NoneType care nu accepta operatii matematice."
      ]
    },
    {
      "cell_type": "code",
      "execution_count": 279,
      "metadata": {
        "id": "cDsd9CuPqKlJ"
      },
      "outputs": [
        {
          "name": "stdout",
          "output_type": "stream",
          "text": [
            "False\n"
          ]
        }
      ],
      "source": [
        "a = None\n",
        "b = np.nan\n",
        "print(a is b)"
      ]
    },
    {
      "cell_type": "code",
      "execution_count": 280,
      "metadata": {
        "id": "Q9BIczqdqKlJ"
      },
      "outputs": [
        {
          "name": "stdout",
          "output_type": "stream",
          "text": [
            "nan\n"
          ]
        }
      ],
      "source": [
        "floats = np.array([2, np.nan, -1.3])\n",
        "print(np.sum(floats))"
      ]
    },
    {
      "cell_type": "markdown",
      "metadata": {
        "id": "NuovooewqKlJ"
      },
      "source": [
        "Pentru a verifica daca o structura contine sau nu valori lipsa, putem folosi *isnull()*."
      ]
    },
    {
      "cell_type": "code",
      "execution_count": 281,
      "metadata": {
        "id": "D2BGOMhtqKlJ"
      },
      "outputs": [
        {
          "data": {
            "text/plain": [
              "0    False\n",
              "1     True\n",
              "2    False\n",
              "3     True\n",
              "dtype: bool"
            ]
          },
          "execution_count": 281,
          "metadata": {},
          "output_type": "execute_result"
        }
      ],
      "source": [
        "series = pd.Series([\"Jack\", np.nan, \"Frank\", None])\n",
        "series.isnull()"
      ]
    },
    {
      "cell_type": "markdown",
      "metadata": {
        "id": "37r0w6gf_R-d"
      },
      "source": [
        "In momentul in care lucram cu valori lipsa trebuie sa avem o atentie sporita atunci cand este nevoie sa aplicam asupra lor functii statistice si de agregare din NumPy.\n",
        "\n",
        "Cel mai bun exemplu in acest sens este reprezentat de utilizarea functiilor precum np.average, np.mean, np.std. Daca aceste functii sunt aplicate pe un set de date care contine valori lipsa, rezultatul intors de ele va fi np.nan."
      ]
    },
    {
      "cell_type": "code",
      "execution_count": 282,
      "metadata": {
        "colab": {
          "base_uri": "https://localhost:8080/"
        },
        "id": "QzXjT8s4AACx",
        "outputId": "50fd6f3a-de30-472b-8120-286461ee3268"
      },
      "outputs": [
        {
          "data": {
            "text/plain": [
              "np.float64(nan)"
            ]
          },
          "execution_count": 282,
          "metadata": {},
          "output_type": "execute_result"
        }
      ],
      "source": [
        "np.average(floats)"
      ]
    },
    {
      "cell_type": "code",
      "execution_count": 283,
      "metadata": {
        "colab": {
          "base_uri": "https://localhost:8080/"
        },
        "id": "c0fBhY5HAwcW",
        "outputId": "16730c4f-5f0e-4f57-bf65-58fa9830fe0e"
      },
      "outputs": [
        {
          "data": {
            "text/plain": [
              "np.float64(nan)"
            ]
          },
          "execution_count": 283,
          "metadata": {},
          "output_type": "execute_result"
        }
      ],
      "source": [
        "np.mean(floats)"
      ]
    },
    {
      "cell_type": "markdown",
      "metadata": {
        "id": "F62kE4oTAQow"
      },
      "source": [
        "Pentru a putea aplica functiile statistice si de agregare pe care le dorim numai asupra datelor relevante au aparut functiile corespondente - np.nanmean, np.nanstd. Aceste functii sunt construite in asa mod incat sa nu ia in considerare valorile de tip np.nan in momentul calculului."
      ]
    },
    {
      "cell_type": "code",
      "execution_count": 284,
      "metadata": {
        "colab": {
          "base_uri": "https://localhost:8080/"
        },
        "id": "UFgDi9QVBwgj",
        "outputId": "565471a4-e561-4021-f481-8265b74210f8"
      },
      "outputs": [
        {
          "data": {
            "text/plain": [
              "np.float64(0.35)"
            ]
          },
          "execution_count": 284,
          "metadata": {},
          "output_type": "execute_result"
        }
      ],
      "source": [
        "np.nanmean(floats)"
      ]
    },
    {
      "cell_type": "code",
      "execution_count": 285,
      "metadata": {
        "colab": {
          "base_uri": "https://localhost:8080/"
        },
        "id": "C2DtPcg6Byzq",
        "outputId": "f29590fa-2581-40b3-9e07-756b52c1069b"
      },
      "outputs": [
        {
          "data": {
            "text/plain": [
              "np.float64(1.65)"
            ]
          },
          "execution_count": 285,
          "metadata": {},
          "output_type": "execute_result"
        }
      ],
      "source": [
        "np.nanstd(floats)"
      ]
    },
    {
      "cell_type": "markdown",
      "metadata": {
        "id": "-ilxol21ZUWw"
      },
      "source": [
        "### **Demo DataFrames**\n",
        "\n",
        "Vom folosi setul de date *AWS_Honeypot.csv*.\n",
        "\n",
        "#### *Ce este un Honeypot?*\n",
        "\n",
        "Un *honeypot* reprezinta un sistem atasat la retea drept \"momeala\" pentru atacurile cibernetice. Fiind intentionat vulnerabil, acesta face posibila detectarea, devierea si investigarea incercarilor neautorizate de a accesa informatii interne din sistemul principal. Masinile virtuale sunt deseori utilizate pentru a hosta honeypot-uri (pot fi usor restaurate daca sunt compromise).\n",
        "* *honeynet*: doua sau mai multe honeypot-uri\n",
        "* *honey farm*: colectie centralizata de honeypot-uri si instrumente de analiza a datelor\n",
        "\n",
        "![picture](imgs/picture2.jpg)\n",
        "\n",
        "In acest demo vom simula un analizor de honeypot.\n",
        "\n"
      ]
    },
    {
      "cell_type": "code",
      "execution_count": 286,
      "metadata": {
        "colab": {
          "base_uri": "https://localhost:8080/",
          "height": 206
        },
        "id": "6OWZuYj4g-au",
        "outputId": "49368f62-2662-4673-d1eb-78ed54bf87df"
      },
      "outputs": [
        {
          "data": {
            "text/html": [
              "<div>\n",
              "<style scoped>\n",
              "    .dataframe tbody tr th:only-of-type {\n",
              "        vertical-align: middle;\n",
              "    }\n",
              "\n",
              "    .dataframe tbody tr th {\n",
              "        vertical-align: top;\n",
              "    }\n",
              "\n",
              "    .dataframe thead th {\n",
              "        text-align: right;\n",
              "    }\n",
              "</style>\n",
              "<table border=\"1\" class=\"dataframe\">\n",
              "  <thead>\n",
              "    <tr style=\"text-align: right;\">\n",
              "      <th></th>\n",
              "      <th>datetime</th>\n",
              "      <th>host</th>\n",
              "      <th>src</th>\n",
              "      <th>proto</th>\n",
              "      <th>type</th>\n",
              "      <th>spt</th>\n",
              "      <th>dpt</th>\n",
              "      <th>srcstr</th>\n",
              "      <th>country</th>\n",
              "      <th>locale</th>\n",
              "      <th>latitude</th>\n",
              "      <th>longitude</th>\n",
              "    </tr>\n",
              "  </thead>\n",
              "  <tbody>\n",
              "    <tr>\n",
              "      <th>0</th>\n",
              "      <td>3/8/13 1:11</td>\n",
              "      <td>groucho-tokyo</td>\n",
              "      <td>1398184219</td>\n",
              "      <td>TCP</td>\n",
              "      <td>NaN</td>\n",
              "      <td>2065.0</td>\n",
              "      <td>23.0</td>\n",
              "      <td>83.86.153.27</td>\n",
              "      <td>Netherlands</td>\n",
              "      <td>South Holland</td>\n",
              "      <td>52.1763</td>\n",
              "      <td>4.5282</td>\n",
              "    </tr>\n",
              "    <tr>\n",
              "      <th>1</th>\n",
              "      <td>3/8/13 1:12</td>\n",
              "      <td>groucho-tokyo</td>\n",
              "      <td>1393252776</td>\n",
              "      <td>TCP</td>\n",
              "      <td>NaN</td>\n",
              "      <td>4667.0</td>\n",
              "      <td>23.0</td>\n",
              "      <td>83.11.89.168</td>\n",
              "      <td>Poland</td>\n",
              "      <td>Kujawsko-Pomorskie</td>\n",
              "      <td>52.5931</td>\n",
              "      <td>19.0894</td>\n",
              "    </tr>\n",
              "    <tr>\n",
              "      <th>2</th>\n",
              "      <td>3/8/13 1:14</td>\n",
              "      <td>groucho-sa</td>\n",
              "      <td>3662430566</td>\n",
              "      <td>ICMP</td>\n",
              "      <td>8.0</td>\n",
              "      <td>NaN</td>\n",
              "      <td>NaN</td>\n",
              "      <td>218.76.65.102</td>\n",
              "      <td>China</td>\n",
              "      <td>Hunan</td>\n",
              "      <td>28.1792</td>\n",
              "      <td>113.1136</td>\n",
              "    </tr>\n",
              "    <tr>\n",
              "      <th>3</th>\n",
              "      <td>3/8/13 1:14</td>\n",
              "      <td>groucho-sa</td>\n",
              "      <td>3662430566</td>\n",
              "      <td>ICMP</td>\n",
              "      <td>8.0</td>\n",
              "      <td>NaN</td>\n",
              "      <td>NaN</td>\n",
              "      <td>218.76.65.102</td>\n",
              "      <td>China</td>\n",
              "      <td>Hunan</td>\n",
              "      <td>28.1792</td>\n",
              "      <td>113.1136</td>\n",
              "    </tr>\n",
              "    <tr>\n",
              "      <th>4</th>\n",
              "      <td>3/8/13 1:16</td>\n",
              "      <td>groucho-tokyo</td>\n",
              "      <td>411470328</td>\n",
              "      <td>TCP</td>\n",
              "      <td>NaN</td>\n",
              "      <td>3422.0</td>\n",
              "      <td>23.0</td>\n",
              "      <td>24.134.137.248</td>\n",
              "      <td>Germany</td>\n",
              "      <td>Lower Saxony</td>\n",
              "      <td>53.5568</td>\n",
              "      <td>8.1266</td>\n",
              "    </tr>\n",
              "  </tbody>\n",
              "</table>\n",
              "</div>"
            ],
            "text/plain": [
              "      datetime           host         src proto  type     spt   dpt  \\\n",
              "0  3/8/13 1:11  groucho-tokyo  1398184219   TCP   NaN  2065.0  23.0   \n",
              "1  3/8/13 1:12  groucho-tokyo  1393252776   TCP   NaN  4667.0  23.0   \n",
              "2  3/8/13 1:14     groucho-sa  3662430566  ICMP   8.0     NaN   NaN   \n",
              "3  3/8/13 1:14     groucho-sa  3662430566  ICMP   8.0     NaN   NaN   \n",
              "4  3/8/13 1:16  groucho-tokyo   411470328   TCP   NaN  3422.0  23.0   \n",
              "\n",
              "           srcstr      country              locale  latitude  longitude  \n",
              "0    83.86.153.27  Netherlands       South Holland   52.1763     4.5282  \n",
              "1    83.11.89.168       Poland  Kujawsko-Pomorskie   52.5931    19.0894  \n",
              "2   218.76.65.102        China               Hunan   28.1792   113.1136  \n",
              "3   218.76.65.102        China               Hunan   28.1792   113.1136  \n",
              "4  24.134.137.248      Germany        Lower Saxony   53.5568     8.1266  "
            ]
          },
          "execution_count": 286,
          "metadata": {},
          "output_type": "execute_result"
        }
      ],
      "source": [
        "import pandas as pd\n",
        "import numpy as np\n",
        "\n",
        "# tinem datasetul honeypot intr-un dataframe\n",
        "honeypot = pd.read_csv(\"dataset/AWS_Honeypot.csv\")\n",
        "honeypot.head()"
      ]
    },
    {
      "cell_type": "markdown",
      "metadata": {
        "id": "vVx3cYsXkEY5"
      },
      "source": [
        "#### Cum accesam datele dintr-un dataframe?"
      ]
    },
    {
      "cell_type": "markdown",
      "metadata": {
        "id": "v90eAQ44EAhK"
      },
      "source": [
        "##### 1. ***iloc***\n",
        "\n",
        "In mod similar cu Series, atributul iloc[n] va intoarce a n-a inregistrare din tabel.\n",
        "\n",
        "Verificam data ultimei inregistrari din honeypot, inainte de restaurare:"
      ]
    },
    {
      "cell_type": "code",
      "execution_count": 287,
      "metadata": {
        "colab": {
          "base_uri": "https://localhost:8080/"
        },
        "id": "VlWiVFuPkZnV",
        "outputId": "985a4f02-3952-4b9c-b69a-75e4b41cdbfd"
      },
      "outputs": [
        {
          "data": {
            "text/plain": [
              "datetime           3/8/13 7:36\n",
              "host         groucho-singapore\n",
              "src                 3342555165\n",
              "proto                     ICMP\n",
              "type                       0.0\n",
              "spt                        NaN\n",
              "dpt                        NaN\n",
              "srcstr            199.59.88.29\n",
              "country          United States\n",
              "locale                Michigan\n",
              "latitude               42.5065\n",
              "longitude             -83.3491\n",
              "Name: 443, dtype: object"
            ]
          },
          "execution_count": 287,
          "metadata": {},
          "output_type": "execute_result"
        }
      ],
      "source": [
        "# va returna ultima intrare/rand din dataframe\n",
        "honeypot.iloc[-1]"
      ]
    },
    {
      "cell_type": "code",
      "execution_count": 288,
      "metadata": {
        "colab": {
          "base_uri": "https://localhost:8080/",
          "height": 36
        },
        "id": "mHZuO5YkPS6O",
        "outputId": "d7d7fbb6-d295-4300-fe13-6e53f087abde"
      },
      "outputs": [
        {
          "data": {
            "text/plain": [
              "'3/8/13 7:36'"
            ]
          },
          "execution_count": 288,
          "metadata": {},
          "output_type": "execute_result"
        }
      ],
      "source": [
        "# va returna primul element din ultima intrare din dataframe ce corespunde\n",
        "# \"datetime\"-ului\n",
        "honeypot.iloc[-1, 0]"
      ]
    },
    {
      "cell_type": "markdown",
      "metadata": {
        "id": "lMF_nqihFesi"
      },
      "source": [
        "##### 2. ***loc***\n",
        "\n",
        "Pentru a extrage datele despre toate atacurile cu sursa in Romania, putem indexa dupa tara, apoi selecta dupa label folosind atributul loc:"
      ]
    },
    {
      "cell_type": "code",
      "execution_count": 289,
      "metadata": {
        "colab": {
          "base_uri": "https://localhost:8080/",
          "height": 206
        },
        "id": "fSexY7t4G7Fq",
        "outputId": "4d03bb02-337e-4bbb-debe-985fcde27a02"
      },
      "outputs": [
        {
          "data": {
            "text/html": [
              "<div>\n",
              "<style scoped>\n",
              "    .dataframe tbody tr th:only-of-type {\n",
              "        vertical-align: middle;\n",
              "    }\n",
              "\n",
              "    .dataframe tbody tr th {\n",
              "        vertical-align: top;\n",
              "    }\n",
              "\n",
              "    .dataframe thead th {\n",
              "        text-align: right;\n",
              "    }\n",
              "</style>\n",
              "<table border=\"1\" class=\"dataframe\">\n",
              "  <thead>\n",
              "    <tr style=\"text-align: right;\">\n",
              "      <th></th>\n",
              "      <th>index</th>\n",
              "      <th>datetime</th>\n",
              "      <th>host</th>\n",
              "      <th>src</th>\n",
              "      <th>proto</th>\n",
              "      <th>type</th>\n",
              "      <th>spt</th>\n",
              "      <th>dpt</th>\n",
              "      <th>srcstr</th>\n",
              "      <th>locale</th>\n",
              "      <th>latitude</th>\n",
              "      <th>longitude</th>\n",
              "    </tr>\n",
              "    <tr>\n",
              "      <th>country</th>\n",
              "      <th></th>\n",
              "      <th></th>\n",
              "      <th></th>\n",
              "      <th></th>\n",
              "      <th></th>\n",
              "      <th></th>\n",
              "      <th></th>\n",
              "      <th></th>\n",
              "      <th></th>\n",
              "      <th></th>\n",
              "      <th></th>\n",
              "      <th></th>\n",
              "    </tr>\n",
              "  </thead>\n",
              "  <tbody>\n",
              "    <tr>\n",
              "      <th>Romania</th>\n",
              "      <td>8</td>\n",
              "      <td>3/8/13 1:19</td>\n",
              "      <td>groucho-tokyo</td>\n",
              "      <td>1598862399</td>\n",
              "      <td>TCP</td>\n",
              "      <td>NaN</td>\n",
              "      <td>3221.0</td>\n",
              "      <td>445.0</td>\n",
              "      <td>95.76.180.63</td>\n",
              "      <td>Judetul Buzau</td>\n",
              "      <td>45.15</td>\n",
              "      <td>26.8333</td>\n",
              "    </tr>\n",
              "    <tr>\n",
              "      <th>Romania</th>\n",
              "      <td>9</td>\n",
              "      <td>3/8/13 1:20</td>\n",
              "      <td>groucho-tokyo</td>\n",
              "      <td>1598862399</td>\n",
              "      <td>TCP</td>\n",
              "      <td>NaN</td>\n",
              "      <td>3221.0</td>\n",
              "      <td>445.0</td>\n",
              "      <td>95.76.180.63</td>\n",
              "      <td>Judetul Buzau</td>\n",
              "      <td>45.15</td>\n",
              "      <td>26.8333</td>\n",
              "    </tr>\n",
              "    <tr>\n",
              "      <th>Romania</th>\n",
              "      <td>297</td>\n",
              "      <td>3/8/13 5:28</td>\n",
              "      <td>groucho-tokyo</td>\n",
              "      <td>1496007151</td>\n",
              "      <td>TCP</td>\n",
              "      <td>NaN</td>\n",
              "      <td>2991.0</td>\n",
              "      <td>445.0</td>\n",
              "      <td>89.43.65.239</td>\n",
              "      <td>Judetul Calarasi</td>\n",
              "      <td>44.20</td>\n",
              "      <td>27.3333</td>\n",
              "    </tr>\n",
              "    <tr>\n",
              "      <th>Romania</th>\n",
              "      <td>298</td>\n",
              "      <td>3/8/13 5:28</td>\n",
              "      <td>groucho-tokyo</td>\n",
              "      <td>1496007151</td>\n",
              "      <td>TCP</td>\n",
              "      <td>NaN</td>\n",
              "      <td>2991.0</td>\n",
              "      <td>445.0</td>\n",
              "      <td>89.43.65.239</td>\n",
              "      <td>Judetul Calarasi</td>\n",
              "      <td>44.20</td>\n",
              "      <td>27.3333</td>\n",
              "    </tr>\n",
              "  </tbody>\n",
              "</table>\n",
              "</div>"
            ],
            "text/plain": [
              "         index     datetime           host         src proto  type     spt  \\\n",
              "country                                                                      \n",
              "Romania      8  3/8/13 1:19  groucho-tokyo  1598862399   TCP   NaN  3221.0   \n",
              "Romania      9  3/8/13 1:20  groucho-tokyo  1598862399   TCP   NaN  3221.0   \n",
              "Romania    297  3/8/13 5:28  groucho-tokyo  1496007151   TCP   NaN  2991.0   \n",
              "Romania    298  3/8/13 5:28  groucho-tokyo  1496007151   TCP   NaN  2991.0   \n",
              "\n",
              "           dpt        srcstr            locale  latitude  longitude  \n",
              "country                                                              \n",
              "Romania  445.0  95.76.180.63     Judetul Buzau     45.15    26.8333  \n",
              "Romania  445.0  95.76.180.63     Judetul Buzau     45.15    26.8333  \n",
              "Romania  445.0  89.43.65.239  Judetul Calarasi     44.20    27.3333  \n",
              "Romania  445.0  89.43.65.239  Judetul Calarasi     44.20    27.3333  "
            ]
          },
          "execution_count": 289,
          "metadata": {},
          "output_type": "execute_result"
        }
      ],
      "source": [
        "honeypot.reset_index(inplace=True)\n",
        "honeypot.set_index(\"country\", inplace=True)\n",
        "honeypot.loc[\"Romania\"]"
      ]
    },
    {
      "cell_type": "code",
      "execution_count": 290,
      "metadata": {
        "colab": {
          "base_uri": "https://localhost:8080/"
        },
        "id": "FQzuo_7NVnJG",
        "outputId": "2f51bb7d-16a6-45eb-c2b3-8610170b6572"
      },
      "outputs": [
        {
          "data": {
            "text/plain": [
              "country\n",
              "Romania       Judetul Buzau\n",
              "Romania    Judetul Calarasi\n",
              "Name: locale, dtype: object"
            ]
          },
          "execution_count": 290,
          "metadata": {},
          "output_type": "execute_result"
        }
      ],
      "source": [
        "# pentru a gasi \"locale\" pentru Romania\n",
        "honeypot.loc[\"Romania\", \"locale\"].drop_duplicates()"
      ]
    },
    {
      "cell_type": "markdown",
      "metadata": {
        "id": "w9HktwHmRIL5"
      },
      "source": [
        "Putem folosi atributul loc pentru preluarea datelor dupa orice label nominal:"
      ]
    },
    {
      "cell_type": "code",
      "execution_count": 291,
      "metadata": {
        "colab": {
          "base_uri": "https://localhost:8080/",
          "height": 175
        },
        "id": "-RQYqVSKRIeU",
        "outputId": "66932972-9eed-495a-fb7c-19b596c4e539"
      },
      "outputs": [
        {
          "data": {
            "text/html": [
              "<div>\n",
              "<style scoped>\n",
              "    .dataframe tbody tr th:only-of-type {\n",
              "        vertical-align: middle;\n",
              "    }\n",
              "\n",
              "    .dataframe tbody tr th {\n",
              "        vertical-align: top;\n",
              "    }\n",
              "\n",
              "    .dataframe thead th {\n",
              "        text-align: right;\n",
              "    }\n",
              "</style>\n",
              "<table border=\"1\" class=\"dataframe\">\n",
              "  <thead>\n",
              "    <tr style=\"text-align: right;\">\n",
              "      <th></th>\n",
              "      <th>datetime</th>\n",
              "      <th>host</th>\n",
              "      <th>src</th>\n",
              "      <th>proto</th>\n",
              "      <th>type</th>\n",
              "      <th>spt</th>\n",
              "      <th>dpt</th>\n",
              "      <th>srcstr</th>\n",
              "      <th>country</th>\n",
              "      <th>locale</th>\n",
              "      <th>latitude</th>\n",
              "      <th>longitude</th>\n",
              "    </tr>\n",
              "  </thead>\n",
              "  <tbody>\n",
              "    <tr>\n",
              "      <th>4</th>\n",
              "      <td>3/8/13 1:16</td>\n",
              "      <td>groucho-tokyo</td>\n",
              "      <td>411470328</td>\n",
              "      <td>TCP</td>\n",
              "      <td>NaN</td>\n",
              "      <td>3422.0</td>\n",
              "      <td>23.0</td>\n",
              "      <td>24.134.137.248</td>\n",
              "      <td>Germany</td>\n",
              "      <td>Lower Saxony</td>\n",
              "      <td>53.5568</td>\n",
              "      <td>8.1266</td>\n",
              "    </tr>\n",
              "    <tr>\n",
              "      <th>90</th>\n",
              "      <td>3/8/13 2:34</td>\n",
              "      <td>groucho-tokyo</td>\n",
              "      <td>1599664467</td>\n",
              "      <td>TCP</td>\n",
              "      <td>NaN</td>\n",
              "      <td>2878.0</td>\n",
              "      <td>23.0</td>\n",
              "      <td>95.88.241.83</td>\n",
              "      <td>Germany</td>\n",
              "      <td>Rheinland-Pfalz</td>\n",
              "      <td>49.5372</td>\n",
              "      <td>8.3550</td>\n",
              "    </tr>\n",
              "    <tr>\n",
              "      <th>121</th>\n",
              "      <td>3/8/13 2:35</td>\n",
              "      <td>groucho-tokyo</td>\n",
              "      <td>1311714319</td>\n",
              "      <td>TCP</td>\n",
              "      <td>NaN</td>\n",
              "      <td>47243.0</td>\n",
              "      <td>22.0</td>\n",
              "      <td>78.47.44.15</td>\n",
              "      <td>Germany</td>\n",
              "      <td>NaN</td>\n",
              "      <td>51.0000</td>\n",
              "      <td>9.0000</td>\n",
              "    </tr>\n",
              "    <tr>\n",
              "      <th>122</th>\n",
              "      <td>3/8/13 2:35</td>\n",
              "      <td>groucho-tokyo</td>\n",
              "      <td>1311714319</td>\n",
              "      <td>TCP</td>\n",
              "      <td>NaN</td>\n",
              "      <td>47243.0</td>\n",
              "      <td>22.0</td>\n",
              "      <td>78.47.44.15</td>\n",
              "      <td>Germany</td>\n",
              "      <td>NaN</td>\n",
              "      <td>51.0000</td>\n",
              "      <td>9.0000</td>\n",
              "    </tr>\n",
              "  </tbody>\n",
              "</table>\n",
              "</div>"
            ],
            "text/plain": [
              "        datetime           host         src proto  type      spt   dpt  \\\n",
              "4    3/8/13 1:16  groucho-tokyo   411470328   TCP   NaN   3422.0  23.0   \n",
              "90   3/8/13 2:34  groucho-tokyo  1599664467   TCP   NaN   2878.0  23.0   \n",
              "121  3/8/13 2:35  groucho-tokyo  1311714319   TCP   NaN  47243.0  22.0   \n",
              "122  3/8/13 2:35  groucho-tokyo  1311714319   TCP   NaN  47243.0  22.0   \n",
              "\n",
              "             srcstr  country           locale  latitude  longitude  \n",
              "4    24.134.137.248  Germany     Lower Saxony   53.5568     8.1266  \n",
              "90     95.88.241.83  Germany  Rheinland-Pfalz   49.5372     8.3550  \n",
              "121     78.47.44.15  Germany              NaN   51.0000     9.0000  \n",
              "122     78.47.44.15  Germany              NaN   51.0000     9.0000  "
            ]
          },
          "execution_count": 291,
          "metadata": {},
          "output_type": "execute_result"
        }
      ],
      "source": [
        "# folosind .loc si masca booleana putem gasi toate atacurile din Germania\n",
        "honeypot = pd.read_csv(\"dataset/AWS_Honeypot.csv\")\n",
        "honeypot.loc[honeypot[\"country\"]==\"Germany\"]"
      ]
    },
    {
      "cell_type": "markdown",
      "metadata": {
        "id": "YWg-02YCKyHD"
      },
      "source": [
        "##### 3. Folosind *numele unei coloane*\n",
        "\n",
        "Extragem toate tarile din care s-au incercat atacurile catre acest honeypot:"
      ]
    },
    {
      "cell_type": "code",
      "execution_count": 292,
      "metadata": {
        "colab": {
          "base_uri": "https://localhost:8080/"
        },
        "id": "zJaRwav2K2Xn",
        "outputId": "40145eef-4fc4-46ef-cb8f-64dda5fc94db"
      },
      "outputs": [
        {
          "data": {
            "text/plain": [
              "0                Netherlands\n",
              "1                     Poland\n",
              "2                      China\n",
              "3                    Germany\n",
              "4                    Romania\n",
              "5             United Kingdom\n",
              "6              United States\n",
              "7               South Africa\n",
              "8                Philippines\n",
              "9                     Taiwan\n",
              "10               South Korea\n",
              "11                    Brazil\n",
              "12                 Hong Kong\n",
              "13                       NaN\n",
              "14                     India\n",
              "15                    Latvia\n",
              "16                    Canada\n",
              "17    Bosnia and Herzegovina\n",
              "18                 Indonesia\n",
              "19                    France\n",
              "20      United Arab Emirates\n",
              "21                  Malaysia\n",
              "22                  Thailand\n",
              "23                   Austria\n",
              "24                   Vietnam\n",
              "25                 Australia\n",
              "26                     Japan\n",
              "27                 Sri Lanka\n",
              "28                    Israel\n",
              "Name: country, dtype: object"
            ]
          },
          "execution_count": 292,
          "metadata": {},
          "output_type": "execute_result"
        }
      ],
      "source": [
        "attacker_countries = honeypot[\"country\"].drop_duplicates(keep=\"first\")\n",
        "attacker_countries.reset_index(drop=True)"
      ]
    },
    {
      "cell_type": "markdown",
      "metadata": {
        "id": "648AK_SmqKlL"
      },
      "source": [
        "De ce necesar apelul de **drop_duplicates()** in procesul de *curatare* al datelor? \\\n",
        "Deoarece in momentul in care antrenam algoritmi de *Machine Learning* pe seturi de date care contin duplicate, acestea pot favoriza un anumit exemplu sau anumite *features* ce sunt extrase din acel exemplu in detrimentul altora, din cauza ponderii pe care o au. De asemenea, poate pastrarea duplicatelor face mai usor *data leakage*-ul despre care vom vorbi in Laboratorul 10.  "
      ]
    },
    {
      "cell_type": "markdown",
      "metadata": {
        "id": "_gWHR-RTWjS9"
      },
      "source": [
        "##### 4. Prin *slicing* si/sau *subsetting* (lista de indecsi, coloane)"
      ]
    },
    {
      "cell_type": "code",
      "execution_count": 293,
      "metadata": {
        "colab": {
          "base_uri": "https://localhost:8080/",
          "height": 423
        },
        "id": "qqJflOO3W3hu",
        "outputId": "e7bda368-acc3-46bb-dfc6-39eeaba9f739"
      },
      "outputs": [
        {
          "data": {
            "text/html": [
              "<div>\n",
              "<style scoped>\n",
              "    .dataframe tbody tr th:only-of-type {\n",
              "        vertical-align: middle;\n",
              "    }\n",
              "\n",
              "    .dataframe tbody tr th {\n",
              "        vertical-align: top;\n",
              "    }\n",
              "\n",
              "    .dataframe thead th {\n",
              "        text-align: right;\n",
              "    }\n",
              "</style>\n",
              "<table border=\"1\" class=\"dataframe\">\n",
              "  <thead>\n",
              "    <tr style=\"text-align: right;\">\n",
              "      <th></th>\n",
              "      <th>datetime</th>\n",
              "      <th>spt</th>\n",
              "      <th>dpt</th>\n",
              "    </tr>\n",
              "  </thead>\n",
              "  <tbody>\n",
              "    <tr>\n",
              "      <th>0</th>\n",
              "      <td>3/8/13 1:11</td>\n",
              "      <td>2065.0</td>\n",
              "      <td>23.0</td>\n",
              "    </tr>\n",
              "    <tr>\n",
              "      <th>1</th>\n",
              "      <td>3/8/13 1:12</td>\n",
              "      <td>4667.0</td>\n",
              "      <td>23.0</td>\n",
              "    </tr>\n",
              "    <tr>\n",
              "      <th>2</th>\n",
              "      <td>3/8/13 1:14</td>\n",
              "      <td>NaN</td>\n",
              "      <td>NaN</td>\n",
              "    </tr>\n",
              "    <tr>\n",
              "      <th>3</th>\n",
              "      <td>3/8/13 1:14</td>\n",
              "      <td>NaN</td>\n",
              "      <td>NaN</td>\n",
              "    </tr>\n",
              "    <tr>\n",
              "      <th>4</th>\n",
              "      <td>3/8/13 1:16</td>\n",
              "      <td>3422.0</td>\n",
              "      <td>23.0</td>\n",
              "    </tr>\n",
              "    <tr>\n",
              "      <th>...</th>\n",
              "      <td>...</td>\n",
              "      <td>...</td>\n",
              "      <td>...</td>\n",
              "    </tr>\n",
              "    <tr>\n",
              "      <th>96</th>\n",
              "      <td>3/8/13 2:33</td>\n",
              "      <td>5093.0</td>\n",
              "      <td>5066.0</td>\n",
              "    </tr>\n",
              "    <tr>\n",
              "      <th>97</th>\n",
              "      <td>3/8/13 2:33</td>\n",
              "      <td>5093.0</td>\n",
              "      <td>5070.0</td>\n",
              "    </tr>\n",
              "    <tr>\n",
              "      <th>98</th>\n",
              "      <td>3/8/13 2:33</td>\n",
              "      <td>5093.0</td>\n",
              "      <td>5068.0</td>\n",
              "    </tr>\n",
              "    <tr>\n",
              "      <th>99</th>\n",
              "      <td>3/8/13 2:33</td>\n",
              "      <td>5093.0</td>\n",
              "      <td>5064.0</td>\n",
              "    </tr>\n",
              "    <tr>\n",
              "      <th>100</th>\n",
              "      <td>3/8/13 2:33</td>\n",
              "      <td>5093.0</td>\n",
              "      <td>5069.0</td>\n",
              "    </tr>\n",
              "  </tbody>\n",
              "</table>\n",
              "<p>101 rows × 3 columns</p>\n",
              "</div>"
            ],
            "text/plain": [
              "        datetime     spt     dpt\n",
              "0    3/8/13 1:11  2065.0    23.0\n",
              "1    3/8/13 1:12  4667.0    23.0\n",
              "2    3/8/13 1:14     NaN     NaN\n",
              "3    3/8/13 1:14     NaN     NaN\n",
              "4    3/8/13 1:16  3422.0    23.0\n",
              "..           ...     ...     ...\n",
              "96   3/8/13 2:33  5093.0  5066.0\n",
              "97   3/8/13 2:33  5093.0  5070.0\n",
              "98   3/8/13 2:33  5093.0  5068.0\n",
              "99   3/8/13 2:33  5093.0  5064.0\n",
              "100  3/8/13 2:33  5093.0  5069.0\n",
              "\n",
              "[101 rows x 3 columns]"
            ]
          },
          "execution_count": 293,
          "metadata": {},
          "output_type": "execute_result"
        }
      ],
      "source": [
        "honeypot.loc[:100, [\"datetime\", \"spt\", \"dpt\"]]"
      ]
    },
    {
      "cell_type": "markdown",
      "metadata": {
        "id": "0z-st8dabLw7"
      },
      "source": [
        "#### Cum redenumim titlurile coloanelor?"
      ]
    },
    {
      "cell_type": "markdown",
      "metadata": {
        "id": "uULdTAYnbeJw"
      },
      "source": [
        "##### 1. ***df.rename***\n",
        "\n",
        "df.rename(columns={old:new, ...})"
      ]
    },
    {
      "cell_type": "code",
      "execution_count": 294,
      "metadata": {
        "colab": {
          "base_uri": "https://localhost:8080/",
          "height": 206
        },
        "id": "Ru0Mj5hMcEQt",
        "outputId": "17764209-57c0-4758-ab72-450c67ccf45e"
      },
      "outputs": [
        {
          "data": {
            "text/html": [
              "<div>\n",
              "<style scoped>\n",
              "    .dataframe tbody tr th:only-of-type {\n",
              "        vertical-align: middle;\n",
              "    }\n",
              "\n",
              "    .dataframe tbody tr th {\n",
              "        vertical-align: top;\n",
              "    }\n",
              "\n",
              "    .dataframe thead th {\n",
              "        text-align: right;\n",
              "    }\n",
              "</style>\n",
              "<table border=\"1\" class=\"dataframe\">\n",
              "  <thead>\n",
              "    <tr style=\"text-align: right;\">\n",
              "      <th></th>\n",
              "      <th>datetime</th>\n",
              "      <th>host</th>\n",
              "      <th>bandwidth</th>\n",
              "      <th>proto</th>\n",
              "      <th>type</th>\n",
              "      <th>spt</th>\n",
              "      <th>dpt</th>\n",
              "      <th>ip</th>\n",
              "      <th>country</th>\n",
              "      <th>locale</th>\n",
              "      <th>latitude</th>\n",
              "      <th>longitude</th>\n",
              "    </tr>\n",
              "  </thead>\n",
              "  <tbody>\n",
              "    <tr>\n",
              "      <th>0</th>\n",
              "      <td>3/8/13 1:11</td>\n",
              "      <td>groucho-tokyo</td>\n",
              "      <td>1398184219</td>\n",
              "      <td>TCP</td>\n",
              "      <td>NaN</td>\n",
              "      <td>2065.0</td>\n",
              "      <td>23.0</td>\n",
              "      <td>83.86.153.27</td>\n",
              "      <td>Netherlands</td>\n",
              "      <td>South Holland</td>\n",
              "      <td>52.1763</td>\n",
              "      <td>4.5282</td>\n",
              "    </tr>\n",
              "    <tr>\n",
              "      <th>1</th>\n",
              "      <td>3/8/13 1:12</td>\n",
              "      <td>groucho-tokyo</td>\n",
              "      <td>1393252776</td>\n",
              "      <td>TCP</td>\n",
              "      <td>NaN</td>\n",
              "      <td>4667.0</td>\n",
              "      <td>23.0</td>\n",
              "      <td>83.11.89.168</td>\n",
              "      <td>Poland</td>\n",
              "      <td>Kujawsko-Pomorskie</td>\n",
              "      <td>52.5931</td>\n",
              "      <td>19.0894</td>\n",
              "    </tr>\n",
              "    <tr>\n",
              "      <th>2</th>\n",
              "      <td>3/8/13 1:14</td>\n",
              "      <td>groucho-sa</td>\n",
              "      <td>3662430566</td>\n",
              "      <td>ICMP</td>\n",
              "      <td>8.0</td>\n",
              "      <td>NaN</td>\n",
              "      <td>NaN</td>\n",
              "      <td>218.76.65.102</td>\n",
              "      <td>China</td>\n",
              "      <td>Hunan</td>\n",
              "      <td>28.1792</td>\n",
              "      <td>113.1136</td>\n",
              "    </tr>\n",
              "    <tr>\n",
              "      <th>3</th>\n",
              "      <td>3/8/13 1:14</td>\n",
              "      <td>groucho-sa</td>\n",
              "      <td>3662430566</td>\n",
              "      <td>ICMP</td>\n",
              "      <td>8.0</td>\n",
              "      <td>NaN</td>\n",
              "      <td>NaN</td>\n",
              "      <td>218.76.65.102</td>\n",
              "      <td>China</td>\n",
              "      <td>Hunan</td>\n",
              "      <td>28.1792</td>\n",
              "      <td>113.1136</td>\n",
              "    </tr>\n",
              "    <tr>\n",
              "      <th>4</th>\n",
              "      <td>3/8/13 1:16</td>\n",
              "      <td>groucho-tokyo</td>\n",
              "      <td>411470328</td>\n",
              "      <td>TCP</td>\n",
              "      <td>NaN</td>\n",
              "      <td>3422.0</td>\n",
              "      <td>23.0</td>\n",
              "      <td>24.134.137.248</td>\n",
              "      <td>Germany</td>\n",
              "      <td>Lower Saxony</td>\n",
              "      <td>53.5568</td>\n",
              "      <td>8.1266</td>\n",
              "    </tr>\n",
              "  </tbody>\n",
              "</table>\n",
              "</div>"
            ],
            "text/plain": [
              "      datetime           host   bandwidth proto  type     spt   dpt  \\\n",
              "0  3/8/13 1:11  groucho-tokyo  1398184219   TCP   NaN  2065.0  23.0   \n",
              "1  3/8/13 1:12  groucho-tokyo  1393252776   TCP   NaN  4667.0  23.0   \n",
              "2  3/8/13 1:14     groucho-sa  3662430566  ICMP   8.0     NaN   NaN   \n",
              "3  3/8/13 1:14     groucho-sa  3662430566  ICMP   8.0     NaN   NaN   \n",
              "4  3/8/13 1:16  groucho-tokyo   411470328   TCP   NaN  3422.0  23.0   \n",
              "\n",
              "               ip      country              locale  latitude  longitude  \n",
              "0    83.86.153.27  Netherlands       South Holland   52.1763     4.5282  \n",
              "1    83.11.89.168       Poland  Kujawsko-Pomorskie   52.5931    19.0894  \n",
              "2   218.76.65.102        China               Hunan   28.1792   113.1136  \n",
              "3   218.76.65.102        China               Hunan   28.1792   113.1136  \n",
              "4  24.134.137.248      Germany        Lower Saxony   53.5568     8.1266  "
            ]
          },
          "execution_count": 294,
          "metadata": {},
          "output_type": "execute_result"
        }
      ],
      "source": [
        "honeypot.rename(columns={\"src\": \"bandwidth\", \"srcstr\": \"ip\"}, inplace=True)\n",
        "honeypot.head()"
      ]
    },
    {
      "cell_type": "markdown",
      "metadata": {
        "id": "qQrM5x22fEif"
      },
      "source": [
        "##### 2. ***mapper***\n",
        "\n",
        "Este folosit tot prin df.rename().\n",
        "\n",
        "De aceasta data, este data ca parametru o functie (mapper) care indica modificarile asupra titlurilor coloanelor (axis=1) sau indecsilor (axis=0)."
      ]
    },
    {
      "cell_type": "code",
      "execution_count": 295,
      "metadata": {
        "colab": {
          "base_uri": "https://localhost:8080/",
          "height": 206
        },
        "id": "2mvfC9PtfiEq",
        "outputId": "71356a45-7a48-40b3-8692-8a15fc1d092b"
      },
      "outputs": [
        {
          "data": {
            "text/html": [
              "<div>\n",
              "<style scoped>\n",
              "    .dataframe tbody tr th:only-of-type {\n",
              "        vertical-align: middle;\n",
              "    }\n",
              "\n",
              "    .dataframe tbody tr th {\n",
              "        vertical-align: top;\n",
              "    }\n",
              "\n",
              "    .dataframe thead th {\n",
              "        text-align: right;\n",
              "    }\n",
              "</style>\n",
              "<table border=\"1\" class=\"dataframe\">\n",
              "  <thead>\n",
              "    <tr style=\"text-align: right;\">\n",
              "      <th></th>\n",
              "      <th>datetime</th>\n",
              "      <th>host</th>\n",
              "      <th>bandwidth</th>\n",
              "      <th>proto</th>\n",
              "      <th>type</th>\n",
              "      <th>spt</th>\n",
              "      <th>dpt</th>\n",
              "      <th>ip</th>\n",
              "      <th>country</th>\n",
              "      <th>locale</th>\n",
              "      <th>latitude</th>\n",
              "      <th>longitude</th>\n",
              "    </tr>\n",
              "  </thead>\n",
              "  <tbody>\n",
              "    <tr>\n",
              "      <th>0</th>\n",
              "      <td>3/8/13 1:11</td>\n",
              "      <td>groucho-tokyo</td>\n",
              "      <td>1398184219</td>\n",
              "      <td>TCP</td>\n",
              "      <td>NaN</td>\n",
              "      <td>2065.0</td>\n",
              "      <td>23.0</td>\n",
              "      <td>83.86.153.27</td>\n",
              "      <td>Netherlands</td>\n",
              "      <td>South Holland</td>\n",
              "      <td>52.1763</td>\n",
              "      <td>4.5282</td>\n",
              "    </tr>\n",
              "    <tr>\n",
              "      <th>1</th>\n",
              "      <td>3/8/13 1:12</td>\n",
              "      <td>groucho-tokyo</td>\n",
              "      <td>1393252776</td>\n",
              "      <td>TCP</td>\n",
              "      <td>NaN</td>\n",
              "      <td>4667.0</td>\n",
              "      <td>23.0</td>\n",
              "      <td>83.11.89.168</td>\n",
              "      <td>Poland</td>\n",
              "      <td>Kujawsko-Pomorskie</td>\n",
              "      <td>52.5931</td>\n",
              "      <td>19.0894</td>\n",
              "    </tr>\n",
              "    <tr>\n",
              "      <th>2</th>\n",
              "      <td>3/8/13 1:14</td>\n",
              "      <td>groucho-sa</td>\n",
              "      <td>3662430566</td>\n",
              "      <td>ICMP</td>\n",
              "      <td>8.0</td>\n",
              "      <td>NaN</td>\n",
              "      <td>NaN</td>\n",
              "      <td>218.76.65.102</td>\n",
              "      <td>China</td>\n",
              "      <td>Hunan</td>\n",
              "      <td>28.1792</td>\n",
              "      <td>113.1136</td>\n",
              "    </tr>\n",
              "    <tr>\n",
              "      <th>3</th>\n",
              "      <td>3/8/13 1:14</td>\n",
              "      <td>groucho-sa</td>\n",
              "      <td>3662430566</td>\n",
              "      <td>ICMP</td>\n",
              "      <td>8.0</td>\n",
              "      <td>NaN</td>\n",
              "      <td>NaN</td>\n",
              "      <td>218.76.65.102</td>\n",
              "      <td>China</td>\n",
              "      <td>Hunan</td>\n",
              "      <td>28.1792</td>\n",
              "      <td>113.1136</td>\n",
              "    </tr>\n",
              "    <tr>\n",
              "      <th>4</th>\n",
              "      <td>3/8/13 1:16</td>\n",
              "      <td>groucho-tokyo</td>\n",
              "      <td>411470328</td>\n",
              "      <td>TCP</td>\n",
              "      <td>NaN</td>\n",
              "      <td>3422.0</td>\n",
              "      <td>23.0</td>\n",
              "      <td>24.134.137.248</td>\n",
              "      <td>Germany</td>\n",
              "      <td>Lower Saxony</td>\n",
              "      <td>53.5568</td>\n",
              "      <td>8.1266</td>\n",
              "    </tr>\n",
              "  </tbody>\n",
              "</table>\n",
              "</div>"
            ],
            "text/plain": [
              "      datetime           host   bandwidth proto  type     spt   dpt  \\\n",
              "0  3/8/13 1:11  groucho-tokyo  1398184219   TCP   NaN  2065.0  23.0   \n",
              "1  3/8/13 1:12  groucho-tokyo  1393252776   TCP   NaN  4667.0  23.0   \n",
              "2  3/8/13 1:14     groucho-sa  3662430566  ICMP   8.0     NaN   NaN   \n",
              "3  3/8/13 1:14     groucho-sa  3662430566  ICMP   8.0     NaN   NaN   \n",
              "4  3/8/13 1:16  groucho-tokyo   411470328   TCP   NaN  3422.0  23.0   \n",
              "\n",
              "               ip      country              locale  latitude  longitude  \n",
              "0    83.86.153.27  Netherlands       South Holland   52.1763     4.5282  \n",
              "1    83.11.89.168       Poland  Kujawsko-Pomorskie   52.5931    19.0894  \n",
              "2   218.76.65.102        China               Hunan   28.1792   113.1136  \n",
              "3   218.76.65.102        China               Hunan   28.1792   113.1136  \n",
              "4  24.134.137.248      Germany        Lower Saxony   53.5568     8.1266  "
            ]
          },
          "execution_count": 295,
          "metadata": {},
          "output_type": "execute_result"
        }
      ],
      "source": [
        "def port_foo(column):\n",
        "  if (column == \"spt\"):\n",
        "    return \"Src Port\"\n",
        "  if (column == \"dpt\"):\n",
        "    return \"Dst Port\"\n",
        "  return column\n",
        "\n",
        "honeypot.rename(mapper=port_foo, inplace=True)\n",
        "honeypot.head()"
      ]
    },
    {
      "cell_type": "markdown",
      "metadata": {
        "id": "Z10HkGNlc6cD"
      },
      "source": [
        "##### 3. ***df.columns***\n",
        "\n",
        "df.columns = [\"col0_new\", \"col1_new\", ....]\n",
        "\n",
        "Se precizeaza noile valori pentru toate coloanele, in ordine."
      ]
    },
    {
      "cell_type": "code",
      "execution_count": 296,
      "metadata": {
        "colab": {
          "base_uri": "https://localhost:8080/",
          "height": 206
        },
        "id": "_Z_b3qskdRst",
        "outputId": "723f4f4d-122e-44b7-e735-f1e4a934969e"
      },
      "outputs": [
        {
          "data": {
            "text/html": [
              "<div>\n",
              "<style scoped>\n",
              "    .dataframe tbody tr th:only-of-type {\n",
              "        vertical-align: middle;\n",
              "    }\n",
              "\n",
              "    .dataframe tbody tr th {\n",
              "        vertical-align: top;\n",
              "    }\n",
              "\n",
              "    .dataframe thead th {\n",
              "        text-align: right;\n",
              "    }\n",
              "</style>\n",
              "<table border=\"1\" class=\"dataframe\">\n",
              "  <thead>\n",
              "    <tr style=\"text-align: right;\">\n",
              "      <th></th>\n",
              "      <th>DateTime</th>\n",
              "      <th>Host</th>\n",
              "      <th>Bandwidth</th>\n",
              "      <th>Protocol</th>\n",
              "      <th>Type</th>\n",
              "      <th>SrcPort</th>\n",
              "      <th>DstPort</th>\n",
              "      <th>IP</th>\n",
              "      <th>Country</th>\n",
              "      <th>Locale</th>\n",
              "      <th>Latitude</th>\n",
              "      <th>Longitude</th>\n",
              "    </tr>\n",
              "  </thead>\n",
              "  <tbody>\n",
              "    <tr>\n",
              "      <th>0</th>\n",
              "      <td>3/8/13 1:11</td>\n",
              "      <td>groucho-tokyo</td>\n",
              "      <td>1398184219</td>\n",
              "      <td>TCP</td>\n",
              "      <td>NaN</td>\n",
              "      <td>2065.0</td>\n",
              "      <td>23.0</td>\n",
              "      <td>83.86.153.27</td>\n",
              "      <td>Netherlands</td>\n",
              "      <td>South Holland</td>\n",
              "      <td>52.1763</td>\n",
              "      <td>4.5282</td>\n",
              "    </tr>\n",
              "    <tr>\n",
              "      <th>1</th>\n",
              "      <td>3/8/13 1:12</td>\n",
              "      <td>groucho-tokyo</td>\n",
              "      <td>1393252776</td>\n",
              "      <td>TCP</td>\n",
              "      <td>NaN</td>\n",
              "      <td>4667.0</td>\n",
              "      <td>23.0</td>\n",
              "      <td>83.11.89.168</td>\n",
              "      <td>Poland</td>\n",
              "      <td>Kujawsko-Pomorskie</td>\n",
              "      <td>52.5931</td>\n",
              "      <td>19.0894</td>\n",
              "    </tr>\n",
              "    <tr>\n",
              "      <th>2</th>\n",
              "      <td>3/8/13 1:14</td>\n",
              "      <td>groucho-sa</td>\n",
              "      <td>3662430566</td>\n",
              "      <td>ICMP</td>\n",
              "      <td>8.0</td>\n",
              "      <td>NaN</td>\n",
              "      <td>NaN</td>\n",
              "      <td>218.76.65.102</td>\n",
              "      <td>China</td>\n",
              "      <td>Hunan</td>\n",
              "      <td>28.1792</td>\n",
              "      <td>113.1136</td>\n",
              "    </tr>\n",
              "    <tr>\n",
              "      <th>3</th>\n",
              "      <td>3/8/13 1:14</td>\n",
              "      <td>groucho-sa</td>\n",
              "      <td>3662430566</td>\n",
              "      <td>ICMP</td>\n",
              "      <td>8.0</td>\n",
              "      <td>NaN</td>\n",
              "      <td>NaN</td>\n",
              "      <td>218.76.65.102</td>\n",
              "      <td>China</td>\n",
              "      <td>Hunan</td>\n",
              "      <td>28.1792</td>\n",
              "      <td>113.1136</td>\n",
              "    </tr>\n",
              "    <tr>\n",
              "      <th>4</th>\n",
              "      <td>3/8/13 1:16</td>\n",
              "      <td>groucho-tokyo</td>\n",
              "      <td>411470328</td>\n",
              "      <td>TCP</td>\n",
              "      <td>NaN</td>\n",
              "      <td>3422.0</td>\n",
              "      <td>23.0</td>\n",
              "      <td>24.134.137.248</td>\n",
              "      <td>Germany</td>\n",
              "      <td>Lower Saxony</td>\n",
              "      <td>53.5568</td>\n",
              "      <td>8.1266</td>\n",
              "    </tr>\n",
              "  </tbody>\n",
              "</table>\n",
              "</div>"
            ],
            "text/plain": [
              "      DateTime           Host   Bandwidth Protocol  Type  SrcPort  DstPort  \\\n",
              "0  3/8/13 1:11  groucho-tokyo  1398184219      TCP   NaN   2065.0     23.0   \n",
              "1  3/8/13 1:12  groucho-tokyo  1393252776      TCP   NaN   4667.0     23.0   \n",
              "2  3/8/13 1:14     groucho-sa  3662430566     ICMP   8.0      NaN      NaN   \n",
              "3  3/8/13 1:14     groucho-sa  3662430566     ICMP   8.0      NaN      NaN   \n",
              "4  3/8/13 1:16  groucho-tokyo   411470328      TCP   NaN   3422.0     23.0   \n",
              "\n",
              "               IP      Country              Locale  Latitude  Longitude  \n",
              "0    83.86.153.27  Netherlands       South Holland   52.1763     4.5282  \n",
              "1    83.11.89.168       Poland  Kujawsko-Pomorskie   52.5931    19.0894  \n",
              "2   218.76.65.102        China               Hunan   28.1792   113.1136  \n",
              "3   218.76.65.102        China               Hunan   28.1792   113.1136  \n",
              "4  24.134.137.248      Germany        Lower Saxony   53.5568     8.1266  "
            ]
          },
          "execution_count": 296,
          "metadata": {},
          "output_type": "execute_result"
        }
      ],
      "source": [
        "honeypot.columns = [\"DateTime\", \"Host\", \"Bandwidth\", \"Protocol\",\\\n",
        "                    \"Type\", \"SrcPort\", \"DstPort\", \"IP\", \"Country\",\\\n",
        "                    \"Locale\", \"Latitude\", \"Longitude\"]\n",
        "honeypot.head()"
      ]
    },
    {
      "cell_type": "markdown",
      "metadata": {
        "id": "k6xjo5-1jdtP"
      },
      "source": [
        "#### Cum scriem query-uri folosind Boolean Masking?\n",
        "\n",
        "Vrem sa gasim date despre atacurile din China interceptate incepand cu ora 5:00 (toate inregistrarile din honeypot-ul dat au loc in aceeasi zi) ."
      ]
    },
    {
      "cell_type": "markdown",
      "metadata": {
        "id": "NgqIKE17s9xa"
      },
      "source": [
        "*Pandas are functionalitati speciale pentru lucrul cu date si ore. De exemplu, pd.to_datetime() converteste orice format orar la unul standard.*"
      ]
    },
    {
      "cell_type": "code",
      "execution_count": 297,
      "metadata": {
        "colab": {
          "base_uri": "https://localhost:8080/",
          "height": 206
        },
        "id": "AknMRTQYjkIM",
        "outputId": "d64c1fda-0030-4d35-c6d5-19e1fc1b5f6d"
      },
      "outputs": [
        {
          "data": {
            "text/html": [
              "<div>\n",
              "<style scoped>\n",
              "    .dataframe tbody tr th:only-of-type {\n",
              "        vertical-align: middle;\n",
              "    }\n",
              "\n",
              "    .dataframe tbody tr th {\n",
              "        vertical-align: top;\n",
              "    }\n",
              "\n",
              "    .dataframe thead th {\n",
              "        text-align: right;\n",
              "    }\n",
              "</style>\n",
              "<table border=\"1\" class=\"dataframe\">\n",
              "  <thead>\n",
              "    <tr style=\"text-align: right;\">\n",
              "      <th></th>\n",
              "      <th>datetime</th>\n",
              "      <th>host</th>\n",
              "      <th>src</th>\n",
              "      <th>proto</th>\n",
              "      <th>type</th>\n",
              "      <th>spt</th>\n",
              "      <th>dpt</th>\n",
              "      <th>srcstr</th>\n",
              "      <th>country</th>\n",
              "      <th>locale</th>\n",
              "      <th>latitude</th>\n",
              "      <th>longitude</th>\n",
              "    </tr>\n",
              "  </thead>\n",
              "  <tbody>\n",
              "    <tr>\n",
              "      <th>0</th>\n",
              "      <td>2013-03-08 01:11:00</td>\n",
              "      <td>groucho-tokyo</td>\n",
              "      <td>1398184219</td>\n",
              "      <td>TCP</td>\n",
              "      <td>NaN</td>\n",
              "      <td>2065.0</td>\n",
              "      <td>23.0</td>\n",
              "      <td>83.86.153.27</td>\n",
              "      <td>Netherlands</td>\n",
              "      <td>South Holland</td>\n",
              "      <td>52.1763</td>\n",
              "      <td>4.5282</td>\n",
              "    </tr>\n",
              "    <tr>\n",
              "      <th>1</th>\n",
              "      <td>2013-03-08 01:12:00</td>\n",
              "      <td>groucho-tokyo</td>\n",
              "      <td>1393252776</td>\n",
              "      <td>TCP</td>\n",
              "      <td>NaN</td>\n",
              "      <td>4667.0</td>\n",
              "      <td>23.0</td>\n",
              "      <td>83.11.89.168</td>\n",
              "      <td>Poland</td>\n",
              "      <td>Kujawsko-Pomorskie</td>\n",
              "      <td>52.5931</td>\n",
              "      <td>19.0894</td>\n",
              "    </tr>\n",
              "    <tr>\n",
              "      <th>2</th>\n",
              "      <td>2013-03-08 01:14:00</td>\n",
              "      <td>groucho-sa</td>\n",
              "      <td>3662430566</td>\n",
              "      <td>ICMP</td>\n",
              "      <td>8.0</td>\n",
              "      <td>NaN</td>\n",
              "      <td>NaN</td>\n",
              "      <td>218.76.65.102</td>\n",
              "      <td>China</td>\n",
              "      <td>Hunan</td>\n",
              "      <td>28.1792</td>\n",
              "      <td>113.1136</td>\n",
              "    </tr>\n",
              "    <tr>\n",
              "      <th>3</th>\n",
              "      <td>2013-03-08 01:14:00</td>\n",
              "      <td>groucho-sa</td>\n",
              "      <td>3662430566</td>\n",
              "      <td>ICMP</td>\n",
              "      <td>8.0</td>\n",
              "      <td>NaN</td>\n",
              "      <td>NaN</td>\n",
              "      <td>218.76.65.102</td>\n",
              "      <td>China</td>\n",
              "      <td>Hunan</td>\n",
              "      <td>28.1792</td>\n",
              "      <td>113.1136</td>\n",
              "    </tr>\n",
              "    <tr>\n",
              "      <th>4</th>\n",
              "      <td>2013-03-08 01:16:00</td>\n",
              "      <td>groucho-tokyo</td>\n",
              "      <td>411470328</td>\n",
              "      <td>TCP</td>\n",
              "      <td>NaN</td>\n",
              "      <td>3422.0</td>\n",
              "      <td>23.0</td>\n",
              "      <td>24.134.137.248</td>\n",
              "      <td>Germany</td>\n",
              "      <td>Lower Saxony</td>\n",
              "      <td>53.5568</td>\n",
              "      <td>8.1266</td>\n",
              "    </tr>\n",
              "  </tbody>\n",
              "</table>\n",
              "</div>"
            ],
            "text/plain": [
              "             datetime           host         src proto  type     spt   dpt  \\\n",
              "0 2013-03-08 01:11:00  groucho-tokyo  1398184219   TCP   NaN  2065.0  23.0   \n",
              "1 2013-03-08 01:12:00  groucho-tokyo  1393252776   TCP   NaN  4667.0  23.0   \n",
              "2 2013-03-08 01:14:00     groucho-sa  3662430566  ICMP   8.0     NaN   NaN   \n",
              "3 2013-03-08 01:14:00     groucho-sa  3662430566  ICMP   8.0     NaN   NaN   \n",
              "4 2013-03-08 01:16:00  groucho-tokyo   411470328   TCP   NaN  3422.0  23.0   \n",
              "\n",
              "           srcstr      country              locale  latitude  longitude  \n",
              "0    83.86.153.27  Netherlands       South Holland   52.1763     4.5282  \n",
              "1    83.11.89.168       Poland  Kujawsko-Pomorskie   52.5931    19.0894  \n",
              "2   218.76.65.102        China               Hunan   28.1792   113.1136  \n",
              "3   218.76.65.102        China               Hunan   28.1792   113.1136  \n",
              "4  24.134.137.248      Germany        Lower Saxony   53.5568     8.1266  "
            ]
          },
          "execution_count": 297,
          "metadata": {},
          "output_type": "execute_result"
        }
      ],
      "source": [
        "import datetime\n",
        "honeypot = pd.read_csv(\"dataset/AWS_Honeypot.csv\")\n",
        "honeypot[\"datetime\"] = pd.to_datetime(honeypot[\"datetime\"], format=\"mixed\")\n",
        "honeypot.head()"
      ]
    },
    {
      "cell_type": "markdown",
      "metadata": {
        "id": "6237hJU6uE-4"
      },
      "source": [
        "Putem crea doua masti - una pentru fiecare conditie - si sa accesam dataframe-ul cu ajutorul lor.\n",
        "\n",
        "*Atentie!*\n",
        "* operatorii logici sunt bitwise-like (fata de Python, unde avem \"and\", \"or\")\n",
        "* locul parantezelor conteaza\n",
        "\n",
        "Avem doua posibilitati:"
      ]
    },
    {
      "cell_type": "markdown",
      "metadata": {
        "id": "qNZ-0qRyuREA"
      },
      "source": [
        "##### 1. *df[mask]*"
      ]
    },
    {
      "cell_type": "code",
      "execution_count": 298,
      "metadata": {
        "colab": {
          "base_uri": "https://localhost:8080/",
          "height": 423
        },
        "id": "8_r3qspauahW",
        "outputId": "f73a5a27-06ae-4e2c-d833-fdc6a78f0472"
      },
      "outputs": [
        {
          "data": {
            "text/html": [
              "<div>\n",
              "<style scoped>\n",
              "    .dataframe tbody tr th:only-of-type {\n",
              "        vertical-align: middle;\n",
              "    }\n",
              "\n",
              "    .dataframe tbody tr th {\n",
              "        vertical-align: top;\n",
              "    }\n",
              "\n",
              "    .dataframe thead th {\n",
              "        text-align: right;\n",
              "    }\n",
              "</style>\n",
              "<table border=\"1\" class=\"dataframe\">\n",
              "  <thead>\n",
              "    <tr style=\"text-align: right;\">\n",
              "      <th></th>\n",
              "      <th>datetime</th>\n",
              "      <th>host</th>\n",
              "      <th>src</th>\n",
              "      <th>proto</th>\n",
              "      <th>type</th>\n",
              "      <th>spt</th>\n",
              "      <th>dpt</th>\n",
              "      <th>srcstr</th>\n",
              "      <th>country</th>\n",
              "      <th>locale</th>\n",
              "      <th>latitude</th>\n",
              "      <th>longitude</th>\n",
              "    </tr>\n",
              "  </thead>\n",
              "  <tbody>\n",
              "    <tr>\n",
              "      <th>0</th>\n",
              "      <td>2013-03-08 05:01:00</td>\n",
              "      <td>groucho-tokyo</td>\n",
              "      <td>3658020275</td>\n",
              "      <td>TCP</td>\n",
              "      <td>NaN</td>\n",
              "      <td>6000.0</td>\n",
              "      <td>1433.0</td>\n",
              "      <td>218.8.245.179</td>\n",
              "      <td>China</td>\n",
              "      <td>Heilongjiang Sheng</td>\n",
              "      <td>45.7500</td>\n",
              "      <td>126.6500</td>\n",
              "    </tr>\n",
              "    <tr>\n",
              "      <th>1</th>\n",
              "      <td>2013-03-08 05:03:00</td>\n",
              "      <td>groucho-singapore</td>\n",
              "      <td>3729578419</td>\n",
              "      <td>TCP</td>\n",
              "      <td>NaN</td>\n",
              "      <td>6000.0</td>\n",
              "      <td>65500.0</td>\n",
              "      <td>222.76.217.179</td>\n",
              "      <td>China</td>\n",
              "      <td>Fujian</td>\n",
              "      <td>24.4798</td>\n",
              "      <td>118.0819</td>\n",
              "    </tr>\n",
              "    <tr>\n",
              "      <th>2</th>\n",
              "      <td>2013-03-08 05:11:00</td>\n",
              "      <td>groucho-singapore</td>\n",
              "      <td>1033070424</td>\n",
              "      <td>TCP</td>\n",
              "      <td>NaN</td>\n",
              "      <td>6000.0</td>\n",
              "      <td>1433.0</td>\n",
              "      <td>61.147.103.88</td>\n",
              "      <td>China</td>\n",
              "      <td>Jiangsu Sheng</td>\n",
              "      <td>32.0617</td>\n",
              "      <td>118.7778</td>\n",
              "    </tr>\n",
              "    <tr>\n",
              "      <th>3</th>\n",
              "      <td>2013-03-08 05:14:00</td>\n",
              "      <td>groucho-tokyo</td>\n",
              "      <td>710975177</td>\n",
              "      <td>TCP</td>\n",
              "      <td>NaN</td>\n",
              "      <td>6000.0</td>\n",
              "      <td>3306.0</td>\n",
              "      <td>42.96.158.201</td>\n",
              "      <td>China</td>\n",
              "      <td>Beijing Shi</td>\n",
              "      <td>39.9289</td>\n",
              "      <td>116.3883</td>\n",
              "    </tr>\n",
              "    <tr>\n",
              "      <th>4</th>\n",
              "      <td>2013-03-08 05:30:00</td>\n",
              "      <td>groucho-tokyo</td>\n",
              "      <td>1991904499</td>\n",
              "      <td>TCP</td>\n",
              "      <td>NaN</td>\n",
              "      <td>6000.0</td>\n",
              "      <td>1433.0</td>\n",
              "      <td>118.186.12.243</td>\n",
              "      <td>China</td>\n",
              "      <td>Beijing Shi</td>\n",
              "      <td>39.9289</td>\n",
              "      <td>116.3883</td>\n",
              "    </tr>\n",
              "    <tr>\n",
              "      <th>...</th>\n",
              "      <td>...</td>\n",
              "      <td>...</td>\n",
              "      <td>...</td>\n",
              "      <td>...</td>\n",
              "      <td>...</td>\n",
              "      <td>...</td>\n",
              "      <td>...</td>\n",
              "      <td>...</td>\n",
              "      <td>...</td>\n",
              "      <td>...</td>\n",
              "      <td>...</td>\n",
              "      <td>...</td>\n",
              "    </tr>\n",
              "    <tr>\n",
              "      <th>66</th>\n",
              "      <td>2013-03-08 07:30:00</td>\n",
              "      <td>groucho-oregon</td>\n",
              "      <td>710974991</td>\n",
              "      <td>TCP</td>\n",
              "      <td>NaN</td>\n",
              "      <td>7827.0</td>\n",
              "      <td>1433.0</td>\n",
              "      <td>42.96.158.15</td>\n",
              "      <td>China</td>\n",
              "      <td>Beijing Shi</td>\n",
              "      <td>39.9289</td>\n",
              "      <td>116.3883</td>\n",
              "    </tr>\n",
              "    <tr>\n",
              "      <th>67</th>\n",
              "      <td>2013-03-08 07:31:00</td>\n",
              "      <td>groucho-eu</td>\n",
              "      <td>3722483078</td>\n",
              "      <td>TCP</td>\n",
              "      <td>NaN</td>\n",
              "      <td>58313.0</td>\n",
              "      <td>3389.0</td>\n",
              "      <td>221.224.149.134</td>\n",
              "      <td>China</td>\n",
              "      <td>Jiangsu Sheng</td>\n",
              "      <td>32.0617</td>\n",
              "      <td>118.7778</td>\n",
              "    </tr>\n",
              "    <tr>\n",
              "      <th>68</th>\n",
              "      <td>2013-03-08 07:31:00</td>\n",
              "      <td>groucho-eu</td>\n",
              "      <td>3722483078</td>\n",
              "      <td>TCP</td>\n",
              "      <td>NaN</td>\n",
              "      <td>58313.0</td>\n",
              "      <td>3389.0</td>\n",
              "      <td>221.224.149.134</td>\n",
              "      <td>China</td>\n",
              "      <td>Jiangsu Sheng</td>\n",
              "      <td>32.0617</td>\n",
              "      <td>118.7778</td>\n",
              "    </tr>\n",
              "    <tr>\n",
              "      <th>69</th>\n",
              "      <td>2013-03-08 07:31:00</td>\n",
              "      <td>groucho-eu</td>\n",
              "      <td>3722483078</td>\n",
              "      <td>TCP</td>\n",
              "      <td>NaN</td>\n",
              "      <td>58313.0</td>\n",
              "      <td>3389.0</td>\n",
              "      <td>221.224.149.134</td>\n",
              "      <td>China</td>\n",
              "      <td>Jiangsu Sheng</td>\n",
              "      <td>32.0617</td>\n",
              "      <td>118.7778</td>\n",
              "    </tr>\n",
              "    <tr>\n",
              "      <th>70</th>\n",
              "      <td>2013-03-08 07:33:00</td>\n",
              "      <td>groucho-oregon</td>\n",
              "      <td>1995749293</td>\n",
              "      <td>TCP</td>\n",
              "      <td>NaN</td>\n",
              "      <td>6000.0</td>\n",
              "      <td>1433.0</td>\n",
              "      <td>118.244.183.173</td>\n",
              "      <td>China</td>\n",
              "      <td>Beijing Shi</td>\n",
              "      <td>39.9289</td>\n",
              "      <td>116.3883</td>\n",
              "    </tr>\n",
              "  </tbody>\n",
              "</table>\n",
              "<p>71 rows × 12 columns</p>\n",
              "</div>"
            ],
            "text/plain": [
              "              datetime               host         src proto  type      spt  \\\n",
              "0  2013-03-08 05:01:00      groucho-tokyo  3658020275   TCP   NaN   6000.0   \n",
              "1  2013-03-08 05:03:00  groucho-singapore  3729578419   TCP   NaN   6000.0   \n",
              "2  2013-03-08 05:11:00  groucho-singapore  1033070424   TCP   NaN   6000.0   \n",
              "3  2013-03-08 05:14:00      groucho-tokyo   710975177   TCP   NaN   6000.0   \n",
              "4  2013-03-08 05:30:00      groucho-tokyo  1991904499   TCP   NaN   6000.0   \n",
              "..                 ...                ...         ...   ...   ...      ...   \n",
              "66 2013-03-08 07:30:00     groucho-oregon   710974991   TCP   NaN   7827.0   \n",
              "67 2013-03-08 07:31:00         groucho-eu  3722483078   TCP   NaN  58313.0   \n",
              "68 2013-03-08 07:31:00         groucho-eu  3722483078   TCP   NaN  58313.0   \n",
              "69 2013-03-08 07:31:00         groucho-eu  3722483078   TCP   NaN  58313.0   \n",
              "70 2013-03-08 07:33:00     groucho-oregon  1995749293   TCP   NaN   6000.0   \n",
              "\n",
              "        dpt           srcstr country              locale  latitude  longitude  \n",
              "0    1433.0    218.8.245.179   China  Heilongjiang Sheng   45.7500   126.6500  \n",
              "1   65500.0   222.76.217.179   China              Fujian   24.4798   118.0819  \n",
              "2    1433.0    61.147.103.88   China       Jiangsu Sheng   32.0617   118.7778  \n",
              "3    3306.0    42.96.158.201   China         Beijing Shi   39.9289   116.3883  \n",
              "4    1433.0   118.186.12.243   China         Beijing Shi   39.9289   116.3883  \n",
              "..      ...              ...     ...                 ...       ...        ...  \n",
              "66   1433.0     42.96.158.15   China         Beijing Shi   39.9289   116.3883  \n",
              "67   3389.0  221.224.149.134   China       Jiangsu Sheng   32.0617   118.7778  \n",
              "68   3389.0  221.224.149.134   China       Jiangsu Sheng   32.0617   118.7778  \n",
              "69   3389.0  221.224.149.134   China       Jiangsu Sheng   32.0617   118.7778  \n",
              "70   1433.0  118.244.183.173   China         Beijing Shi   39.9289   116.3883  \n",
              "\n",
              "[71 rows x 12 columns]"
            ]
          },
          "execution_count": 298,
          "metadata": {},
          "output_type": "execute_result"
        }
      ],
      "source": [
        "start_time = \"2013-03-08 05:00:00\"\n",
        "\n",
        "honeypot[(honeypot[\"datetime\"] >= start_time) & (honeypot[\"country\"] == \"China\")].reset_index(drop=True)"
      ]
    },
    {
      "cell_type": "markdown",
      "metadata": {
        "id": "MfwDsduEubQS"
      },
      "source": [
        "##### 2. *df.where(mask)*\n",
        "\n",
        "Mai jos avem un exemplu de *Pandas Chaining*. Mai multe metode sunt aplicate pe rand aceluiasi obiect prin inlantuire, crescand lizibilitatea codului. In cazul nostru, mai intai aplicam o masca pentru filtrare, apoi eliminam liniile care au cel putin doua valori NaN."
      ]
    },
    {
      "cell_type": "code",
      "execution_count": 299,
      "metadata": {
        "colab": {
          "base_uri": "https://localhost:8080/",
          "height": 179
        },
        "id": "GZYE-80gujBf",
        "outputId": "5c125fa0-473e-4cb7-aef9-96b9787e0f78"
      },
      "outputs": [
        {
          "data": {
            "text/html": [
              "<div>\n",
              "<style scoped>\n",
              "    .dataframe tbody tr th:only-of-type {\n",
              "        vertical-align: middle;\n",
              "    }\n",
              "\n",
              "    .dataframe tbody tr th {\n",
              "        vertical-align: top;\n",
              "    }\n",
              "\n",
              "    .dataframe thead th {\n",
              "        text-align: right;\n",
              "    }\n",
              "</style>\n",
              "<table border=\"1\" class=\"dataframe\">\n",
              "  <thead>\n",
              "    <tr style=\"text-align: right;\">\n",
              "      <th></th>\n",
              "      <th>datetime</th>\n",
              "      <th>host</th>\n",
              "      <th>src</th>\n",
              "      <th>proto</th>\n",
              "      <th>type</th>\n",
              "      <th>spt</th>\n",
              "      <th>dpt</th>\n",
              "      <th>srcstr</th>\n",
              "      <th>country</th>\n",
              "      <th>locale</th>\n",
              "      <th>latitude</th>\n",
              "      <th>longitude</th>\n",
              "    </tr>\n",
              "  </thead>\n",
              "  <tbody>\n",
              "    <tr>\n",
              "      <th>289</th>\n",
              "      <td>2013-03-08 05:01:00</td>\n",
              "      <td>groucho-tokyo</td>\n",
              "      <td>3.658020e+09</td>\n",
              "      <td>TCP</td>\n",
              "      <td>NaN</td>\n",
              "      <td>6000.0</td>\n",
              "      <td>1433.0</td>\n",
              "      <td>218.8.245.179</td>\n",
              "      <td>China</td>\n",
              "      <td>Heilongjiang Sheng</td>\n",
              "      <td>45.7500</td>\n",
              "      <td>126.6500</td>\n",
              "    </tr>\n",
              "    <tr>\n",
              "      <th>291</th>\n",
              "      <td>2013-03-08 05:03:00</td>\n",
              "      <td>groucho-singapore</td>\n",
              "      <td>3.729578e+09</td>\n",
              "      <td>TCP</td>\n",
              "      <td>NaN</td>\n",
              "      <td>6000.0</td>\n",
              "      <td>65500.0</td>\n",
              "      <td>222.76.217.179</td>\n",
              "      <td>China</td>\n",
              "      <td>Fujian</td>\n",
              "      <td>24.4798</td>\n",
              "      <td>118.0819</td>\n",
              "    </tr>\n",
              "    <tr>\n",
              "      <th>293</th>\n",
              "      <td>2013-03-08 05:11:00</td>\n",
              "      <td>groucho-singapore</td>\n",
              "      <td>1.033070e+09</td>\n",
              "      <td>TCP</td>\n",
              "      <td>NaN</td>\n",
              "      <td>6000.0</td>\n",
              "      <td>1433.0</td>\n",
              "      <td>61.147.103.88</td>\n",
              "      <td>China</td>\n",
              "      <td>Jiangsu Sheng</td>\n",
              "      <td>32.0617</td>\n",
              "      <td>118.7778</td>\n",
              "    </tr>\n",
              "    <tr>\n",
              "      <th>294</th>\n",
              "      <td>2013-03-08 05:14:00</td>\n",
              "      <td>groucho-tokyo</td>\n",
              "      <td>7.109752e+08</td>\n",
              "      <td>TCP</td>\n",
              "      <td>NaN</td>\n",
              "      <td>6000.0</td>\n",
              "      <td>3306.0</td>\n",
              "      <td>42.96.158.201</td>\n",
              "      <td>China</td>\n",
              "      <td>Beijing Shi</td>\n",
              "      <td>39.9289</td>\n",
              "      <td>116.3883</td>\n",
              "    </tr>\n",
              "    <tr>\n",
              "      <th>301</th>\n",
              "      <td>2013-03-08 05:30:00</td>\n",
              "      <td>groucho-tokyo</td>\n",
              "      <td>1.991904e+09</td>\n",
              "      <td>TCP</td>\n",
              "      <td>NaN</td>\n",
              "      <td>6000.0</td>\n",
              "      <td>1433.0</td>\n",
              "      <td>118.186.12.243</td>\n",
              "      <td>China</td>\n",
              "      <td>Beijing Shi</td>\n",
              "      <td>39.9289</td>\n",
              "      <td>116.3883</td>\n",
              "    </tr>\n",
              "    <tr>\n",
              "      <th>...</th>\n",
              "      <td>...</td>\n",
              "      <td>...</td>\n",
              "      <td>...</td>\n",
              "      <td>...</td>\n",
              "      <td>...</td>\n",
              "      <td>...</td>\n",
              "      <td>...</td>\n",
              "      <td>...</td>\n",
              "      <td>...</td>\n",
              "      <td>...</td>\n",
              "      <td>...</td>\n",
              "      <td>...</td>\n",
              "    </tr>\n",
              "    <tr>\n",
              "      <th>432</th>\n",
              "      <td>2013-03-08 07:30:00</td>\n",
              "      <td>groucho-oregon</td>\n",
              "      <td>7.109750e+08</td>\n",
              "      <td>TCP</td>\n",
              "      <td>NaN</td>\n",
              "      <td>7827.0</td>\n",
              "      <td>1433.0</td>\n",
              "      <td>42.96.158.15</td>\n",
              "      <td>China</td>\n",
              "      <td>Beijing Shi</td>\n",
              "      <td>39.9289</td>\n",
              "      <td>116.3883</td>\n",
              "    </tr>\n",
              "    <tr>\n",
              "      <th>433</th>\n",
              "      <td>2013-03-08 07:31:00</td>\n",
              "      <td>groucho-eu</td>\n",
              "      <td>3.722483e+09</td>\n",
              "      <td>TCP</td>\n",
              "      <td>NaN</td>\n",
              "      <td>58313.0</td>\n",
              "      <td>3389.0</td>\n",
              "      <td>221.224.149.134</td>\n",
              "      <td>China</td>\n",
              "      <td>Jiangsu Sheng</td>\n",
              "      <td>32.0617</td>\n",
              "      <td>118.7778</td>\n",
              "    </tr>\n",
              "    <tr>\n",
              "      <th>434</th>\n",
              "      <td>2013-03-08 07:31:00</td>\n",
              "      <td>groucho-eu</td>\n",
              "      <td>3.722483e+09</td>\n",
              "      <td>TCP</td>\n",
              "      <td>NaN</td>\n",
              "      <td>58313.0</td>\n",
              "      <td>3389.0</td>\n",
              "      <td>221.224.149.134</td>\n",
              "      <td>China</td>\n",
              "      <td>Jiangsu Sheng</td>\n",
              "      <td>32.0617</td>\n",
              "      <td>118.7778</td>\n",
              "    </tr>\n",
              "    <tr>\n",
              "      <th>435</th>\n",
              "      <td>2013-03-08 07:31:00</td>\n",
              "      <td>groucho-eu</td>\n",
              "      <td>3.722483e+09</td>\n",
              "      <td>TCP</td>\n",
              "      <td>NaN</td>\n",
              "      <td>58313.0</td>\n",
              "      <td>3389.0</td>\n",
              "      <td>221.224.149.134</td>\n",
              "      <td>China</td>\n",
              "      <td>Jiangsu Sheng</td>\n",
              "      <td>32.0617</td>\n",
              "      <td>118.7778</td>\n",
              "    </tr>\n",
              "    <tr>\n",
              "      <th>436</th>\n",
              "      <td>2013-03-08 07:33:00</td>\n",
              "      <td>groucho-oregon</td>\n",
              "      <td>1.995749e+09</td>\n",
              "      <td>TCP</td>\n",
              "      <td>NaN</td>\n",
              "      <td>6000.0</td>\n",
              "      <td>1433.0</td>\n",
              "      <td>118.244.183.173</td>\n",
              "      <td>China</td>\n",
              "      <td>Beijing Shi</td>\n",
              "      <td>39.9289</td>\n",
              "      <td>116.3883</td>\n",
              "    </tr>\n",
              "  </tbody>\n",
              "</table>\n",
              "<p>71 rows × 12 columns</p>\n",
              "</div>"
            ],
            "text/plain": [
              "               datetime               host           src proto  type      spt  \\\n",
              "289 2013-03-08 05:01:00      groucho-tokyo  3.658020e+09   TCP   NaN   6000.0   \n",
              "291 2013-03-08 05:03:00  groucho-singapore  3.729578e+09   TCP   NaN   6000.0   \n",
              "293 2013-03-08 05:11:00  groucho-singapore  1.033070e+09   TCP   NaN   6000.0   \n",
              "294 2013-03-08 05:14:00      groucho-tokyo  7.109752e+08   TCP   NaN   6000.0   \n",
              "301 2013-03-08 05:30:00      groucho-tokyo  1.991904e+09   TCP   NaN   6000.0   \n",
              "..                  ...                ...           ...   ...   ...      ...   \n",
              "432 2013-03-08 07:30:00     groucho-oregon  7.109750e+08   TCP   NaN   7827.0   \n",
              "433 2013-03-08 07:31:00         groucho-eu  3.722483e+09   TCP   NaN  58313.0   \n",
              "434 2013-03-08 07:31:00         groucho-eu  3.722483e+09   TCP   NaN  58313.0   \n",
              "435 2013-03-08 07:31:00         groucho-eu  3.722483e+09   TCP   NaN  58313.0   \n",
              "436 2013-03-08 07:33:00     groucho-oregon  1.995749e+09   TCP   NaN   6000.0   \n",
              "\n",
              "         dpt           srcstr country              locale  latitude  longitude  \n",
              "289   1433.0    218.8.245.179   China  Heilongjiang Sheng   45.7500   126.6500  \n",
              "291  65500.0   222.76.217.179   China              Fujian   24.4798   118.0819  \n",
              "293   1433.0    61.147.103.88   China       Jiangsu Sheng   32.0617   118.7778  \n",
              "294   3306.0    42.96.158.201   China         Beijing Shi   39.9289   116.3883  \n",
              "301   1433.0   118.186.12.243   China         Beijing Shi   39.9289   116.3883  \n",
              "..       ...              ...     ...                 ...       ...        ...  \n",
              "432   1433.0     42.96.158.15   China         Beijing Shi   39.9289   116.3883  \n",
              "433   3389.0  221.224.149.134   China       Jiangsu Sheng   32.0617   118.7778  \n",
              "434   3389.0  221.224.149.134   China       Jiangsu Sheng   32.0617   118.7778  \n",
              "435   3389.0  221.224.149.134   China       Jiangsu Sheng   32.0617   118.7778  \n",
              "436   1433.0  118.244.183.173   China         Beijing Shi   39.9289   116.3883  \n",
              "\n",
              "[71 rows x 12 columns]"
            ]
          },
          "execution_count": 299,
          "metadata": {},
          "output_type": "execute_result"
        }
      ],
      "source": [
        "honeypot.where((honeypot[\"datetime\"] >= start_time) & (honeypot[\"country\"] == \"China\")).dropna(thresh=2)\n"
      ]
    },
    {
      "cell_type": "markdown",
      "metadata": {
        "id": "1NNsSA9CwCLI"
      },
      "source": [
        "#### Cum manipulam un DataFrame folosind functionale?\n",
        "\n",
        "Acest honey farm colecteaza valorile bandwidth-ului unui atac in bps (biti per secunda), ceea ce le face greu de urmarit.\n",
        "\n",
        "Vom crea o functie care va converti bandwidth-ul la Gbps (gigabiti per secunda) si o vom aplica pe datele din dataframe folosind *apply()*."
      ]
    },
    {
      "cell_type": "code",
      "execution_count": 300,
      "metadata": {
        "colab": {
          "base_uri": "https://localhost:8080/",
          "height": 250
        },
        "id": "naQuRYg515dE",
        "outputId": "d6233ced-f22b-4d7b-be81-5bc228a2a51c"
      },
      "outputs": [
        {
          "data": {
            "text/html": [
              "<div>\n",
              "<style scoped>\n",
              "    .dataframe tbody tr th:only-of-type {\n",
              "        vertical-align: middle;\n",
              "    }\n",
              "\n",
              "    .dataframe tbody tr th {\n",
              "        vertical-align: top;\n",
              "    }\n",
              "\n",
              "    .dataframe thead th {\n",
              "        text-align: right;\n",
              "    }\n",
              "</style>\n",
              "<table border=\"1\" class=\"dataframe\">\n",
              "  <thead>\n",
              "    <tr style=\"text-align: right;\">\n",
              "      <th></th>\n",
              "      <th>datetime</th>\n",
              "      <th>host</th>\n",
              "      <th>src</th>\n",
              "      <th>proto</th>\n",
              "      <th>type</th>\n",
              "      <th>spt</th>\n",
              "      <th>dpt</th>\n",
              "      <th>srcstr</th>\n",
              "      <th>country</th>\n",
              "      <th>locale</th>\n",
              "      <th>latitude</th>\n",
              "      <th>longitude</th>\n",
              "    </tr>\n",
              "  </thead>\n",
              "  <tbody>\n",
              "    <tr>\n",
              "      <th>0</th>\n",
              "      <td>3/8/13 1:11</td>\n",
              "      <td>groucho-tokyo</td>\n",
              "      <td>1.40</td>\n",
              "      <td>TCP</td>\n",
              "      <td>NaN</td>\n",
              "      <td>2065.0</td>\n",
              "      <td>23.0</td>\n",
              "      <td>83.86.153.27</td>\n",
              "      <td>Netherlands</td>\n",
              "      <td>South Holland</td>\n",
              "      <td>52.1763</td>\n",
              "      <td>4.5282</td>\n",
              "    </tr>\n",
              "    <tr>\n",
              "      <th>1</th>\n",
              "      <td>3/8/13 1:12</td>\n",
              "      <td>groucho-tokyo</td>\n",
              "      <td>1.39</td>\n",
              "      <td>TCP</td>\n",
              "      <td>NaN</td>\n",
              "      <td>4667.0</td>\n",
              "      <td>23.0</td>\n",
              "      <td>83.11.89.168</td>\n",
              "      <td>Poland</td>\n",
              "      <td>Kujawsko-Pomorskie</td>\n",
              "      <td>52.5931</td>\n",
              "      <td>19.0894</td>\n",
              "    </tr>\n",
              "    <tr>\n",
              "      <th>2</th>\n",
              "      <td>3/8/13 1:14</td>\n",
              "      <td>groucho-sa</td>\n",
              "      <td>3.66</td>\n",
              "      <td>ICMP</td>\n",
              "      <td>8.0</td>\n",
              "      <td>NaN</td>\n",
              "      <td>NaN</td>\n",
              "      <td>218.76.65.102</td>\n",
              "      <td>China</td>\n",
              "      <td>Hunan</td>\n",
              "      <td>28.1792</td>\n",
              "      <td>113.1136</td>\n",
              "    </tr>\n",
              "    <tr>\n",
              "      <th>3</th>\n",
              "      <td>3/8/13 1:14</td>\n",
              "      <td>groucho-sa</td>\n",
              "      <td>3.66</td>\n",
              "      <td>ICMP</td>\n",
              "      <td>8.0</td>\n",
              "      <td>NaN</td>\n",
              "      <td>NaN</td>\n",
              "      <td>218.76.65.102</td>\n",
              "      <td>China</td>\n",
              "      <td>Hunan</td>\n",
              "      <td>28.1792</td>\n",
              "      <td>113.1136</td>\n",
              "    </tr>\n",
              "    <tr>\n",
              "      <th>4</th>\n",
              "      <td>3/8/13 1:16</td>\n",
              "      <td>groucho-tokyo</td>\n",
              "      <td>0.41</td>\n",
              "      <td>TCP</td>\n",
              "      <td>NaN</td>\n",
              "      <td>3422.0</td>\n",
              "      <td>23.0</td>\n",
              "      <td>24.134.137.248</td>\n",
              "      <td>Germany</td>\n",
              "      <td>Lower Saxony</td>\n",
              "      <td>53.5568</td>\n",
              "      <td>8.1266</td>\n",
              "    </tr>\n",
              "  </tbody>\n",
              "</table>\n",
              "</div>"
            ],
            "text/plain": [
              "      datetime           host   src proto  type     spt   dpt          srcstr  \\\n",
              "0  3/8/13 1:11  groucho-tokyo  1.40   TCP   NaN  2065.0  23.0    83.86.153.27   \n",
              "1  3/8/13 1:12  groucho-tokyo  1.39   TCP   NaN  4667.0  23.0    83.11.89.168   \n",
              "2  3/8/13 1:14     groucho-sa  3.66  ICMP   8.0     NaN   NaN   218.76.65.102   \n",
              "3  3/8/13 1:14     groucho-sa  3.66  ICMP   8.0     NaN   NaN   218.76.65.102   \n",
              "4  3/8/13 1:16  groucho-tokyo  0.41   TCP   NaN  3422.0  23.0  24.134.137.248   \n",
              "\n",
              "       country              locale  latitude  longitude  \n",
              "0  Netherlands       South Holland   52.1763     4.5282  \n",
              "1       Poland  Kujawsko-Pomorskie   52.5931    19.0894  \n",
              "2        China               Hunan   28.1792   113.1136  \n",
              "3        China               Hunan   28.1792   113.1136  \n",
              "4      Germany        Lower Saxony   53.5568     8.1266  "
            ]
          },
          "execution_count": 300,
          "metadata": {},
          "output_type": "execute_result"
        }
      ],
      "source": [
        "honeypot = pd.read_csv(\"dataset/AWS_Honeypot.csv\")\n",
        "\n",
        "def convert_to_gbps(bandwidth):\n",
        "  return round((float) (bandwidth / (10 ** 9)), 2)\n",
        "\n",
        "honeypot[\"src\"] = honeypot[\"src\"].apply(lambda x: convert_to_gbps(x))\n",
        "honeypot.head()"
      ]
    },
    {
      "cell_type": "markdown",
      "metadata": {
        "id": "to4hV4VX5lCa"
      },
      "source": [
        "#### Optional: Good to know: Cum intelegem datele la nivel de grup? *(groupby)*\n",
        "\n",
        "Dorim sa interpretam datele in functie de protocolul folosit in atac:"
      ]
    },
    {
      "cell_type": "code",
      "execution_count": 301,
      "metadata": {
        "colab": {
          "base_uri": "https://localhost:8080/"
        },
        "id": "J96WhG8u52jJ",
        "outputId": "1838b720-d1f4-436a-bfaf-64d8599fa688"
      },
      "outputs": [
        {
          "name": "stdout",
          "output_type": "stream",
          "text": [
            "ICMP: 56 records\n",
            "TCP: 309 records\n",
            "UDP: 79 records\n"
          ]
        }
      ],
      "source": [
        "for group, frame in honeypot.groupby(\"proto\"):\n",
        "  print(str(group) + \": \" + str(len(frame)) + \" records\")"
      ]
    },
    {
      "cell_type": "markdown",
      "metadata": {
        "id": "mDDy1BOF6V9D"
      },
      "source": [
        "##### **GroupBy** este un proces ce implica cel putin unul din pasii *split-apply-combine*:\n",
        "\n",
        "*   *split*: datele se impart in grupuri dupa un criteriu\n",
        "*   *apply*: se aplica o functie pe fiecare grup\n",
        "*   *combine*: rezultatele sunt agregate intr-o structura\n",
        "\n",
        "La pasul apply, putem folosi groupby() impreuna cu una din functiile:"
      ]
    },
    {
      "cell_type": "markdown",
      "metadata": {
        "id": "2y7Q22Ha9dLd"
      },
      "source": [
        "*Aggregate*\n",
        "\n",
        "Pasam un dictionar avand numele coloanelor de interpretat drept chei si functiile necesare interpretarii drept valori.\n",
        "\n",
        "Analizam in continuare grupurile, calculand bandwidth-ul mediu si latitudinea minima pentru fiecare:"
      ]
    },
    {
      "cell_type": "code",
      "execution_count": 302,
      "metadata": {
        "colab": {
          "base_uri": "https://localhost:8080/",
          "height": 175
        },
        "id": "Px8eBFOL7hz5",
        "outputId": "e5f8bef9-5ab9-4e5c-d18a-80e048ab3f48"
      },
      "outputs": [
        {
          "data": {
            "text/html": [
              "<div>\n",
              "<style scoped>\n",
              "    .dataframe tbody tr th:only-of-type {\n",
              "        vertical-align: middle;\n",
              "    }\n",
              "\n",
              "    .dataframe tbody tr th {\n",
              "        vertical-align: top;\n",
              "    }\n",
              "\n",
              "    .dataframe thead th {\n",
              "        text-align: right;\n",
              "    }\n",
              "</style>\n",
              "<table border=\"1\" class=\"dataframe\">\n",
              "  <thead>\n",
              "    <tr style=\"text-align: right;\">\n",
              "      <th></th>\n",
              "      <th>src</th>\n",
              "      <th>latitude</th>\n",
              "    </tr>\n",
              "    <tr>\n",
              "      <th>proto</th>\n",
              "      <th></th>\n",
              "      <th></th>\n",
              "    </tr>\n",
              "  </thead>\n",
              "  <tbody>\n",
              "    <tr>\n",
              "      <th>ICMP</th>\n",
              "      <td>2.705536</td>\n",
              "      <td>-33.8615</td>\n",
              "    </tr>\n",
              "    <tr>\n",
              "      <th>TCP</th>\n",
              "      <td>2.108964</td>\n",
              "      <td>-33.8615</td>\n",
              "    </tr>\n",
              "    <tr>\n",
              "      <th>UDP</th>\n",
              "      <td>2.856203</td>\n",
              "      <td>13.7567</td>\n",
              "    </tr>\n",
              "  </tbody>\n",
              "</table>\n",
              "</div>"
            ],
            "text/plain": [
              "            src  latitude\n",
              "proto                    \n",
              "ICMP   2.705536  -33.8615\n",
              "TCP    2.108964  -33.8615\n",
              "UDP    2.856203   13.7567"
            ]
          },
          "execution_count": 302,
          "metadata": {},
          "output_type": "execute_result"
        }
      ],
      "source": [
        "honeypot.groupby(\"proto\").agg({\"src\": \"mean\", \"latitude\": \"min\"})"
      ]
    },
    {
      "cell_type": "markdown",
      "metadata": {
        "id": "zx92u8VHCTlD"
      },
      "source": [
        "*Filter*\n",
        "\n",
        "Pasam o functie care se aplica pe fiecare grup si intoarce True sau False, in functie de rezultatul grupului la filtru.\n",
        "\n",
        "Vrem sa gasim informatii doar despre atacurile din grupurile care au media bandwidth-ului mai mare de 2.5 Gbps:"
      ]
    },
    {
      "cell_type": "code",
      "execution_count": 303,
      "metadata": {
        "colab": {
          "base_uri": "https://localhost:8080/",
          "height": 423
        },
        "id": "32alyrLLCW6j",
        "outputId": "4a55547a-3efc-4958-940d-d964626ec981"
      },
      "outputs": [
        {
          "data": {
            "text/html": [
              "<div>\n",
              "<style scoped>\n",
              "    .dataframe tbody tr th:only-of-type {\n",
              "        vertical-align: middle;\n",
              "    }\n",
              "\n",
              "    .dataframe tbody tr th {\n",
              "        vertical-align: top;\n",
              "    }\n",
              "\n",
              "    .dataframe thead th {\n",
              "        text-align: right;\n",
              "    }\n",
              "</style>\n",
              "<table border=\"1\" class=\"dataframe\">\n",
              "  <thead>\n",
              "    <tr style=\"text-align: right;\">\n",
              "      <th></th>\n",
              "      <th>datetime</th>\n",
              "      <th>host</th>\n",
              "      <th>src</th>\n",
              "      <th>proto</th>\n",
              "      <th>type</th>\n",
              "      <th>spt</th>\n",
              "      <th>dpt</th>\n",
              "      <th>srcstr</th>\n",
              "      <th>country</th>\n",
              "      <th>locale</th>\n",
              "      <th>latitude</th>\n",
              "      <th>longitude</th>\n",
              "    </tr>\n",
              "  </thead>\n",
              "  <tbody>\n",
              "    <tr>\n",
              "      <th>0</th>\n",
              "      <td>3/8/13 1:14</td>\n",
              "      <td>groucho-sa</td>\n",
              "      <td>3.66</td>\n",
              "      <td>ICMP</td>\n",
              "      <td>8.0</td>\n",
              "      <td>NaN</td>\n",
              "      <td>NaN</td>\n",
              "      <td>218.76.65.102</td>\n",
              "      <td>China</td>\n",
              "      <td>Hunan</td>\n",
              "      <td>28.1792</td>\n",
              "      <td>113.1136</td>\n",
              "    </tr>\n",
              "    <tr>\n",
              "      <th>1</th>\n",
              "      <td>3/8/13 1:14</td>\n",
              "      <td>groucho-sa</td>\n",
              "      <td>3.66</td>\n",
              "      <td>ICMP</td>\n",
              "      <td>8.0</td>\n",
              "      <td>NaN</td>\n",
              "      <td>NaN</td>\n",
              "      <td>218.76.65.102</td>\n",
              "      <td>China</td>\n",
              "      <td>Hunan</td>\n",
              "      <td>28.1792</td>\n",
              "      <td>113.1136</td>\n",
              "    </tr>\n",
              "    <tr>\n",
              "      <th>2</th>\n",
              "      <td>3/8/13 1:21</td>\n",
              "      <td>groucho-eu</td>\n",
              "      <td>2.01</td>\n",
              "      <td>ICMP</td>\n",
              "      <td>8.0</td>\n",
              "      <td>NaN</td>\n",
              "      <td>NaN</td>\n",
              "      <td>119.184.124.10</td>\n",
              "      <td>China</td>\n",
              "      <td>Shandong Sheng</td>\n",
              "      <td>36.6683</td>\n",
              "      <td>116.9972</td>\n",
              "    </tr>\n",
              "    <tr>\n",
              "      <th>3</th>\n",
              "      <td>3/8/13 1:21</td>\n",
              "      <td>groucho-eu</td>\n",
              "      <td>2.01</td>\n",
              "      <td>ICMP</td>\n",
              "      <td>8.0</td>\n",
              "      <td>NaN</td>\n",
              "      <td>NaN</td>\n",
              "      <td>119.184.124.10</td>\n",
              "      <td>China</td>\n",
              "      <td>Shandong Sheng</td>\n",
              "      <td>36.6683</td>\n",
              "      <td>116.9972</td>\n",
              "    </tr>\n",
              "    <tr>\n",
              "      <th>4</th>\n",
              "      <td>3/8/13 1:22</td>\n",
              "      <td>groucho-sa</td>\n",
              "      <td>3.43</td>\n",
              "      <td>ICMP</td>\n",
              "      <td>3.0</td>\n",
              "      <td>NaN</td>\n",
              "      <td>NaN</td>\n",
              "      <td>204.45.126.12</td>\n",
              "      <td>United States</td>\n",
              "      <td>Colorado</td>\n",
              "      <td>39.7525</td>\n",
              "      <td>-104.9995</td>\n",
              "    </tr>\n",
              "    <tr>\n",
              "      <th>...</th>\n",
              "      <td>...</td>\n",
              "      <td>...</td>\n",
              "      <td>...</td>\n",
              "      <td>...</td>\n",
              "      <td>...</td>\n",
              "      <td>...</td>\n",
              "      <td>...</td>\n",
              "      <td>...</td>\n",
              "      <td>...</td>\n",
              "      <td>...</td>\n",
              "      <td>...</td>\n",
              "      <td>...</td>\n",
              "    </tr>\n",
              "    <tr>\n",
              "      <th>130</th>\n",
              "      <td>3/8/13 7:35</td>\n",
              "      <td>groucho-us-east</td>\n",
              "      <td>1.92</td>\n",
              "      <td>UDP</td>\n",
              "      <td>NaN</td>\n",
              "      <td>57760.0</td>\n",
              "      <td>54521.0</td>\n",
              "      <td>114.163.112.153</td>\n",
              "      <td>Japan</td>\n",
              "      <td>Tokyo-to</td>\n",
              "      <td>35.6850</td>\n",
              "      <td>139.7514</td>\n",
              "    </tr>\n",
              "    <tr>\n",
              "      <th>131</th>\n",
              "      <td>3/8/13 7:35</td>\n",
              "      <td>groucho-us-east</td>\n",
              "      <td>1.92</td>\n",
              "      <td>UDP</td>\n",
              "      <td>NaN</td>\n",
              "      <td>57760.0</td>\n",
              "      <td>54521.0</td>\n",
              "      <td>114.163.112.153</td>\n",
              "      <td>Japan</td>\n",
              "      <td>Tokyo-to</td>\n",
              "      <td>35.6850</td>\n",
              "      <td>139.7514</td>\n",
              "    </tr>\n",
              "    <tr>\n",
              "      <th>132</th>\n",
              "      <td>3/8/13 7:35</td>\n",
              "      <td>groucho-us-east</td>\n",
              "      <td>1.92</td>\n",
              "      <td>UDP</td>\n",
              "      <td>NaN</td>\n",
              "      <td>57760.0</td>\n",
              "      <td>54521.0</td>\n",
              "      <td>114.163.112.153</td>\n",
              "      <td>Japan</td>\n",
              "      <td>Tokyo-to</td>\n",
              "      <td>35.6850</td>\n",
              "      <td>139.7514</td>\n",
              "    </tr>\n",
              "    <tr>\n",
              "      <th>133</th>\n",
              "      <td>3/8/13 7:36</td>\n",
              "      <td>groucho-us-east</td>\n",
              "      <td>1.92</td>\n",
              "      <td>UDP</td>\n",
              "      <td>NaN</td>\n",
              "      <td>57760.0</td>\n",
              "      <td>54521.0</td>\n",
              "      <td>114.163.112.153</td>\n",
              "      <td>Japan</td>\n",
              "      <td>Tokyo-to</td>\n",
              "      <td>35.6850</td>\n",
              "      <td>139.7514</td>\n",
              "    </tr>\n",
              "    <tr>\n",
              "      <th>134</th>\n",
              "      <td>3/8/13 7:36</td>\n",
              "      <td>groucho-singapore</td>\n",
              "      <td>3.34</td>\n",
              "      <td>ICMP</td>\n",
              "      <td>0.0</td>\n",
              "      <td>NaN</td>\n",
              "      <td>NaN</td>\n",
              "      <td>199.59.88.29</td>\n",
              "      <td>United States</td>\n",
              "      <td>Michigan</td>\n",
              "      <td>42.5065</td>\n",
              "      <td>-83.3491</td>\n",
              "    </tr>\n",
              "  </tbody>\n",
              "</table>\n",
              "<p>135 rows × 12 columns</p>\n",
              "</div>"
            ],
            "text/plain": [
              "        datetime               host   src proto  type      spt      dpt  \\\n",
              "0    3/8/13 1:14         groucho-sa  3.66  ICMP   8.0      NaN      NaN   \n",
              "1    3/8/13 1:14         groucho-sa  3.66  ICMP   8.0      NaN      NaN   \n",
              "2    3/8/13 1:21         groucho-eu  2.01  ICMP   8.0      NaN      NaN   \n",
              "3    3/8/13 1:21         groucho-eu  2.01  ICMP   8.0      NaN      NaN   \n",
              "4    3/8/13 1:22         groucho-sa  3.43  ICMP   3.0      NaN      NaN   \n",
              "..           ...                ...   ...   ...   ...      ...      ...   \n",
              "130  3/8/13 7:35    groucho-us-east  1.92   UDP   NaN  57760.0  54521.0   \n",
              "131  3/8/13 7:35    groucho-us-east  1.92   UDP   NaN  57760.0  54521.0   \n",
              "132  3/8/13 7:35    groucho-us-east  1.92   UDP   NaN  57760.0  54521.0   \n",
              "133  3/8/13 7:36    groucho-us-east  1.92   UDP   NaN  57760.0  54521.0   \n",
              "134  3/8/13 7:36  groucho-singapore  3.34  ICMP   0.0      NaN      NaN   \n",
              "\n",
              "              srcstr        country          locale  latitude  longitude  \n",
              "0      218.76.65.102          China           Hunan   28.1792   113.1136  \n",
              "1      218.76.65.102          China           Hunan   28.1792   113.1136  \n",
              "2     119.184.124.10          China  Shandong Sheng   36.6683   116.9972  \n",
              "3     119.184.124.10          China  Shandong Sheng   36.6683   116.9972  \n",
              "4      204.45.126.12  United States        Colorado   39.7525  -104.9995  \n",
              "..               ...            ...             ...       ...        ...  \n",
              "130  114.163.112.153          Japan        Tokyo-to   35.6850   139.7514  \n",
              "131  114.163.112.153          Japan        Tokyo-to   35.6850   139.7514  \n",
              "132  114.163.112.153          Japan        Tokyo-to   35.6850   139.7514  \n",
              "133  114.163.112.153          Japan        Tokyo-to   35.6850   139.7514  \n",
              "134     199.59.88.29  United States        Michigan   42.5065   -83.3491  \n",
              "\n",
              "[135 rows x 12 columns]"
            ]
          },
          "execution_count": 303,
          "metadata": {},
          "output_type": "execute_result"
        }
      ],
      "source": [
        "# gasim informatii doar despre atacurile din grupurile care au media\n",
        "# bandwidth-ului mai mare de 2.5 Gbps\n",
        "bw = honeypot.groupby(\"proto\").filter(lambda df: np.nanmean(df[\"src\"]) > 2.5)\n",
        "bw.reset_index(inplace=True)\n",
        "bw.drop(columns=\"index\")\n"
      ]
    },
    {
      "cell_type": "markdown",
      "metadata": {
        "id": "kOfAxbEPCXgG"
      },
      "source": [
        "*Apply*"
      ]
    },
    {
      "cell_type": "markdown",
      "metadata": {
        "id": "gF54KdX_MW3i"
      },
      "source": [
        "Pasam o functie care se va aplica pe fiecare grup, oferindu-ne posibilitatea de a pastra rezultatele obtinute in cadrul aceluiasi dataframe.\n",
        "\n",
        "Intentionam sa grupam atacurile dupa protocolul folosit si sa aflam care este deviatia standard a fiecarui atac fata de media grupului din care face parte."
      ]
    },
    {
      "cell_type": "code",
      "execution_count": 304,
      "metadata": {
        "colab": {
          "base_uri": "https://localhost:8080/",
          "height": 423
        },
        "id": "QZejQ1VnCZ9r",
        "outputId": "8d2a4f3b-8da7-45f2-b1a9-4505ff5257df"
      },
      "outputs": [
        {
          "data": {
            "text/html": [
              "<div>\n",
              "<style scoped>\n",
              "    .dataframe tbody tr th:only-of-type {\n",
              "        vertical-align: middle;\n",
              "    }\n",
              "\n",
              "    .dataframe tbody tr th {\n",
              "        vertical-align: top;\n",
              "    }\n",
              "\n",
              "    .dataframe thead th {\n",
              "        text-align: right;\n",
              "    }\n",
              "</style>\n",
              "<table border=\"1\" class=\"dataframe\">\n",
              "  <thead>\n",
              "    <tr style=\"text-align: right;\">\n",
              "      <th></th>\n",
              "      <th></th>\n",
              "      <th>src</th>\n",
              "      <th>avg</th>\n",
              "      <th>std_dev</th>\n",
              "    </tr>\n",
              "    <tr>\n",
              "      <th>proto</th>\n",
              "      <th></th>\n",
              "      <th></th>\n",
              "      <th></th>\n",
              "      <th></th>\n",
              "    </tr>\n",
              "  </thead>\n",
              "  <tbody>\n",
              "    <tr>\n",
              "      <th rowspan=\"5\" valign=\"top\">ICMP</th>\n",
              "      <th>2</th>\n",
              "      <td>3.66</td>\n",
              "      <td>2.705536</td>\n",
              "      <td>0.954464</td>\n",
              "    </tr>\n",
              "    <tr>\n",
              "      <th>3</th>\n",
              "      <td>3.66</td>\n",
              "      <td>2.705536</td>\n",
              "      <td>0.954464</td>\n",
              "    </tr>\n",
              "    <tr>\n",
              "      <th>11</th>\n",
              "      <td>2.01</td>\n",
              "      <td>2.705536</td>\n",
              "      <td>0.695536</td>\n",
              "    </tr>\n",
              "    <tr>\n",
              "      <th>12</th>\n",
              "      <td>2.01</td>\n",
              "      <td>2.705536</td>\n",
              "      <td>0.695536</td>\n",
              "    </tr>\n",
              "    <tr>\n",
              "      <th>17</th>\n",
              "      <td>3.43</td>\n",
              "      <td>2.705536</td>\n",
              "      <td>0.724464</td>\n",
              "    </tr>\n",
              "    <tr>\n",
              "      <th>...</th>\n",
              "      <th>...</th>\n",
              "      <td>...</td>\n",
              "      <td>...</td>\n",
              "      <td>...</td>\n",
              "    </tr>\n",
              "    <tr>\n",
              "      <th rowspan=\"5\" valign=\"top\">UDP</th>\n",
              "      <th>438</th>\n",
              "      <td>1.92</td>\n",
              "      <td>2.856203</td>\n",
              "      <td>0.936203</td>\n",
              "    </tr>\n",
              "    <tr>\n",
              "      <th>439</th>\n",
              "      <td>1.92</td>\n",
              "      <td>2.856203</td>\n",
              "      <td>0.936203</td>\n",
              "    </tr>\n",
              "    <tr>\n",
              "      <th>440</th>\n",
              "      <td>1.92</td>\n",
              "      <td>2.856203</td>\n",
              "      <td>0.936203</td>\n",
              "    </tr>\n",
              "    <tr>\n",
              "      <th>441</th>\n",
              "      <td>1.92</td>\n",
              "      <td>2.856203</td>\n",
              "      <td>0.936203</td>\n",
              "    </tr>\n",
              "    <tr>\n",
              "      <th>442</th>\n",
              "      <td>1.92</td>\n",
              "      <td>2.856203</td>\n",
              "      <td>0.936203</td>\n",
              "    </tr>\n",
              "  </tbody>\n",
              "</table>\n",
              "<p>444 rows × 3 columns</p>\n",
              "</div>"
            ],
            "text/plain": [
              "            src       avg   std_dev\n",
              "proto                              \n",
              "ICMP  2    3.66  2.705536  0.954464\n",
              "      3    3.66  2.705536  0.954464\n",
              "      11   2.01  2.705536  0.695536\n",
              "      12   2.01  2.705536  0.695536\n",
              "      17   3.43  2.705536  0.724464\n",
              "...         ...       ...       ...\n",
              "UDP   438  1.92  2.856203  0.936203\n",
              "      439  1.92  2.856203  0.936203\n",
              "      440  1.92  2.856203  0.936203\n",
              "      441  1.92  2.856203  0.936203\n",
              "      442  1.92  2.856203  0.936203\n",
              "\n",
              "[444 rows x 3 columns]"
            ]
          },
          "execution_count": 304,
          "metadata": {},
          "output_type": "execute_result"
        }
      ],
      "source": [
        "df = honeypot[['src', 'proto']]\n",
        "\n",
        "def compute_std_dev(group):\n",
        "  avg = np.nanmean(group['src'])\n",
        "  group['avg'] = avg\n",
        "  group['std_dev'] = np.abs(avg - group['src'])\n",
        "  return group\n",
        "\n",
        "df.groupby('proto').apply(compute_std_dev, include_groups=False)"
      ]
    },
    {
      "cell_type": "markdown",
      "metadata": {
        "id": "mTcmK7ObCicu"
      },
      "source": [
        "#### Cum analizam datele din mai multe surse? *(merging dataframes)*\n",
        "\n",
        "Pandas vine la dispozitie cu instrumente in acest scop, precum *merge()* (similar join-ului din SQL) si *concat()*."
      ]
    },
    {
      "cell_type": "code",
      "execution_count": 305,
      "metadata": {
        "colab": {
          "base_uri": "https://localhost:8080/",
          "height": 225
        },
        "id": "j6Z3gerbC9SI",
        "outputId": "6cf11409-99c7-42cf-cc8e-eda3b5dd1262"
      },
      "outputs": [
        {
          "name": "stdout",
          "output_type": "stream",
          "text": [
            "(5, 12)\n"
          ]
        },
        {
          "data": {
            "text/html": [
              "<div>\n",
              "<style scoped>\n",
              "    .dataframe tbody tr th:only-of-type {\n",
              "        vertical-align: middle;\n",
              "    }\n",
              "\n",
              "    .dataframe tbody tr th {\n",
              "        vertical-align: top;\n",
              "    }\n",
              "\n",
              "    .dataframe thead th {\n",
              "        text-align: right;\n",
              "    }\n",
              "</style>\n",
              "<table border=\"1\" class=\"dataframe\">\n",
              "  <thead>\n",
              "    <tr style=\"text-align: right;\">\n",
              "      <th></th>\n",
              "      <th>datetime</th>\n",
              "      <th>host</th>\n",
              "      <th>src</th>\n",
              "      <th>proto</th>\n",
              "      <th>type</th>\n",
              "      <th>spt</th>\n",
              "      <th>dpt</th>\n",
              "      <th>srcstr</th>\n",
              "      <th>country</th>\n",
              "      <th>locale</th>\n",
              "      <th>latitude</th>\n",
              "      <th>longitude</th>\n",
              "    </tr>\n",
              "  </thead>\n",
              "  <tbody>\n",
              "    <tr>\n",
              "      <th>0</th>\n",
              "      <td>3/8/13 1:11</td>\n",
              "      <td>groucho-tokyo</td>\n",
              "      <td>1398184219</td>\n",
              "      <td>TCP</td>\n",
              "      <td>NaN</td>\n",
              "      <td>2065.0</td>\n",
              "      <td>23.0</td>\n",
              "      <td>83.86.153.27</td>\n",
              "      <td>Netherlands</td>\n",
              "      <td>South Holland</td>\n",
              "      <td>52.1763</td>\n",
              "      <td>4.5282</td>\n",
              "    </tr>\n",
              "    <tr>\n",
              "      <th>1</th>\n",
              "      <td>3/8/13 1:12</td>\n",
              "      <td>groucho-tokyo</td>\n",
              "      <td>1393252776</td>\n",
              "      <td>TCP</td>\n",
              "      <td>NaN</td>\n",
              "      <td>4667.0</td>\n",
              "      <td>23.0</td>\n",
              "      <td>83.11.89.168</td>\n",
              "      <td>Poland</td>\n",
              "      <td>Kujawsko-Pomorskie</td>\n",
              "      <td>52.5931</td>\n",
              "      <td>19.0894</td>\n",
              "    </tr>\n",
              "    <tr>\n",
              "      <th>2</th>\n",
              "      <td>3/8/13 1:14</td>\n",
              "      <td>groucho-sa</td>\n",
              "      <td>3662430566</td>\n",
              "      <td>ICMP</td>\n",
              "      <td>8.0</td>\n",
              "      <td>NaN</td>\n",
              "      <td>NaN</td>\n",
              "      <td>218.76.65.102</td>\n",
              "      <td>China</td>\n",
              "      <td>Hunan</td>\n",
              "      <td>28.1792</td>\n",
              "      <td>113.1136</td>\n",
              "    </tr>\n",
              "    <tr>\n",
              "      <th>3</th>\n",
              "      <td>3/8/13 1:14</td>\n",
              "      <td>groucho-sa</td>\n",
              "      <td>3662430566</td>\n",
              "      <td>ICMP</td>\n",
              "      <td>8.0</td>\n",
              "      <td>NaN</td>\n",
              "      <td>NaN</td>\n",
              "      <td>218.76.65.102</td>\n",
              "      <td>China</td>\n",
              "      <td>Hunan</td>\n",
              "      <td>28.1792</td>\n",
              "      <td>113.1136</td>\n",
              "    </tr>\n",
              "    <tr>\n",
              "      <th>4</th>\n",
              "      <td>3/8/13 1:16</td>\n",
              "      <td>groucho-tokyo</td>\n",
              "      <td>411470328</td>\n",
              "      <td>TCP</td>\n",
              "      <td>NaN</td>\n",
              "      <td>3422.0</td>\n",
              "      <td>23.0</td>\n",
              "      <td>24.134.137.248</td>\n",
              "      <td>Germany</td>\n",
              "      <td>Lower Saxony</td>\n",
              "      <td>53.5568</td>\n",
              "      <td>8.1266</td>\n",
              "    </tr>\n",
              "  </tbody>\n",
              "</table>\n",
              "</div>"
            ],
            "text/plain": [
              "      datetime           host         src proto  type     spt   dpt  \\\n",
              "0  3/8/13 1:11  groucho-tokyo  1398184219   TCP   NaN  2065.0  23.0   \n",
              "1  3/8/13 1:12  groucho-tokyo  1393252776   TCP   NaN  4667.0  23.0   \n",
              "2  3/8/13 1:14     groucho-sa  3662430566  ICMP   8.0     NaN   NaN   \n",
              "3  3/8/13 1:14     groucho-sa  3662430566  ICMP   8.0     NaN   NaN   \n",
              "4  3/8/13 1:16  groucho-tokyo   411470328   TCP   NaN  3422.0  23.0   \n",
              "\n",
              "           srcstr      country              locale  latitude  longitude  \n",
              "0    83.86.153.27  Netherlands       South Holland   52.1763     4.5282  \n",
              "1    83.11.89.168       Poland  Kujawsko-Pomorskie   52.5931    19.0894  \n",
              "2   218.76.65.102        China               Hunan   28.1792   113.1136  \n",
              "3   218.76.65.102        China               Hunan   28.1792   113.1136  \n",
              "4  24.134.137.248      Germany        Lower Saxony   53.5568     8.1266  "
            ]
          },
          "execution_count": 305,
          "metadata": {},
          "output_type": "execute_result"
        }
      ],
      "source": [
        "first = pd.read_csv(\"dataset/AWS_Honeypot.csv\")\n",
        "first = first.head(5)\n",
        "print(first.shape)\n",
        "first"
      ]
    },
    {
      "cell_type": "code",
      "execution_count": 306,
      "metadata": {
        "colab": {
          "base_uri": "https://localhost:8080/",
          "height": 381
        },
        "id": "W76Nu16LHig4",
        "outputId": "6f3e36c9-c908-47b3-c6ae-8ebfb1137b5c"
      },
      "outputs": [
        {
          "name": "stdout",
          "output_type": "stream",
          "text": [
            "(10, 8)\n"
          ]
        },
        {
          "data": {
            "text/html": [
              "<div>\n",
              "<style scoped>\n",
              "    .dataframe tbody tr th:only-of-type {\n",
              "        vertical-align: middle;\n",
              "    }\n",
              "\n",
              "    .dataframe tbody tr th {\n",
              "        vertical-align: top;\n",
              "    }\n",
              "\n",
              "    .dataframe thead th {\n",
              "        text-align: right;\n",
              "    }\n",
              "</style>\n",
              "<table border=\"1\" class=\"dataframe\">\n",
              "  <thead>\n",
              "    <tr style=\"text-align: right;\">\n",
              "      <th></th>\n",
              "      <th>datetime</th>\n",
              "      <th>host</th>\n",
              "      <th>srcstr</th>\n",
              "      <th>cc</th>\n",
              "      <th>localeabbr</th>\n",
              "      <th>postalcode</th>\n",
              "      <th>latitude</th>\n",
              "      <th>longitude</th>\n",
              "    </tr>\n",
              "  </thead>\n",
              "  <tbody>\n",
              "    <tr>\n",
              "      <th>0</th>\n",
              "      <td>3/8/13 1:11</td>\n",
              "      <td>groucho-tokyo</td>\n",
              "      <td>83.86.153.27</td>\n",
              "      <td>NL</td>\n",
              "      <td>ZH</td>\n",
              "      <td>NaN</td>\n",
              "      <td>52.1763</td>\n",
              "      <td>4.5282</td>\n",
              "    </tr>\n",
              "    <tr>\n",
              "      <th>1</th>\n",
              "      <td>3/8/13 1:12</td>\n",
              "      <td>groucho-tokyo</td>\n",
              "      <td>83.11.89.168</td>\n",
              "      <td>PL</td>\n",
              "      <td>KP</td>\n",
              "      <td>NaN</td>\n",
              "      <td>52.5931</td>\n",
              "      <td>19.0894</td>\n",
              "    </tr>\n",
              "    <tr>\n",
              "      <th>2</th>\n",
              "      <td>3/8/13 1:14</td>\n",
              "      <td>groucho-sa</td>\n",
              "      <td>218.76.65.102</td>\n",
              "      <td>CN</td>\n",
              "      <td>43</td>\n",
              "      <td>NaN</td>\n",
              "      <td>28.1792</td>\n",
              "      <td>113.1136</td>\n",
              "    </tr>\n",
              "    <tr>\n",
              "      <th>3</th>\n",
              "      <td>3/8/13 1:14</td>\n",
              "      <td>groucho-sa</td>\n",
              "      <td>218.76.65.102</td>\n",
              "      <td>CN</td>\n",
              "      <td>43</td>\n",
              "      <td>NaN</td>\n",
              "      <td>28.1792</td>\n",
              "      <td>113.1136</td>\n",
              "    </tr>\n",
              "    <tr>\n",
              "      <th>4</th>\n",
              "      <td>3/8/13 1:16</td>\n",
              "      <td>groucho-tokyo</td>\n",
              "      <td>24.134.137.248</td>\n",
              "      <td>DE</td>\n",
              "      <td>NI</td>\n",
              "      <td>26386.0</td>\n",
              "      <td>53.5568</td>\n",
              "      <td>8.1266</td>\n",
              "    </tr>\n",
              "    <tr>\n",
              "      <th>5</th>\n",
              "      <td>3/8/13 1:16</td>\n",
              "      <td>groucho-oregon</td>\n",
              "      <td>117.41.246.218</td>\n",
              "      <td>CN</td>\n",
              "      <td>36</td>\n",
              "      <td>NaN</td>\n",
              "      <td>28.5500</td>\n",
              "      <td>115.9333</td>\n",
              "    </tr>\n",
              "    <tr>\n",
              "      <th>6</th>\n",
              "      <td>3/8/13 1:17</td>\n",
              "      <td>groucho-tokyo</td>\n",
              "      <td>222.241.150.140</td>\n",
              "      <td>CN</td>\n",
              "      <td>43</td>\n",
              "      <td>NaN</td>\n",
              "      <td>28.1792</td>\n",
              "      <td>113.1136</td>\n",
              "    </tr>\n",
              "    <tr>\n",
              "      <th>7</th>\n",
              "      <td>3/8/13 1:18</td>\n",
              "      <td>groucho-tokyo</td>\n",
              "      <td>61.147.103.139</td>\n",
              "      <td>CN</td>\n",
              "      <td>32</td>\n",
              "      <td>NaN</td>\n",
              "      <td>32.0617</td>\n",
              "      <td>118.7778</td>\n",
              "    </tr>\n",
              "    <tr>\n",
              "      <th>8</th>\n",
              "      <td>3/8/13 1:19</td>\n",
              "      <td>groucho-tokyo</td>\n",
              "      <td>95.76.180.63</td>\n",
              "      <td>RO</td>\n",
              "      <td>BZ</td>\n",
              "      <td>NaN</td>\n",
              "      <td>45.1500</td>\n",
              "      <td>26.8333</td>\n",
              "    </tr>\n",
              "    <tr>\n",
              "      <th>9</th>\n",
              "      <td>3/8/13 1:20</td>\n",
              "      <td>groucho-tokyo</td>\n",
              "      <td>95.76.180.63</td>\n",
              "      <td>RO</td>\n",
              "      <td>BZ</td>\n",
              "      <td>NaN</td>\n",
              "      <td>45.1500</td>\n",
              "      <td>26.8333</td>\n",
              "    </tr>\n",
              "  </tbody>\n",
              "</table>\n",
              "</div>"
            ],
            "text/plain": [
              "      datetime            host           srcstr  cc localeabbr  postalcode  \\\n",
              "0  3/8/13 1:11   groucho-tokyo     83.86.153.27  NL         ZH         NaN   \n",
              "1  3/8/13 1:12   groucho-tokyo     83.11.89.168  PL         KP         NaN   \n",
              "2  3/8/13 1:14      groucho-sa    218.76.65.102  CN         43         NaN   \n",
              "3  3/8/13 1:14      groucho-sa    218.76.65.102  CN         43         NaN   \n",
              "4  3/8/13 1:16   groucho-tokyo   24.134.137.248  DE         NI     26386.0   \n",
              "5  3/8/13 1:16  groucho-oregon   117.41.246.218  CN         36         NaN   \n",
              "6  3/8/13 1:17   groucho-tokyo  222.241.150.140  CN         43         NaN   \n",
              "7  3/8/13 1:18   groucho-tokyo   61.147.103.139  CN         32         NaN   \n",
              "8  3/8/13 1:19   groucho-tokyo     95.76.180.63  RO         BZ         NaN   \n",
              "9  3/8/13 1:20   groucho-tokyo     95.76.180.63  RO         BZ         NaN   \n",
              "\n",
              "   latitude  longitude  \n",
              "0   52.1763     4.5282  \n",
              "1   52.5931    19.0894  \n",
              "2   28.1792   113.1136  \n",
              "3   28.1792   113.1136  \n",
              "4   53.5568     8.1266  \n",
              "5   28.5500   115.9333  \n",
              "6   28.1792   113.1136  \n",
              "7   32.0617   118.7778  \n",
              "8   45.1500    26.8333  \n",
              "9   45.1500    26.8333  "
            ]
          },
          "execution_count": 306,
          "metadata": {},
          "output_type": "execute_result"
        }
      ],
      "source": [
        "#loc = pd.read_ods(\"AWS_Honeypot_location.ods\")\n",
        "loc = pd.read_excel(\"dataset/AWS_Honeypot_location.ods\", engine=\"odf\")\n",
        "loc = loc.head(10)\n",
        "print(loc.shape)\n",
        "loc"
      ]
    },
    {
      "cell_type": "markdown",
      "metadata": {
        "id": "DtWUh9w_rIdh"
      },
      "source": [
        "##### *Inner Merge*\n",
        "\n",
        "Join-ul se va face dupa coloanele comune.\n",
        "Este tipul implicit de merge."
      ]
    },
    {
      "cell_type": "code",
      "execution_count": 307,
      "metadata": {
        "colab": {
          "base_uri": "https://localhost:8080/",
          "height": 214
        },
        "id": "CtQ-0eKaf15C",
        "outputId": "3848b0e6-6031-46ec-8171-2fdbd4572b7d"
      },
      "outputs": [
        {
          "name": "stdout",
          "output_type": "stream",
          "text": [
            "(7, 15)\n"
          ]
        },
        {
          "data": {
            "text/html": [
              "<div>\n",
              "<style scoped>\n",
              "    .dataframe tbody tr th:only-of-type {\n",
              "        vertical-align: middle;\n",
              "    }\n",
              "\n",
              "    .dataframe tbody tr th {\n",
              "        vertical-align: top;\n",
              "    }\n",
              "\n",
              "    .dataframe thead th {\n",
              "        text-align: right;\n",
              "    }\n",
              "</style>\n",
              "<table border=\"1\" class=\"dataframe\">\n",
              "  <thead>\n",
              "    <tr style=\"text-align: right;\">\n",
              "      <th></th>\n",
              "      <th>datetime</th>\n",
              "      <th>host</th>\n",
              "      <th>src</th>\n",
              "      <th>proto</th>\n",
              "      <th>type</th>\n",
              "      <th>spt</th>\n",
              "      <th>dpt</th>\n",
              "      <th>srcstr</th>\n",
              "      <th>country</th>\n",
              "      <th>locale</th>\n",
              "      <th>latitude</th>\n",
              "      <th>longitude</th>\n",
              "      <th>cc</th>\n",
              "      <th>localeabbr</th>\n",
              "      <th>postalcode</th>\n",
              "    </tr>\n",
              "  </thead>\n",
              "  <tbody>\n",
              "    <tr>\n",
              "      <th>0</th>\n",
              "      <td>3/8/13 1:11</td>\n",
              "      <td>groucho-tokyo</td>\n",
              "      <td>1398184219</td>\n",
              "      <td>TCP</td>\n",
              "      <td>NaN</td>\n",
              "      <td>2065.0</td>\n",
              "      <td>23.0</td>\n",
              "      <td>83.86.153.27</td>\n",
              "      <td>Netherlands</td>\n",
              "      <td>South Holland</td>\n",
              "      <td>52.1763</td>\n",
              "      <td>4.5282</td>\n",
              "      <td>NL</td>\n",
              "      <td>ZH</td>\n",
              "      <td>NaN</td>\n",
              "    </tr>\n",
              "    <tr>\n",
              "      <th>1</th>\n",
              "      <td>3/8/13 1:12</td>\n",
              "      <td>groucho-tokyo</td>\n",
              "      <td>1393252776</td>\n",
              "      <td>TCP</td>\n",
              "      <td>NaN</td>\n",
              "      <td>4667.0</td>\n",
              "      <td>23.0</td>\n",
              "      <td>83.11.89.168</td>\n",
              "      <td>Poland</td>\n",
              "      <td>Kujawsko-Pomorskie</td>\n",
              "      <td>52.5931</td>\n",
              "      <td>19.0894</td>\n",
              "      <td>PL</td>\n",
              "      <td>KP</td>\n",
              "      <td>NaN</td>\n",
              "    </tr>\n",
              "    <tr>\n",
              "      <th>2</th>\n",
              "      <td>3/8/13 1:14</td>\n",
              "      <td>groucho-sa</td>\n",
              "      <td>3662430566</td>\n",
              "      <td>ICMP</td>\n",
              "      <td>8.0</td>\n",
              "      <td>NaN</td>\n",
              "      <td>NaN</td>\n",
              "      <td>218.76.65.102</td>\n",
              "      <td>China</td>\n",
              "      <td>Hunan</td>\n",
              "      <td>28.1792</td>\n",
              "      <td>113.1136</td>\n",
              "      <td>CN</td>\n",
              "      <td>43</td>\n",
              "      <td>NaN</td>\n",
              "    </tr>\n",
              "    <tr>\n",
              "      <th>3</th>\n",
              "      <td>3/8/13 1:14</td>\n",
              "      <td>groucho-sa</td>\n",
              "      <td>3662430566</td>\n",
              "      <td>ICMP</td>\n",
              "      <td>8.0</td>\n",
              "      <td>NaN</td>\n",
              "      <td>NaN</td>\n",
              "      <td>218.76.65.102</td>\n",
              "      <td>China</td>\n",
              "      <td>Hunan</td>\n",
              "      <td>28.1792</td>\n",
              "      <td>113.1136</td>\n",
              "      <td>CN</td>\n",
              "      <td>43</td>\n",
              "      <td>NaN</td>\n",
              "    </tr>\n",
              "    <tr>\n",
              "      <th>4</th>\n",
              "      <td>3/8/13 1:14</td>\n",
              "      <td>groucho-sa</td>\n",
              "      <td>3662430566</td>\n",
              "      <td>ICMP</td>\n",
              "      <td>8.0</td>\n",
              "      <td>NaN</td>\n",
              "      <td>NaN</td>\n",
              "      <td>218.76.65.102</td>\n",
              "      <td>China</td>\n",
              "      <td>Hunan</td>\n",
              "      <td>28.1792</td>\n",
              "      <td>113.1136</td>\n",
              "      <td>CN</td>\n",
              "      <td>43</td>\n",
              "      <td>NaN</td>\n",
              "    </tr>\n",
              "    <tr>\n",
              "      <th>5</th>\n",
              "      <td>3/8/13 1:14</td>\n",
              "      <td>groucho-sa</td>\n",
              "      <td>3662430566</td>\n",
              "      <td>ICMP</td>\n",
              "      <td>8.0</td>\n",
              "      <td>NaN</td>\n",
              "      <td>NaN</td>\n",
              "      <td>218.76.65.102</td>\n",
              "      <td>China</td>\n",
              "      <td>Hunan</td>\n",
              "      <td>28.1792</td>\n",
              "      <td>113.1136</td>\n",
              "      <td>CN</td>\n",
              "      <td>43</td>\n",
              "      <td>NaN</td>\n",
              "    </tr>\n",
              "    <tr>\n",
              "      <th>6</th>\n",
              "      <td>3/8/13 1:16</td>\n",
              "      <td>groucho-tokyo</td>\n",
              "      <td>411470328</td>\n",
              "      <td>TCP</td>\n",
              "      <td>NaN</td>\n",
              "      <td>3422.0</td>\n",
              "      <td>23.0</td>\n",
              "      <td>24.134.137.248</td>\n",
              "      <td>Germany</td>\n",
              "      <td>Lower Saxony</td>\n",
              "      <td>53.5568</td>\n",
              "      <td>8.1266</td>\n",
              "      <td>DE</td>\n",
              "      <td>NI</td>\n",
              "      <td>26386.0</td>\n",
              "    </tr>\n",
              "  </tbody>\n",
              "</table>\n",
              "</div>"
            ],
            "text/plain": [
              "      datetime           host         src proto  type     spt   dpt  \\\n",
              "0  3/8/13 1:11  groucho-tokyo  1398184219   TCP   NaN  2065.0  23.0   \n",
              "1  3/8/13 1:12  groucho-tokyo  1393252776   TCP   NaN  4667.0  23.0   \n",
              "2  3/8/13 1:14     groucho-sa  3662430566  ICMP   8.0     NaN   NaN   \n",
              "3  3/8/13 1:14     groucho-sa  3662430566  ICMP   8.0     NaN   NaN   \n",
              "4  3/8/13 1:14     groucho-sa  3662430566  ICMP   8.0     NaN   NaN   \n",
              "5  3/8/13 1:14     groucho-sa  3662430566  ICMP   8.0     NaN   NaN   \n",
              "6  3/8/13 1:16  groucho-tokyo   411470328   TCP   NaN  3422.0  23.0   \n",
              "\n",
              "           srcstr      country              locale  latitude  longitude  cc  \\\n",
              "0    83.86.153.27  Netherlands       South Holland   52.1763     4.5282  NL   \n",
              "1    83.11.89.168       Poland  Kujawsko-Pomorskie   52.5931    19.0894  PL   \n",
              "2   218.76.65.102        China               Hunan   28.1792   113.1136  CN   \n",
              "3   218.76.65.102        China               Hunan   28.1792   113.1136  CN   \n",
              "4   218.76.65.102        China               Hunan   28.1792   113.1136  CN   \n",
              "5   218.76.65.102        China               Hunan   28.1792   113.1136  CN   \n",
              "6  24.134.137.248      Germany        Lower Saxony   53.5568     8.1266  DE   \n",
              "\n",
              "  localeabbr  postalcode  \n",
              "0         ZH         NaN  \n",
              "1         KP         NaN  \n",
              "2         43         NaN  \n",
              "3         43         NaN  \n",
              "4         43         NaN  \n",
              "5         43         NaN  \n",
              "6         NI     26386.0  "
            ]
          },
          "execution_count": 307,
          "metadata": {},
          "output_type": "execute_result"
        }
      ],
      "source": [
        "inner = pd.merge(first, loc)\n",
        "print(inner.shape)\n",
        "inner"
      ]
    },
    {
      "cell_type": "markdown",
      "metadata": {
        "id": "whQgYbDH9g7F"
      },
      "source": [
        "Putem preciza coloanele dupa care vrem sa facem merge folosind *on*.\n",
        "\n",
        "Coloanele care se regasesc in ambele dataframe-uri, dar nu sunt folosite drept valori pentru *on*, se vor interpreta individual si, deci, vor aparea impreuna in noul dataframe. Acestea se vor diferentia prin indicele atasat la final (*_x*, *_y*)."
      ]
    },
    {
      "cell_type": "code",
      "execution_count": 308,
      "metadata": {
        "colab": {
          "base_uri": "https://localhost:8080/",
          "height": 214
        },
        "id": "GGuP1sxxgMmR",
        "outputId": "abcf4465-6ef1-4601-efa8-f6181ef60458"
      },
      "outputs": [
        {
          "name": "stdout",
          "output_type": "stream",
          "text": [
            "(7, 18)\n"
          ]
        },
        {
          "data": {
            "text/html": [
              "<div>\n",
              "<style scoped>\n",
              "    .dataframe tbody tr th:only-of-type {\n",
              "        vertical-align: middle;\n",
              "    }\n",
              "\n",
              "    .dataframe tbody tr th {\n",
              "        vertical-align: top;\n",
              "    }\n",
              "\n",
              "    .dataframe thead th {\n",
              "        text-align: right;\n",
              "    }\n",
              "</style>\n",
              "<table border=\"1\" class=\"dataframe\">\n",
              "  <thead>\n",
              "    <tr style=\"text-align: right;\">\n",
              "      <th></th>\n",
              "      <th>datetime_x</th>\n",
              "      <th>host</th>\n",
              "      <th>src</th>\n",
              "      <th>proto</th>\n",
              "      <th>type</th>\n",
              "      <th>spt</th>\n",
              "      <th>dpt</th>\n",
              "      <th>srcstr</th>\n",
              "      <th>country</th>\n",
              "      <th>locale</th>\n",
              "      <th>latitude_x</th>\n",
              "      <th>longitude_x</th>\n",
              "      <th>datetime_y</th>\n",
              "      <th>cc</th>\n",
              "      <th>localeabbr</th>\n",
              "      <th>postalcode</th>\n",
              "      <th>latitude_y</th>\n",
              "      <th>longitude_y</th>\n",
              "    </tr>\n",
              "  </thead>\n",
              "  <tbody>\n",
              "    <tr>\n",
              "      <th>0</th>\n",
              "      <td>3/8/13 1:11</td>\n",
              "      <td>groucho-tokyo</td>\n",
              "      <td>1398184219</td>\n",
              "      <td>TCP</td>\n",
              "      <td>NaN</td>\n",
              "      <td>2065.0</td>\n",
              "      <td>23.0</td>\n",
              "      <td>83.86.153.27</td>\n",
              "      <td>Netherlands</td>\n",
              "      <td>South Holland</td>\n",
              "      <td>52.1763</td>\n",
              "      <td>4.5282</td>\n",
              "      <td>3/8/13 1:11</td>\n",
              "      <td>NL</td>\n",
              "      <td>ZH</td>\n",
              "      <td>NaN</td>\n",
              "      <td>52.1763</td>\n",
              "      <td>4.5282</td>\n",
              "    </tr>\n",
              "    <tr>\n",
              "      <th>1</th>\n",
              "      <td>3/8/13 1:12</td>\n",
              "      <td>groucho-tokyo</td>\n",
              "      <td>1393252776</td>\n",
              "      <td>TCP</td>\n",
              "      <td>NaN</td>\n",
              "      <td>4667.0</td>\n",
              "      <td>23.0</td>\n",
              "      <td>83.11.89.168</td>\n",
              "      <td>Poland</td>\n",
              "      <td>Kujawsko-Pomorskie</td>\n",
              "      <td>52.5931</td>\n",
              "      <td>19.0894</td>\n",
              "      <td>3/8/13 1:12</td>\n",
              "      <td>PL</td>\n",
              "      <td>KP</td>\n",
              "      <td>NaN</td>\n",
              "      <td>52.5931</td>\n",
              "      <td>19.0894</td>\n",
              "    </tr>\n",
              "    <tr>\n",
              "      <th>2</th>\n",
              "      <td>3/8/13 1:14</td>\n",
              "      <td>groucho-sa</td>\n",
              "      <td>3662430566</td>\n",
              "      <td>ICMP</td>\n",
              "      <td>8.0</td>\n",
              "      <td>NaN</td>\n",
              "      <td>NaN</td>\n",
              "      <td>218.76.65.102</td>\n",
              "      <td>China</td>\n",
              "      <td>Hunan</td>\n",
              "      <td>28.1792</td>\n",
              "      <td>113.1136</td>\n",
              "      <td>3/8/13 1:14</td>\n",
              "      <td>CN</td>\n",
              "      <td>43</td>\n",
              "      <td>NaN</td>\n",
              "      <td>28.1792</td>\n",
              "      <td>113.1136</td>\n",
              "    </tr>\n",
              "    <tr>\n",
              "      <th>3</th>\n",
              "      <td>3/8/13 1:14</td>\n",
              "      <td>groucho-sa</td>\n",
              "      <td>3662430566</td>\n",
              "      <td>ICMP</td>\n",
              "      <td>8.0</td>\n",
              "      <td>NaN</td>\n",
              "      <td>NaN</td>\n",
              "      <td>218.76.65.102</td>\n",
              "      <td>China</td>\n",
              "      <td>Hunan</td>\n",
              "      <td>28.1792</td>\n",
              "      <td>113.1136</td>\n",
              "      <td>3/8/13 1:14</td>\n",
              "      <td>CN</td>\n",
              "      <td>43</td>\n",
              "      <td>NaN</td>\n",
              "      <td>28.1792</td>\n",
              "      <td>113.1136</td>\n",
              "    </tr>\n",
              "    <tr>\n",
              "      <th>4</th>\n",
              "      <td>3/8/13 1:14</td>\n",
              "      <td>groucho-sa</td>\n",
              "      <td>3662430566</td>\n",
              "      <td>ICMP</td>\n",
              "      <td>8.0</td>\n",
              "      <td>NaN</td>\n",
              "      <td>NaN</td>\n",
              "      <td>218.76.65.102</td>\n",
              "      <td>China</td>\n",
              "      <td>Hunan</td>\n",
              "      <td>28.1792</td>\n",
              "      <td>113.1136</td>\n",
              "      <td>3/8/13 1:14</td>\n",
              "      <td>CN</td>\n",
              "      <td>43</td>\n",
              "      <td>NaN</td>\n",
              "      <td>28.1792</td>\n",
              "      <td>113.1136</td>\n",
              "    </tr>\n",
              "    <tr>\n",
              "      <th>5</th>\n",
              "      <td>3/8/13 1:14</td>\n",
              "      <td>groucho-sa</td>\n",
              "      <td>3662430566</td>\n",
              "      <td>ICMP</td>\n",
              "      <td>8.0</td>\n",
              "      <td>NaN</td>\n",
              "      <td>NaN</td>\n",
              "      <td>218.76.65.102</td>\n",
              "      <td>China</td>\n",
              "      <td>Hunan</td>\n",
              "      <td>28.1792</td>\n",
              "      <td>113.1136</td>\n",
              "      <td>3/8/13 1:14</td>\n",
              "      <td>CN</td>\n",
              "      <td>43</td>\n",
              "      <td>NaN</td>\n",
              "      <td>28.1792</td>\n",
              "      <td>113.1136</td>\n",
              "    </tr>\n",
              "    <tr>\n",
              "      <th>6</th>\n",
              "      <td>3/8/13 1:16</td>\n",
              "      <td>groucho-tokyo</td>\n",
              "      <td>411470328</td>\n",
              "      <td>TCP</td>\n",
              "      <td>NaN</td>\n",
              "      <td>3422.0</td>\n",
              "      <td>23.0</td>\n",
              "      <td>24.134.137.248</td>\n",
              "      <td>Germany</td>\n",
              "      <td>Lower Saxony</td>\n",
              "      <td>53.5568</td>\n",
              "      <td>8.1266</td>\n",
              "      <td>3/8/13 1:16</td>\n",
              "      <td>DE</td>\n",
              "      <td>NI</td>\n",
              "      <td>26386.0</td>\n",
              "      <td>53.5568</td>\n",
              "      <td>8.1266</td>\n",
              "    </tr>\n",
              "  </tbody>\n",
              "</table>\n",
              "</div>"
            ],
            "text/plain": [
              "    datetime_x           host         src proto  type     spt   dpt  \\\n",
              "0  3/8/13 1:11  groucho-tokyo  1398184219   TCP   NaN  2065.0  23.0   \n",
              "1  3/8/13 1:12  groucho-tokyo  1393252776   TCP   NaN  4667.0  23.0   \n",
              "2  3/8/13 1:14     groucho-sa  3662430566  ICMP   8.0     NaN   NaN   \n",
              "3  3/8/13 1:14     groucho-sa  3662430566  ICMP   8.0     NaN   NaN   \n",
              "4  3/8/13 1:14     groucho-sa  3662430566  ICMP   8.0     NaN   NaN   \n",
              "5  3/8/13 1:14     groucho-sa  3662430566  ICMP   8.0     NaN   NaN   \n",
              "6  3/8/13 1:16  groucho-tokyo   411470328   TCP   NaN  3422.0  23.0   \n",
              "\n",
              "           srcstr      country              locale  latitude_x  longitude_x  \\\n",
              "0    83.86.153.27  Netherlands       South Holland     52.1763       4.5282   \n",
              "1    83.11.89.168       Poland  Kujawsko-Pomorskie     52.5931      19.0894   \n",
              "2   218.76.65.102        China               Hunan     28.1792     113.1136   \n",
              "3   218.76.65.102        China               Hunan     28.1792     113.1136   \n",
              "4   218.76.65.102        China               Hunan     28.1792     113.1136   \n",
              "5   218.76.65.102        China               Hunan     28.1792     113.1136   \n",
              "6  24.134.137.248      Germany        Lower Saxony     53.5568       8.1266   \n",
              "\n",
              "    datetime_y  cc localeabbr  postalcode  latitude_y  longitude_y  \n",
              "0  3/8/13 1:11  NL         ZH         NaN     52.1763       4.5282  \n",
              "1  3/8/13 1:12  PL         KP         NaN     52.5931      19.0894  \n",
              "2  3/8/13 1:14  CN         43         NaN     28.1792     113.1136  \n",
              "3  3/8/13 1:14  CN         43         NaN     28.1792     113.1136  \n",
              "4  3/8/13 1:14  CN         43         NaN     28.1792     113.1136  \n",
              "5  3/8/13 1:14  CN         43         NaN     28.1792     113.1136  \n",
              "6  3/8/13 1:16  DE         NI     26386.0     53.5568       8.1266  "
            ]
          },
          "execution_count": 308,
          "metadata": {},
          "output_type": "execute_result"
        }
      ],
      "source": [
        "inner = pd.merge(first, loc, on=[\"host\", \"srcstr\"])\n",
        "print(inner.shape)\n",
        "inner"
      ]
    },
    {
      "cell_type": "markdown",
      "metadata": {
        "id": "2KzPW1HI-y7b"
      },
      "source": [
        "##### *Outer Merge*\n",
        "\n",
        "Combina toate liniile din cele doua dataframe-uri, adaugand NaN acolo unde nu se gasesc valori corespunzatoare."
      ]
    },
    {
      "cell_type": "code",
      "execution_count": 309,
      "metadata": {
        "colab": {
          "base_uri": "https://localhost:8080/",
          "height": 635
        },
        "id": "oJBrjnTehlTq",
        "outputId": "85a67ae5-473c-4fe4-f9d3-11f3accdccae"
      },
      "outputs": [
        {
          "name": "stdout",
          "output_type": "stream",
          "text": [
            "(12, 15)\n"
          ]
        },
        {
          "data": {
            "text/html": [
              "<div>\n",
              "<style scoped>\n",
              "    .dataframe tbody tr th:only-of-type {\n",
              "        vertical-align: middle;\n",
              "    }\n",
              "\n",
              "    .dataframe tbody tr th {\n",
              "        vertical-align: top;\n",
              "    }\n",
              "\n",
              "    .dataframe thead th {\n",
              "        text-align: right;\n",
              "    }\n",
              "</style>\n",
              "<table border=\"1\" class=\"dataframe\">\n",
              "  <thead>\n",
              "    <tr style=\"text-align: right;\">\n",
              "      <th></th>\n",
              "      <th>datetime</th>\n",
              "      <th>host</th>\n",
              "      <th>src</th>\n",
              "      <th>proto</th>\n",
              "      <th>type</th>\n",
              "      <th>spt</th>\n",
              "      <th>dpt</th>\n",
              "      <th>srcstr</th>\n",
              "      <th>country</th>\n",
              "      <th>locale</th>\n",
              "      <th>latitude</th>\n",
              "      <th>longitude</th>\n",
              "      <th>cc</th>\n",
              "      <th>localeabbr</th>\n",
              "      <th>postalcode</th>\n",
              "    </tr>\n",
              "  </thead>\n",
              "  <tbody>\n",
              "    <tr>\n",
              "      <th>0</th>\n",
              "      <td>3/8/13 1:11</td>\n",
              "      <td>groucho-tokyo</td>\n",
              "      <td>1.398184e+09</td>\n",
              "      <td>TCP</td>\n",
              "      <td>NaN</td>\n",
              "      <td>2065.0</td>\n",
              "      <td>23.0</td>\n",
              "      <td>83.86.153.27</td>\n",
              "      <td>Netherlands</td>\n",
              "      <td>South Holland</td>\n",
              "      <td>52.1763</td>\n",
              "      <td>4.5282</td>\n",
              "      <td>NL</td>\n",
              "      <td>ZH</td>\n",
              "      <td>NaN</td>\n",
              "    </tr>\n",
              "    <tr>\n",
              "      <th>1</th>\n",
              "      <td>3/8/13 1:12</td>\n",
              "      <td>groucho-tokyo</td>\n",
              "      <td>1.393253e+09</td>\n",
              "      <td>TCP</td>\n",
              "      <td>NaN</td>\n",
              "      <td>4667.0</td>\n",
              "      <td>23.0</td>\n",
              "      <td>83.11.89.168</td>\n",
              "      <td>Poland</td>\n",
              "      <td>Kujawsko-Pomorskie</td>\n",
              "      <td>52.5931</td>\n",
              "      <td>19.0894</td>\n",
              "      <td>PL</td>\n",
              "      <td>KP</td>\n",
              "      <td>NaN</td>\n",
              "    </tr>\n",
              "    <tr>\n",
              "      <th>2</th>\n",
              "      <td>3/8/13 1:14</td>\n",
              "      <td>groucho-sa</td>\n",
              "      <td>3.662431e+09</td>\n",
              "      <td>ICMP</td>\n",
              "      <td>8.0</td>\n",
              "      <td>NaN</td>\n",
              "      <td>NaN</td>\n",
              "      <td>218.76.65.102</td>\n",
              "      <td>China</td>\n",
              "      <td>Hunan</td>\n",
              "      <td>28.1792</td>\n",
              "      <td>113.1136</td>\n",
              "      <td>CN</td>\n",
              "      <td>43</td>\n",
              "      <td>NaN</td>\n",
              "    </tr>\n",
              "    <tr>\n",
              "      <th>3</th>\n",
              "      <td>3/8/13 1:14</td>\n",
              "      <td>groucho-sa</td>\n",
              "      <td>3.662431e+09</td>\n",
              "      <td>ICMP</td>\n",
              "      <td>8.0</td>\n",
              "      <td>NaN</td>\n",
              "      <td>NaN</td>\n",
              "      <td>218.76.65.102</td>\n",
              "      <td>China</td>\n",
              "      <td>Hunan</td>\n",
              "      <td>28.1792</td>\n",
              "      <td>113.1136</td>\n",
              "      <td>CN</td>\n",
              "      <td>43</td>\n",
              "      <td>NaN</td>\n",
              "    </tr>\n",
              "    <tr>\n",
              "      <th>4</th>\n",
              "      <td>3/8/13 1:14</td>\n",
              "      <td>groucho-sa</td>\n",
              "      <td>3.662431e+09</td>\n",
              "      <td>ICMP</td>\n",
              "      <td>8.0</td>\n",
              "      <td>NaN</td>\n",
              "      <td>NaN</td>\n",
              "      <td>218.76.65.102</td>\n",
              "      <td>China</td>\n",
              "      <td>Hunan</td>\n",
              "      <td>28.1792</td>\n",
              "      <td>113.1136</td>\n",
              "      <td>CN</td>\n",
              "      <td>43</td>\n",
              "      <td>NaN</td>\n",
              "    </tr>\n",
              "    <tr>\n",
              "      <th>5</th>\n",
              "      <td>3/8/13 1:14</td>\n",
              "      <td>groucho-sa</td>\n",
              "      <td>3.662431e+09</td>\n",
              "      <td>ICMP</td>\n",
              "      <td>8.0</td>\n",
              "      <td>NaN</td>\n",
              "      <td>NaN</td>\n",
              "      <td>218.76.65.102</td>\n",
              "      <td>China</td>\n",
              "      <td>Hunan</td>\n",
              "      <td>28.1792</td>\n",
              "      <td>113.1136</td>\n",
              "      <td>CN</td>\n",
              "      <td>43</td>\n",
              "      <td>NaN</td>\n",
              "    </tr>\n",
              "    <tr>\n",
              "      <th>6</th>\n",
              "      <td>3/8/13 1:16</td>\n",
              "      <td>groucho-oregon</td>\n",
              "      <td>NaN</td>\n",
              "      <td>NaN</td>\n",
              "      <td>NaN</td>\n",
              "      <td>NaN</td>\n",
              "      <td>NaN</td>\n",
              "      <td>117.41.246.218</td>\n",
              "      <td>NaN</td>\n",
              "      <td>NaN</td>\n",
              "      <td>28.5500</td>\n",
              "      <td>115.9333</td>\n",
              "      <td>CN</td>\n",
              "      <td>36</td>\n",
              "      <td>NaN</td>\n",
              "    </tr>\n",
              "    <tr>\n",
              "      <th>7</th>\n",
              "      <td>3/8/13 1:16</td>\n",
              "      <td>groucho-tokyo</td>\n",
              "      <td>4.114703e+08</td>\n",
              "      <td>TCP</td>\n",
              "      <td>NaN</td>\n",
              "      <td>3422.0</td>\n",
              "      <td>23.0</td>\n",
              "      <td>24.134.137.248</td>\n",
              "      <td>Germany</td>\n",
              "      <td>Lower Saxony</td>\n",
              "      <td>53.5568</td>\n",
              "      <td>8.1266</td>\n",
              "      <td>DE</td>\n",
              "      <td>NI</td>\n",
              "      <td>26386.0</td>\n",
              "    </tr>\n",
              "    <tr>\n",
              "      <th>8</th>\n",
              "      <td>3/8/13 1:17</td>\n",
              "      <td>groucho-tokyo</td>\n",
              "      <td>NaN</td>\n",
              "      <td>NaN</td>\n",
              "      <td>NaN</td>\n",
              "      <td>NaN</td>\n",
              "      <td>NaN</td>\n",
              "      <td>222.241.150.140</td>\n",
              "      <td>NaN</td>\n",
              "      <td>NaN</td>\n",
              "      <td>28.1792</td>\n",
              "      <td>113.1136</td>\n",
              "      <td>CN</td>\n",
              "      <td>43</td>\n",
              "      <td>NaN</td>\n",
              "    </tr>\n",
              "    <tr>\n",
              "      <th>9</th>\n",
              "      <td>3/8/13 1:18</td>\n",
              "      <td>groucho-tokyo</td>\n",
              "      <td>NaN</td>\n",
              "      <td>NaN</td>\n",
              "      <td>NaN</td>\n",
              "      <td>NaN</td>\n",
              "      <td>NaN</td>\n",
              "      <td>61.147.103.139</td>\n",
              "      <td>NaN</td>\n",
              "      <td>NaN</td>\n",
              "      <td>32.0617</td>\n",
              "      <td>118.7778</td>\n",
              "      <td>CN</td>\n",
              "      <td>32</td>\n",
              "      <td>NaN</td>\n",
              "    </tr>\n",
              "    <tr>\n",
              "      <th>10</th>\n",
              "      <td>3/8/13 1:19</td>\n",
              "      <td>groucho-tokyo</td>\n",
              "      <td>NaN</td>\n",
              "      <td>NaN</td>\n",
              "      <td>NaN</td>\n",
              "      <td>NaN</td>\n",
              "      <td>NaN</td>\n",
              "      <td>95.76.180.63</td>\n",
              "      <td>NaN</td>\n",
              "      <td>NaN</td>\n",
              "      <td>45.1500</td>\n",
              "      <td>26.8333</td>\n",
              "      <td>RO</td>\n",
              "      <td>BZ</td>\n",
              "      <td>NaN</td>\n",
              "    </tr>\n",
              "    <tr>\n",
              "      <th>11</th>\n",
              "      <td>3/8/13 1:20</td>\n",
              "      <td>groucho-tokyo</td>\n",
              "      <td>NaN</td>\n",
              "      <td>NaN</td>\n",
              "      <td>NaN</td>\n",
              "      <td>NaN</td>\n",
              "      <td>NaN</td>\n",
              "      <td>95.76.180.63</td>\n",
              "      <td>NaN</td>\n",
              "      <td>NaN</td>\n",
              "      <td>45.1500</td>\n",
              "      <td>26.8333</td>\n",
              "      <td>RO</td>\n",
              "      <td>BZ</td>\n",
              "      <td>NaN</td>\n",
              "    </tr>\n",
              "  </tbody>\n",
              "</table>\n",
              "</div>"
            ],
            "text/plain": [
              "       datetime            host           src proto  type     spt   dpt  \\\n",
              "0   3/8/13 1:11   groucho-tokyo  1.398184e+09   TCP   NaN  2065.0  23.0   \n",
              "1   3/8/13 1:12   groucho-tokyo  1.393253e+09   TCP   NaN  4667.0  23.0   \n",
              "2   3/8/13 1:14      groucho-sa  3.662431e+09  ICMP   8.0     NaN   NaN   \n",
              "3   3/8/13 1:14      groucho-sa  3.662431e+09  ICMP   8.0     NaN   NaN   \n",
              "4   3/8/13 1:14      groucho-sa  3.662431e+09  ICMP   8.0     NaN   NaN   \n",
              "5   3/8/13 1:14      groucho-sa  3.662431e+09  ICMP   8.0     NaN   NaN   \n",
              "6   3/8/13 1:16  groucho-oregon           NaN   NaN   NaN     NaN   NaN   \n",
              "7   3/8/13 1:16   groucho-tokyo  4.114703e+08   TCP   NaN  3422.0  23.0   \n",
              "8   3/8/13 1:17   groucho-tokyo           NaN   NaN   NaN     NaN   NaN   \n",
              "9   3/8/13 1:18   groucho-tokyo           NaN   NaN   NaN     NaN   NaN   \n",
              "10  3/8/13 1:19   groucho-tokyo           NaN   NaN   NaN     NaN   NaN   \n",
              "11  3/8/13 1:20   groucho-tokyo           NaN   NaN   NaN     NaN   NaN   \n",
              "\n",
              "             srcstr      country              locale  latitude  longitude  cc  \\\n",
              "0      83.86.153.27  Netherlands       South Holland   52.1763     4.5282  NL   \n",
              "1      83.11.89.168       Poland  Kujawsko-Pomorskie   52.5931    19.0894  PL   \n",
              "2     218.76.65.102        China               Hunan   28.1792   113.1136  CN   \n",
              "3     218.76.65.102        China               Hunan   28.1792   113.1136  CN   \n",
              "4     218.76.65.102        China               Hunan   28.1792   113.1136  CN   \n",
              "5     218.76.65.102        China               Hunan   28.1792   113.1136  CN   \n",
              "6    117.41.246.218          NaN                 NaN   28.5500   115.9333  CN   \n",
              "7    24.134.137.248      Germany        Lower Saxony   53.5568     8.1266  DE   \n",
              "8   222.241.150.140          NaN                 NaN   28.1792   113.1136  CN   \n",
              "9    61.147.103.139          NaN                 NaN   32.0617   118.7778  CN   \n",
              "10     95.76.180.63          NaN                 NaN   45.1500    26.8333  RO   \n",
              "11     95.76.180.63          NaN                 NaN   45.1500    26.8333  RO   \n",
              "\n",
              "   localeabbr  postalcode  \n",
              "0          ZH         NaN  \n",
              "1          KP         NaN  \n",
              "2          43         NaN  \n",
              "3          43         NaN  \n",
              "4          43         NaN  \n",
              "5          43         NaN  \n",
              "6          36         NaN  \n",
              "7          NI     26386.0  \n",
              "8          43         NaN  \n",
              "9          32         NaN  \n",
              "10         BZ         NaN  \n",
              "11         BZ         NaN  "
            ]
          },
          "execution_count": 309,
          "metadata": {},
          "output_type": "execute_result"
        }
      ],
      "source": [
        "outer = pd.merge(first, loc, how=\"outer\")\n",
        "print(outer.shape)\n",
        "outer"
      ]
    },
    {
      "cell_type": "markdown",
      "metadata": {
        "id": "sNdz3X2n-7PU"
      },
      "source": [
        "##### *Left (Outer) Merge*\n",
        "\n",
        "Pastreaza toate liniile din dataframe-ul stang. Va adauga NaN acolo unde nu exista valori corespunzatoare pentru variabila *on* in dataframe-ul drept."
      ]
    },
    {
      "cell_type": "code",
      "execution_count": 310,
      "metadata": {
        "colab": {
          "base_uri": "https://localhost:8080/",
          "height": 409
        },
        "id": "F_QLLmnmiHto",
        "outputId": "e6417f90-8c7d-4a43-c2f9-736176ccde27"
      },
      "outputs": [
        {
          "name": "stdout",
          "output_type": "stream",
          "text": [
            "(7, 16)\n"
          ]
        },
        {
          "data": {
            "text/html": [
              "<div>\n",
              "<style scoped>\n",
              "    .dataframe tbody tr th:only-of-type {\n",
              "        vertical-align: middle;\n",
              "    }\n",
              "\n",
              "    .dataframe tbody tr th {\n",
              "        vertical-align: top;\n",
              "    }\n",
              "\n",
              "    .dataframe thead th {\n",
              "        text-align: right;\n",
              "    }\n",
              "</style>\n",
              "<table border=\"1\" class=\"dataframe\">\n",
              "  <thead>\n",
              "    <tr style=\"text-align: right;\">\n",
              "      <th></th>\n",
              "      <th>datetime</th>\n",
              "      <th>host</th>\n",
              "      <th>src</th>\n",
              "      <th>proto</th>\n",
              "      <th>type</th>\n",
              "      <th>spt</th>\n",
              "      <th>dpt</th>\n",
              "      <th>srcstr_x</th>\n",
              "      <th>country</th>\n",
              "      <th>locale</th>\n",
              "      <th>latitude</th>\n",
              "      <th>longitude</th>\n",
              "      <th>srcstr_y</th>\n",
              "      <th>cc</th>\n",
              "      <th>localeabbr</th>\n",
              "      <th>postalcode</th>\n",
              "    </tr>\n",
              "  </thead>\n",
              "  <tbody>\n",
              "    <tr>\n",
              "      <th>0</th>\n",
              "      <td>3/8/13 1:11</td>\n",
              "      <td>groucho-tokyo</td>\n",
              "      <td>1398184219</td>\n",
              "      <td>TCP</td>\n",
              "      <td>NaN</td>\n",
              "      <td>2065.0</td>\n",
              "      <td>23.0</td>\n",
              "      <td>83.86.153.27</td>\n",
              "      <td>Netherlands</td>\n",
              "      <td>South Holland</td>\n",
              "      <td>52.1763</td>\n",
              "      <td>4.5282</td>\n",
              "      <td>83.86.153.27</td>\n",
              "      <td>NL</td>\n",
              "      <td>ZH</td>\n",
              "      <td>NaN</td>\n",
              "    </tr>\n",
              "    <tr>\n",
              "      <th>1</th>\n",
              "      <td>3/8/13 1:12</td>\n",
              "      <td>groucho-tokyo</td>\n",
              "      <td>1393252776</td>\n",
              "      <td>TCP</td>\n",
              "      <td>NaN</td>\n",
              "      <td>4667.0</td>\n",
              "      <td>23.0</td>\n",
              "      <td>83.11.89.168</td>\n",
              "      <td>Poland</td>\n",
              "      <td>Kujawsko-Pomorskie</td>\n",
              "      <td>52.5931</td>\n",
              "      <td>19.0894</td>\n",
              "      <td>83.11.89.168</td>\n",
              "      <td>PL</td>\n",
              "      <td>KP</td>\n",
              "      <td>NaN</td>\n",
              "    </tr>\n",
              "    <tr>\n",
              "      <th>2</th>\n",
              "      <td>3/8/13 1:14</td>\n",
              "      <td>groucho-sa</td>\n",
              "      <td>3662430566</td>\n",
              "      <td>ICMP</td>\n",
              "      <td>8.0</td>\n",
              "      <td>NaN</td>\n",
              "      <td>NaN</td>\n",
              "      <td>218.76.65.102</td>\n",
              "      <td>China</td>\n",
              "      <td>Hunan</td>\n",
              "      <td>28.1792</td>\n",
              "      <td>113.1136</td>\n",
              "      <td>218.76.65.102</td>\n",
              "      <td>CN</td>\n",
              "      <td>43</td>\n",
              "      <td>NaN</td>\n",
              "    </tr>\n",
              "    <tr>\n",
              "      <th>3</th>\n",
              "      <td>3/8/13 1:14</td>\n",
              "      <td>groucho-sa</td>\n",
              "      <td>3662430566</td>\n",
              "      <td>ICMP</td>\n",
              "      <td>8.0</td>\n",
              "      <td>NaN</td>\n",
              "      <td>NaN</td>\n",
              "      <td>218.76.65.102</td>\n",
              "      <td>China</td>\n",
              "      <td>Hunan</td>\n",
              "      <td>28.1792</td>\n",
              "      <td>113.1136</td>\n",
              "      <td>218.76.65.102</td>\n",
              "      <td>CN</td>\n",
              "      <td>43</td>\n",
              "      <td>NaN</td>\n",
              "    </tr>\n",
              "    <tr>\n",
              "      <th>4</th>\n",
              "      <td>3/8/13 1:14</td>\n",
              "      <td>groucho-sa</td>\n",
              "      <td>3662430566</td>\n",
              "      <td>ICMP</td>\n",
              "      <td>8.0</td>\n",
              "      <td>NaN</td>\n",
              "      <td>NaN</td>\n",
              "      <td>218.76.65.102</td>\n",
              "      <td>China</td>\n",
              "      <td>Hunan</td>\n",
              "      <td>28.1792</td>\n",
              "      <td>113.1136</td>\n",
              "      <td>218.76.65.102</td>\n",
              "      <td>CN</td>\n",
              "      <td>43</td>\n",
              "      <td>NaN</td>\n",
              "    </tr>\n",
              "    <tr>\n",
              "      <th>5</th>\n",
              "      <td>3/8/13 1:14</td>\n",
              "      <td>groucho-sa</td>\n",
              "      <td>3662430566</td>\n",
              "      <td>ICMP</td>\n",
              "      <td>8.0</td>\n",
              "      <td>NaN</td>\n",
              "      <td>NaN</td>\n",
              "      <td>218.76.65.102</td>\n",
              "      <td>China</td>\n",
              "      <td>Hunan</td>\n",
              "      <td>28.1792</td>\n",
              "      <td>113.1136</td>\n",
              "      <td>218.76.65.102</td>\n",
              "      <td>CN</td>\n",
              "      <td>43</td>\n",
              "      <td>NaN</td>\n",
              "    </tr>\n",
              "    <tr>\n",
              "      <th>6</th>\n",
              "      <td>3/8/13 1:16</td>\n",
              "      <td>groucho-tokyo</td>\n",
              "      <td>411470328</td>\n",
              "      <td>TCP</td>\n",
              "      <td>NaN</td>\n",
              "      <td>3422.0</td>\n",
              "      <td>23.0</td>\n",
              "      <td>24.134.137.248</td>\n",
              "      <td>Germany</td>\n",
              "      <td>Lower Saxony</td>\n",
              "      <td>53.5568</td>\n",
              "      <td>8.1266</td>\n",
              "      <td>24.134.137.248</td>\n",
              "      <td>DE</td>\n",
              "      <td>NI</td>\n",
              "      <td>26386.0</td>\n",
              "    </tr>\n",
              "  </tbody>\n",
              "</table>\n",
              "</div>"
            ],
            "text/plain": [
              "      datetime           host         src proto  type     spt   dpt  \\\n",
              "0  3/8/13 1:11  groucho-tokyo  1398184219   TCP   NaN  2065.0  23.0   \n",
              "1  3/8/13 1:12  groucho-tokyo  1393252776   TCP   NaN  4667.0  23.0   \n",
              "2  3/8/13 1:14     groucho-sa  3662430566  ICMP   8.0     NaN   NaN   \n",
              "3  3/8/13 1:14     groucho-sa  3662430566  ICMP   8.0     NaN   NaN   \n",
              "4  3/8/13 1:14     groucho-sa  3662430566  ICMP   8.0     NaN   NaN   \n",
              "5  3/8/13 1:14     groucho-sa  3662430566  ICMP   8.0     NaN   NaN   \n",
              "6  3/8/13 1:16  groucho-tokyo   411470328   TCP   NaN  3422.0  23.0   \n",
              "\n",
              "         srcstr_x      country              locale  latitude  longitude  \\\n",
              "0    83.86.153.27  Netherlands       South Holland   52.1763     4.5282   \n",
              "1    83.11.89.168       Poland  Kujawsko-Pomorskie   52.5931    19.0894   \n",
              "2   218.76.65.102        China               Hunan   28.1792   113.1136   \n",
              "3   218.76.65.102        China               Hunan   28.1792   113.1136   \n",
              "4   218.76.65.102        China               Hunan   28.1792   113.1136   \n",
              "5   218.76.65.102        China               Hunan   28.1792   113.1136   \n",
              "6  24.134.137.248      Germany        Lower Saxony   53.5568     8.1266   \n",
              "\n",
              "         srcstr_y  cc localeabbr  postalcode  \n",
              "0    83.86.153.27  NL         ZH         NaN  \n",
              "1    83.11.89.168  PL         KP         NaN  \n",
              "2   218.76.65.102  CN         43         NaN  \n",
              "3   218.76.65.102  CN         43         NaN  \n",
              "4   218.76.65.102  CN         43         NaN  \n",
              "5   218.76.65.102  CN         43         NaN  \n",
              "6  24.134.137.248  DE         NI     26386.0  "
            ]
          },
          "execution_count": 310,
          "metadata": {},
          "output_type": "execute_result"
        }
      ],
      "source": [
        "left = pd.merge(first, loc, how=\"left\", on=[\"datetime\", \"host\", \"latitude\", \"longitude\"])\n",
        "print(left.shape)\n",
        "left"
      ]
    },
    {
      "cell_type": "markdown",
      "metadata": {
        "id": "jRBYOLq2_D1x"
      },
      "source": [
        "##### *Right (Outer) Merge*\n",
        "\n",
        "Pastreaza toate liniile din dataframe-ul drept. Va adauga NaN acolo unde nu exista valori corespunzatoare pentru variabila *on* in dataframe-ul stang."
      ]
    },
    {
      "cell_type": "code",
      "execution_count": 311,
      "metadata": {
        "colab": {
          "base_uri": "https://localhost:8080/",
          "height": 673
        },
        "id": "a3kZHdFji52I",
        "outputId": "0bc70da0-22a8-47d0-92c8-9eb6853d12a4"
      },
      "outputs": [
        {
          "name": "stdout",
          "output_type": "stream",
          "text": [
            "(12, 16)\n"
          ]
        },
        {
          "data": {
            "text/html": [
              "<div>\n",
              "<style scoped>\n",
              "    .dataframe tbody tr th:only-of-type {\n",
              "        vertical-align: middle;\n",
              "    }\n",
              "\n",
              "    .dataframe tbody tr th {\n",
              "        vertical-align: top;\n",
              "    }\n",
              "\n",
              "    .dataframe thead th {\n",
              "        text-align: right;\n",
              "    }\n",
              "</style>\n",
              "<table border=\"1\" class=\"dataframe\">\n",
              "  <thead>\n",
              "    <tr style=\"text-align: right;\">\n",
              "      <th></th>\n",
              "      <th>datetime</th>\n",
              "      <th>host</th>\n",
              "      <th>src</th>\n",
              "      <th>proto</th>\n",
              "      <th>type</th>\n",
              "      <th>spt</th>\n",
              "      <th>dpt</th>\n",
              "      <th>srcstr_x</th>\n",
              "      <th>country</th>\n",
              "      <th>locale</th>\n",
              "      <th>latitude</th>\n",
              "      <th>longitude</th>\n",
              "      <th>srcstr_y</th>\n",
              "      <th>cc</th>\n",
              "      <th>localeabbr</th>\n",
              "      <th>postalcode</th>\n",
              "    </tr>\n",
              "  </thead>\n",
              "  <tbody>\n",
              "    <tr>\n",
              "      <th>0</th>\n",
              "      <td>3/8/13 1:11</td>\n",
              "      <td>groucho-tokyo</td>\n",
              "      <td>1.398184e+09</td>\n",
              "      <td>TCP</td>\n",
              "      <td>NaN</td>\n",
              "      <td>2065.0</td>\n",
              "      <td>23.0</td>\n",
              "      <td>83.86.153.27</td>\n",
              "      <td>Netherlands</td>\n",
              "      <td>South Holland</td>\n",
              "      <td>52.1763</td>\n",
              "      <td>4.5282</td>\n",
              "      <td>83.86.153.27</td>\n",
              "      <td>NL</td>\n",
              "      <td>ZH</td>\n",
              "      <td>NaN</td>\n",
              "    </tr>\n",
              "    <tr>\n",
              "      <th>1</th>\n",
              "      <td>3/8/13 1:12</td>\n",
              "      <td>groucho-tokyo</td>\n",
              "      <td>1.393253e+09</td>\n",
              "      <td>TCP</td>\n",
              "      <td>NaN</td>\n",
              "      <td>4667.0</td>\n",
              "      <td>23.0</td>\n",
              "      <td>83.11.89.168</td>\n",
              "      <td>Poland</td>\n",
              "      <td>Kujawsko-Pomorskie</td>\n",
              "      <td>52.5931</td>\n",
              "      <td>19.0894</td>\n",
              "      <td>83.11.89.168</td>\n",
              "      <td>PL</td>\n",
              "      <td>KP</td>\n",
              "      <td>NaN</td>\n",
              "    </tr>\n",
              "    <tr>\n",
              "      <th>2</th>\n",
              "      <td>3/8/13 1:14</td>\n",
              "      <td>groucho-sa</td>\n",
              "      <td>3.662431e+09</td>\n",
              "      <td>ICMP</td>\n",
              "      <td>8.0</td>\n",
              "      <td>NaN</td>\n",
              "      <td>NaN</td>\n",
              "      <td>218.76.65.102</td>\n",
              "      <td>China</td>\n",
              "      <td>Hunan</td>\n",
              "      <td>28.1792</td>\n",
              "      <td>113.1136</td>\n",
              "      <td>218.76.65.102</td>\n",
              "      <td>CN</td>\n",
              "      <td>43</td>\n",
              "      <td>NaN</td>\n",
              "    </tr>\n",
              "    <tr>\n",
              "      <th>3</th>\n",
              "      <td>3/8/13 1:14</td>\n",
              "      <td>groucho-sa</td>\n",
              "      <td>3.662431e+09</td>\n",
              "      <td>ICMP</td>\n",
              "      <td>8.0</td>\n",
              "      <td>NaN</td>\n",
              "      <td>NaN</td>\n",
              "      <td>218.76.65.102</td>\n",
              "      <td>China</td>\n",
              "      <td>Hunan</td>\n",
              "      <td>28.1792</td>\n",
              "      <td>113.1136</td>\n",
              "      <td>218.76.65.102</td>\n",
              "      <td>CN</td>\n",
              "      <td>43</td>\n",
              "      <td>NaN</td>\n",
              "    </tr>\n",
              "    <tr>\n",
              "      <th>4</th>\n",
              "      <td>3/8/13 1:14</td>\n",
              "      <td>groucho-sa</td>\n",
              "      <td>3.662431e+09</td>\n",
              "      <td>ICMP</td>\n",
              "      <td>8.0</td>\n",
              "      <td>NaN</td>\n",
              "      <td>NaN</td>\n",
              "      <td>218.76.65.102</td>\n",
              "      <td>China</td>\n",
              "      <td>Hunan</td>\n",
              "      <td>28.1792</td>\n",
              "      <td>113.1136</td>\n",
              "      <td>218.76.65.102</td>\n",
              "      <td>CN</td>\n",
              "      <td>43</td>\n",
              "      <td>NaN</td>\n",
              "    </tr>\n",
              "    <tr>\n",
              "      <th>5</th>\n",
              "      <td>3/8/13 1:14</td>\n",
              "      <td>groucho-sa</td>\n",
              "      <td>3.662431e+09</td>\n",
              "      <td>ICMP</td>\n",
              "      <td>8.0</td>\n",
              "      <td>NaN</td>\n",
              "      <td>NaN</td>\n",
              "      <td>218.76.65.102</td>\n",
              "      <td>China</td>\n",
              "      <td>Hunan</td>\n",
              "      <td>28.1792</td>\n",
              "      <td>113.1136</td>\n",
              "      <td>218.76.65.102</td>\n",
              "      <td>CN</td>\n",
              "      <td>43</td>\n",
              "      <td>NaN</td>\n",
              "    </tr>\n",
              "    <tr>\n",
              "      <th>6</th>\n",
              "      <td>3/8/13 1:16</td>\n",
              "      <td>groucho-tokyo</td>\n",
              "      <td>4.114703e+08</td>\n",
              "      <td>TCP</td>\n",
              "      <td>NaN</td>\n",
              "      <td>3422.0</td>\n",
              "      <td>23.0</td>\n",
              "      <td>24.134.137.248</td>\n",
              "      <td>Germany</td>\n",
              "      <td>Lower Saxony</td>\n",
              "      <td>53.5568</td>\n",
              "      <td>8.1266</td>\n",
              "      <td>24.134.137.248</td>\n",
              "      <td>DE</td>\n",
              "      <td>NI</td>\n",
              "      <td>26386.0</td>\n",
              "    </tr>\n",
              "    <tr>\n",
              "      <th>7</th>\n",
              "      <td>3/8/13 1:16</td>\n",
              "      <td>groucho-oregon</td>\n",
              "      <td>NaN</td>\n",
              "      <td>NaN</td>\n",
              "      <td>NaN</td>\n",
              "      <td>NaN</td>\n",
              "      <td>NaN</td>\n",
              "      <td>NaN</td>\n",
              "      <td>NaN</td>\n",
              "      <td>NaN</td>\n",
              "      <td>28.5500</td>\n",
              "      <td>115.9333</td>\n",
              "      <td>117.41.246.218</td>\n",
              "      <td>CN</td>\n",
              "      <td>36</td>\n",
              "      <td>NaN</td>\n",
              "    </tr>\n",
              "    <tr>\n",
              "      <th>8</th>\n",
              "      <td>3/8/13 1:17</td>\n",
              "      <td>groucho-tokyo</td>\n",
              "      <td>NaN</td>\n",
              "      <td>NaN</td>\n",
              "      <td>NaN</td>\n",
              "      <td>NaN</td>\n",
              "      <td>NaN</td>\n",
              "      <td>NaN</td>\n",
              "      <td>NaN</td>\n",
              "      <td>NaN</td>\n",
              "      <td>28.1792</td>\n",
              "      <td>113.1136</td>\n",
              "      <td>222.241.150.140</td>\n",
              "      <td>CN</td>\n",
              "      <td>43</td>\n",
              "      <td>NaN</td>\n",
              "    </tr>\n",
              "    <tr>\n",
              "      <th>9</th>\n",
              "      <td>3/8/13 1:18</td>\n",
              "      <td>groucho-tokyo</td>\n",
              "      <td>NaN</td>\n",
              "      <td>NaN</td>\n",
              "      <td>NaN</td>\n",
              "      <td>NaN</td>\n",
              "      <td>NaN</td>\n",
              "      <td>NaN</td>\n",
              "      <td>NaN</td>\n",
              "      <td>NaN</td>\n",
              "      <td>32.0617</td>\n",
              "      <td>118.7778</td>\n",
              "      <td>61.147.103.139</td>\n",
              "      <td>CN</td>\n",
              "      <td>32</td>\n",
              "      <td>NaN</td>\n",
              "    </tr>\n",
              "    <tr>\n",
              "      <th>10</th>\n",
              "      <td>3/8/13 1:19</td>\n",
              "      <td>groucho-tokyo</td>\n",
              "      <td>NaN</td>\n",
              "      <td>NaN</td>\n",
              "      <td>NaN</td>\n",
              "      <td>NaN</td>\n",
              "      <td>NaN</td>\n",
              "      <td>NaN</td>\n",
              "      <td>NaN</td>\n",
              "      <td>NaN</td>\n",
              "      <td>45.1500</td>\n",
              "      <td>26.8333</td>\n",
              "      <td>95.76.180.63</td>\n",
              "      <td>RO</td>\n",
              "      <td>BZ</td>\n",
              "      <td>NaN</td>\n",
              "    </tr>\n",
              "    <tr>\n",
              "      <th>11</th>\n",
              "      <td>3/8/13 1:20</td>\n",
              "      <td>groucho-tokyo</td>\n",
              "      <td>NaN</td>\n",
              "      <td>NaN</td>\n",
              "      <td>NaN</td>\n",
              "      <td>NaN</td>\n",
              "      <td>NaN</td>\n",
              "      <td>NaN</td>\n",
              "      <td>NaN</td>\n",
              "      <td>NaN</td>\n",
              "      <td>45.1500</td>\n",
              "      <td>26.8333</td>\n",
              "      <td>95.76.180.63</td>\n",
              "      <td>RO</td>\n",
              "      <td>BZ</td>\n",
              "      <td>NaN</td>\n",
              "    </tr>\n",
              "  </tbody>\n",
              "</table>\n",
              "</div>"
            ],
            "text/plain": [
              "       datetime            host           src proto  type     spt   dpt  \\\n",
              "0   3/8/13 1:11   groucho-tokyo  1.398184e+09   TCP   NaN  2065.0  23.0   \n",
              "1   3/8/13 1:12   groucho-tokyo  1.393253e+09   TCP   NaN  4667.0  23.0   \n",
              "2   3/8/13 1:14      groucho-sa  3.662431e+09  ICMP   8.0     NaN   NaN   \n",
              "3   3/8/13 1:14      groucho-sa  3.662431e+09  ICMP   8.0     NaN   NaN   \n",
              "4   3/8/13 1:14      groucho-sa  3.662431e+09  ICMP   8.0     NaN   NaN   \n",
              "5   3/8/13 1:14      groucho-sa  3.662431e+09  ICMP   8.0     NaN   NaN   \n",
              "6   3/8/13 1:16   groucho-tokyo  4.114703e+08   TCP   NaN  3422.0  23.0   \n",
              "7   3/8/13 1:16  groucho-oregon           NaN   NaN   NaN     NaN   NaN   \n",
              "8   3/8/13 1:17   groucho-tokyo           NaN   NaN   NaN     NaN   NaN   \n",
              "9   3/8/13 1:18   groucho-tokyo           NaN   NaN   NaN     NaN   NaN   \n",
              "10  3/8/13 1:19   groucho-tokyo           NaN   NaN   NaN     NaN   NaN   \n",
              "11  3/8/13 1:20   groucho-tokyo           NaN   NaN   NaN     NaN   NaN   \n",
              "\n",
              "          srcstr_x      country              locale  latitude  longitude  \\\n",
              "0     83.86.153.27  Netherlands       South Holland   52.1763     4.5282   \n",
              "1     83.11.89.168       Poland  Kujawsko-Pomorskie   52.5931    19.0894   \n",
              "2    218.76.65.102        China               Hunan   28.1792   113.1136   \n",
              "3    218.76.65.102        China               Hunan   28.1792   113.1136   \n",
              "4    218.76.65.102        China               Hunan   28.1792   113.1136   \n",
              "5    218.76.65.102        China               Hunan   28.1792   113.1136   \n",
              "6   24.134.137.248      Germany        Lower Saxony   53.5568     8.1266   \n",
              "7              NaN          NaN                 NaN   28.5500   115.9333   \n",
              "8              NaN          NaN                 NaN   28.1792   113.1136   \n",
              "9              NaN          NaN                 NaN   32.0617   118.7778   \n",
              "10             NaN          NaN                 NaN   45.1500    26.8333   \n",
              "11             NaN          NaN                 NaN   45.1500    26.8333   \n",
              "\n",
              "           srcstr_y  cc localeabbr  postalcode  \n",
              "0      83.86.153.27  NL         ZH         NaN  \n",
              "1      83.11.89.168  PL         KP         NaN  \n",
              "2     218.76.65.102  CN         43         NaN  \n",
              "3     218.76.65.102  CN         43         NaN  \n",
              "4     218.76.65.102  CN         43         NaN  \n",
              "5     218.76.65.102  CN         43         NaN  \n",
              "6    24.134.137.248  DE         NI     26386.0  \n",
              "7    117.41.246.218  CN         36         NaN  \n",
              "8   222.241.150.140  CN         43         NaN  \n",
              "9    61.147.103.139  CN         32         NaN  \n",
              "10     95.76.180.63  RO         BZ         NaN  \n",
              "11     95.76.180.63  RO         BZ         NaN  "
            ]
          },
          "execution_count": 311,
          "metadata": {},
          "output_type": "execute_result"
        }
      ],
      "source": [
        "right = pd.merge(first, loc, how=\"right\", on=[\"datetime\", \"host\", \"latitude\", \"longitude\"])\n",
        "print(right.shape)\n",
        "right"
      ]
    },
    {
      "cell_type": "markdown",
      "metadata": {
        "id": "fIA4UOKdUes-"
      },
      "source": [
        "Primim un nou set de date din honeypot."
      ]
    },
    {
      "cell_type": "markdown",
      "metadata": {
        "id": "0nwAqI-6_Kzo"
      },
      "source": [
        "##### *Concat*"
      ]
    },
    {
      "cell_type": "code",
      "execution_count": 312,
      "metadata": {
        "colab": {
          "base_uri": "https://localhost:8080/",
          "height": 311
        },
        "id": "b1jiJS1tUiV6",
        "outputId": "470e1f25-440a-46fa-e362-d0c56c73fce9"
      },
      "outputs": [
        {
          "name": "stdout",
          "output_type": "stream",
          "text": [
            "(5, 15)\n"
          ]
        },
        {
          "data": {
            "text/html": [
              "<div>\n",
              "<style scoped>\n",
              "    .dataframe tbody tr th:only-of-type {\n",
              "        vertical-align: middle;\n",
              "    }\n",
              "\n",
              "    .dataframe tbody tr th {\n",
              "        vertical-align: top;\n",
              "    }\n",
              "\n",
              "    .dataframe thead th {\n",
              "        text-align: right;\n",
              "    }\n",
              "</style>\n",
              "<table border=\"1\" class=\"dataframe\">\n",
              "  <thead>\n",
              "    <tr style=\"text-align: right;\">\n",
              "      <th></th>\n",
              "      <th>datetime</th>\n",
              "      <th>host</th>\n",
              "      <th>src</th>\n",
              "      <th>proto</th>\n",
              "      <th>type</th>\n",
              "      <th>spt</th>\n",
              "      <th>dpt</th>\n",
              "      <th>srcstr</th>\n",
              "      <th>cc</th>\n",
              "      <th>country</th>\n",
              "      <th>locale</th>\n",
              "      <th>localeabbr</th>\n",
              "      <th>postalcode</th>\n",
              "      <th>latitude</th>\n",
              "      <th>longitude</th>\n",
              "    </tr>\n",
              "  </thead>\n",
              "  <tbody>\n",
              "    <tr>\n",
              "      <th>0</th>\n",
              "      <td>3/8/13 7:47</td>\n",
              "      <td>groucho-singapore</td>\n",
              "      <td>7.109706e+08</td>\n",
              "      <td>TCP</td>\n",
              "      <td>NaN</td>\n",
              "      <td>36220.0</td>\n",
              "      <td>3389.0</td>\n",
              "      <td>42.96.140.225</td>\n",
              "      <td>CN</td>\n",
              "      <td>China</td>\n",
              "      <td>Beijing Shi</td>\n",
              "      <td>11.0</td>\n",
              "      <td>NaN</td>\n",
              "      <td>39.9289</td>\n",
              "      <td>116.3883</td>\n",
              "    </tr>\n",
              "    <tr>\n",
              "      <th>1</th>\n",
              "      <td>3/8/13 7:50</td>\n",
              "      <td>groucho-tokyo</td>\n",
              "      <td>1.279864e+09</td>\n",
              "      <td>ICMP</td>\n",
              "      <td>3.0</td>\n",
              "      <td>NaN</td>\n",
              "      <td>NaN</td>\n",
              "      <td>76.73.45.211</td>\n",
              "      <td>US</td>\n",
              "      <td>United States</td>\n",
              "      <td>Colorado</td>\n",
              "      <td>CO</td>\n",
              "      <td>80202.0</td>\n",
              "      <td>39.7525</td>\n",
              "      <td>-104.9995</td>\n",
              "    </tr>\n",
              "    <tr>\n",
              "      <th>2</th>\n",
              "      <td>3/8/13 7:53</td>\n",
              "      <td>groucho-tokyo</td>\n",
              "      <td>2.011989e+09</td>\n",
              "      <td>UDP</td>\n",
              "      <td>NaN</td>\n",
              "      <td>34301.0</td>\n",
              "      <td>20029.0</td>\n",
              "      <td>119.236.133.206</td>\n",
              "      <td>HK</td>\n",
              "      <td>Hong Kong</td>\n",
              "      <td>None</td>\n",
              "      <td>None</td>\n",
              "      <td>NaN</td>\n",
              "      <td>22.2833</td>\n",
              "      <td>114.1500</td>\n",
              "    </tr>\n",
              "    <tr>\n",
              "      <th>3</th>\n",
              "      <td>3/8/13 7:53</td>\n",
              "      <td>groucho-tokyo</td>\n",
              "      <td>2.011989e+09</td>\n",
              "      <td>UDP</td>\n",
              "      <td>NaN</td>\n",
              "      <td>34301.0</td>\n",
              "      <td>20029.0</td>\n",
              "      <td>119.236.133.206</td>\n",
              "      <td>HK</td>\n",
              "      <td>Hong Kong</td>\n",
              "      <td>None</td>\n",
              "      <td>None</td>\n",
              "      <td>NaN</td>\n",
              "      <td>22.2833</td>\n",
              "      <td>114.1500</td>\n",
              "    </tr>\n",
              "    <tr>\n",
              "      <th>4</th>\n",
              "      <td>3/8/13 7:53</td>\n",
              "      <td>groucho-singapore</td>\n",
              "      <td>2.061592e+09</td>\n",
              "      <td>TCP</td>\n",
              "      <td>NaN</td>\n",
              "      <td>6000.0</td>\n",
              "      <td>1521.0</td>\n",
              "      <td>122.225.101.46</td>\n",
              "      <td>CN</td>\n",
              "      <td>China</td>\n",
              "      <td>Zhejiang Sheng</td>\n",
              "      <td>33.0</td>\n",
              "      <td>NaN</td>\n",
              "      <td>30.2936</td>\n",
              "      <td>120.1614</td>\n",
              "    </tr>\n",
              "  </tbody>\n",
              "</table>\n",
              "</div>"
            ],
            "text/plain": [
              "      datetime               host           src proto  type      spt      dpt  \\\n",
              "0  3/8/13 7:47  groucho-singapore  7.109706e+08   TCP   NaN  36220.0   3389.0   \n",
              "1  3/8/13 7:50      groucho-tokyo  1.279864e+09  ICMP   3.0      NaN      NaN   \n",
              "2  3/8/13 7:53      groucho-tokyo  2.011989e+09   UDP   NaN  34301.0  20029.0   \n",
              "3  3/8/13 7:53      groucho-tokyo  2.011989e+09   UDP   NaN  34301.0  20029.0   \n",
              "4  3/8/13 7:53  groucho-singapore  2.061592e+09   TCP   NaN   6000.0   1521.0   \n",
              "\n",
              "            srcstr  cc        country          locale localeabbr  postalcode  \\\n",
              "0    42.96.140.225  CN          China     Beijing Shi       11.0         NaN   \n",
              "1     76.73.45.211  US  United States        Colorado         CO     80202.0   \n",
              "2  119.236.133.206  HK      Hong Kong            None       None         NaN   \n",
              "3  119.236.133.206  HK      Hong Kong            None       None         NaN   \n",
              "4   122.225.101.46  CN          China  Zhejiang Sheng       33.0         NaN   \n",
              "\n",
              "   latitude  longitude  \n",
              "0   39.9289   116.3883  \n",
              "1   39.7525  -104.9995  \n",
              "2   22.2833   114.1500  \n",
              "3   22.2833   114.1500  \n",
              "4   30.2936   120.1614  "
            ]
          },
          "execution_count": 312,
          "metadata": {},
          "output_type": "execute_result"
        }
      ],
      "source": [
        "from pandas_ods_reader import read_ods\n",
        "\n",
        "second = read_ods(\"dataset/AWS_Honeypot_2.ods\")\n",
        "second = second.head(5)\n",
        "print(second.shape)\n",
        "second"
      ]
    },
    {
      "cell_type": "markdown",
      "metadata": {
        "id": "GsnenppxLvaL"
      },
      "source": [
        "Folosind parametrul axis, putem specifica daca dorim concatenarea dataframe-urilor pe verticala, de-a lungul liniilor (axis=0) sau pe orizontala, de-a lungul coloanelor (axis=1)."
      ]
    },
    {
      "cell_type": "code",
      "execution_count": 313,
      "metadata": {
        "colab": {
          "base_uri": "https://localhost:8080/",
          "height": 555
        },
        "id": "BmzJA-4Ujgs7",
        "outputId": "f6fa543a-8bc3-48cb-f4ef-6f43a64e45a0"
      },
      "outputs": [
        {
          "name": "stdout",
          "output_type": "stream",
          "text": [
            "(10, 15)\n"
          ]
        },
        {
          "data": {
            "text/html": [
              "<div>\n",
              "<style scoped>\n",
              "    .dataframe tbody tr th:only-of-type {\n",
              "        vertical-align: middle;\n",
              "    }\n",
              "\n",
              "    .dataframe tbody tr th {\n",
              "        vertical-align: top;\n",
              "    }\n",
              "\n",
              "    .dataframe thead th {\n",
              "        text-align: right;\n",
              "    }\n",
              "</style>\n",
              "<table border=\"1\" class=\"dataframe\">\n",
              "  <thead>\n",
              "    <tr style=\"text-align: right;\">\n",
              "      <th></th>\n",
              "      <th>datetime</th>\n",
              "      <th>host</th>\n",
              "      <th>src</th>\n",
              "      <th>proto</th>\n",
              "      <th>type</th>\n",
              "      <th>spt</th>\n",
              "      <th>dpt</th>\n",
              "      <th>srcstr</th>\n",
              "      <th>country</th>\n",
              "      <th>locale</th>\n",
              "      <th>latitude</th>\n",
              "      <th>longitude</th>\n",
              "      <th>cc</th>\n",
              "      <th>localeabbr</th>\n",
              "      <th>postalcode</th>\n",
              "    </tr>\n",
              "  </thead>\n",
              "  <tbody>\n",
              "    <tr>\n",
              "      <th>0</th>\n",
              "      <td>3/8/13 1:11</td>\n",
              "      <td>groucho-tokyo</td>\n",
              "      <td>1.398184e+09</td>\n",
              "      <td>TCP</td>\n",
              "      <td>NaN</td>\n",
              "      <td>2065.0</td>\n",
              "      <td>23.0</td>\n",
              "      <td>83.86.153.27</td>\n",
              "      <td>Netherlands</td>\n",
              "      <td>South Holland</td>\n",
              "      <td>52.1763</td>\n",
              "      <td>4.5282</td>\n",
              "      <td>NaN</td>\n",
              "      <td>NaN</td>\n",
              "      <td>NaN</td>\n",
              "    </tr>\n",
              "    <tr>\n",
              "      <th>1</th>\n",
              "      <td>3/8/13 1:12</td>\n",
              "      <td>groucho-tokyo</td>\n",
              "      <td>1.393253e+09</td>\n",
              "      <td>TCP</td>\n",
              "      <td>NaN</td>\n",
              "      <td>4667.0</td>\n",
              "      <td>23.0</td>\n",
              "      <td>83.11.89.168</td>\n",
              "      <td>Poland</td>\n",
              "      <td>Kujawsko-Pomorskie</td>\n",
              "      <td>52.5931</td>\n",
              "      <td>19.0894</td>\n",
              "      <td>NaN</td>\n",
              "      <td>NaN</td>\n",
              "      <td>NaN</td>\n",
              "    </tr>\n",
              "    <tr>\n",
              "      <th>2</th>\n",
              "      <td>3/8/13 1:14</td>\n",
              "      <td>groucho-sa</td>\n",
              "      <td>3.662431e+09</td>\n",
              "      <td>ICMP</td>\n",
              "      <td>8.0</td>\n",
              "      <td>NaN</td>\n",
              "      <td>NaN</td>\n",
              "      <td>218.76.65.102</td>\n",
              "      <td>China</td>\n",
              "      <td>Hunan</td>\n",
              "      <td>28.1792</td>\n",
              "      <td>113.1136</td>\n",
              "      <td>NaN</td>\n",
              "      <td>NaN</td>\n",
              "      <td>NaN</td>\n",
              "    </tr>\n",
              "    <tr>\n",
              "      <th>3</th>\n",
              "      <td>3/8/13 1:14</td>\n",
              "      <td>groucho-sa</td>\n",
              "      <td>3.662431e+09</td>\n",
              "      <td>ICMP</td>\n",
              "      <td>8.0</td>\n",
              "      <td>NaN</td>\n",
              "      <td>NaN</td>\n",
              "      <td>218.76.65.102</td>\n",
              "      <td>China</td>\n",
              "      <td>Hunan</td>\n",
              "      <td>28.1792</td>\n",
              "      <td>113.1136</td>\n",
              "      <td>NaN</td>\n",
              "      <td>NaN</td>\n",
              "      <td>NaN</td>\n",
              "    </tr>\n",
              "    <tr>\n",
              "      <th>4</th>\n",
              "      <td>3/8/13 1:16</td>\n",
              "      <td>groucho-tokyo</td>\n",
              "      <td>4.114703e+08</td>\n",
              "      <td>TCP</td>\n",
              "      <td>NaN</td>\n",
              "      <td>3422.0</td>\n",
              "      <td>23.0</td>\n",
              "      <td>24.134.137.248</td>\n",
              "      <td>Germany</td>\n",
              "      <td>Lower Saxony</td>\n",
              "      <td>53.5568</td>\n",
              "      <td>8.1266</td>\n",
              "      <td>NaN</td>\n",
              "      <td>NaN</td>\n",
              "      <td>NaN</td>\n",
              "    </tr>\n",
              "    <tr>\n",
              "      <th>0</th>\n",
              "      <td>3/8/13 7:47</td>\n",
              "      <td>groucho-singapore</td>\n",
              "      <td>7.109706e+08</td>\n",
              "      <td>TCP</td>\n",
              "      <td>NaN</td>\n",
              "      <td>36220.0</td>\n",
              "      <td>3389.0</td>\n",
              "      <td>42.96.140.225</td>\n",
              "      <td>China</td>\n",
              "      <td>Beijing Shi</td>\n",
              "      <td>39.9289</td>\n",
              "      <td>116.3883</td>\n",
              "      <td>CN</td>\n",
              "      <td>11.0</td>\n",
              "      <td>NaN</td>\n",
              "    </tr>\n",
              "    <tr>\n",
              "      <th>1</th>\n",
              "      <td>3/8/13 7:50</td>\n",
              "      <td>groucho-tokyo</td>\n",
              "      <td>1.279864e+09</td>\n",
              "      <td>ICMP</td>\n",
              "      <td>3.0</td>\n",
              "      <td>NaN</td>\n",
              "      <td>NaN</td>\n",
              "      <td>76.73.45.211</td>\n",
              "      <td>United States</td>\n",
              "      <td>Colorado</td>\n",
              "      <td>39.7525</td>\n",
              "      <td>-104.9995</td>\n",
              "      <td>US</td>\n",
              "      <td>CO</td>\n",
              "      <td>80202.0</td>\n",
              "    </tr>\n",
              "    <tr>\n",
              "      <th>2</th>\n",
              "      <td>3/8/13 7:53</td>\n",
              "      <td>groucho-tokyo</td>\n",
              "      <td>2.011989e+09</td>\n",
              "      <td>UDP</td>\n",
              "      <td>NaN</td>\n",
              "      <td>34301.0</td>\n",
              "      <td>20029.0</td>\n",
              "      <td>119.236.133.206</td>\n",
              "      <td>Hong Kong</td>\n",
              "      <td>None</td>\n",
              "      <td>22.2833</td>\n",
              "      <td>114.1500</td>\n",
              "      <td>HK</td>\n",
              "      <td>None</td>\n",
              "      <td>NaN</td>\n",
              "    </tr>\n",
              "    <tr>\n",
              "      <th>3</th>\n",
              "      <td>3/8/13 7:53</td>\n",
              "      <td>groucho-tokyo</td>\n",
              "      <td>2.011989e+09</td>\n",
              "      <td>UDP</td>\n",
              "      <td>NaN</td>\n",
              "      <td>34301.0</td>\n",
              "      <td>20029.0</td>\n",
              "      <td>119.236.133.206</td>\n",
              "      <td>Hong Kong</td>\n",
              "      <td>None</td>\n",
              "      <td>22.2833</td>\n",
              "      <td>114.1500</td>\n",
              "      <td>HK</td>\n",
              "      <td>None</td>\n",
              "      <td>NaN</td>\n",
              "    </tr>\n",
              "    <tr>\n",
              "      <th>4</th>\n",
              "      <td>3/8/13 7:53</td>\n",
              "      <td>groucho-singapore</td>\n",
              "      <td>2.061592e+09</td>\n",
              "      <td>TCP</td>\n",
              "      <td>NaN</td>\n",
              "      <td>6000.0</td>\n",
              "      <td>1521.0</td>\n",
              "      <td>122.225.101.46</td>\n",
              "      <td>China</td>\n",
              "      <td>Zhejiang Sheng</td>\n",
              "      <td>30.2936</td>\n",
              "      <td>120.1614</td>\n",
              "      <td>CN</td>\n",
              "      <td>33.0</td>\n",
              "      <td>NaN</td>\n",
              "    </tr>\n",
              "  </tbody>\n",
              "</table>\n",
              "</div>"
            ],
            "text/plain": [
              "      datetime               host           src proto  type      spt      dpt  \\\n",
              "0  3/8/13 1:11      groucho-tokyo  1.398184e+09   TCP   NaN   2065.0     23.0   \n",
              "1  3/8/13 1:12      groucho-tokyo  1.393253e+09   TCP   NaN   4667.0     23.0   \n",
              "2  3/8/13 1:14         groucho-sa  3.662431e+09  ICMP   8.0      NaN      NaN   \n",
              "3  3/8/13 1:14         groucho-sa  3.662431e+09  ICMP   8.0      NaN      NaN   \n",
              "4  3/8/13 1:16      groucho-tokyo  4.114703e+08   TCP   NaN   3422.0     23.0   \n",
              "0  3/8/13 7:47  groucho-singapore  7.109706e+08   TCP   NaN  36220.0   3389.0   \n",
              "1  3/8/13 7:50      groucho-tokyo  1.279864e+09  ICMP   3.0      NaN      NaN   \n",
              "2  3/8/13 7:53      groucho-tokyo  2.011989e+09   UDP   NaN  34301.0  20029.0   \n",
              "3  3/8/13 7:53      groucho-tokyo  2.011989e+09   UDP   NaN  34301.0  20029.0   \n",
              "4  3/8/13 7:53  groucho-singapore  2.061592e+09   TCP   NaN   6000.0   1521.0   \n",
              "\n",
              "            srcstr        country              locale  latitude  longitude  \\\n",
              "0     83.86.153.27    Netherlands       South Holland   52.1763     4.5282   \n",
              "1     83.11.89.168         Poland  Kujawsko-Pomorskie   52.5931    19.0894   \n",
              "2    218.76.65.102          China               Hunan   28.1792   113.1136   \n",
              "3    218.76.65.102          China               Hunan   28.1792   113.1136   \n",
              "4   24.134.137.248        Germany        Lower Saxony   53.5568     8.1266   \n",
              "0    42.96.140.225          China         Beijing Shi   39.9289   116.3883   \n",
              "1     76.73.45.211  United States            Colorado   39.7525  -104.9995   \n",
              "2  119.236.133.206      Hong Kong                None   22.2833   114.1500   \n",
              "3  119.236.133.206      Hong Kong                None   22.2833   114.1500   \n",
              "4   122.225.101.46          China      Zhejiang Sheng   30.2936   120.1614   \n",
              "\n",
              "    cc localeabbr  postalcode  \n",
              "0  NaN        NaN         NaN  \n",
              "1  NaN        NaN         NaN  \n",
              "2  NaN        NaN         NaN  \n",
              "3  NaN        NaN         NaN  \n",
              "4  NaN        NaN         NaN  \n",
              "0   CN       11.0         NaN  \n",
              "1   US         CO     80202.0  \n",
              "2   HK       None         NaN  \n",
              "3   HK       None         NaN  \n",
              "4   CN       33.0         NaN  "
            ]
          },
          "execution_count": 313,
          "metadata": {},
          "output_type": "execute_result"
        }
      ],
      "source": [
        "all = pd.concat([first, second], axis=0)\n",
        "print(all.shape)\n",
        "all"
      ]
    },
    {
      "cell_type": "code",
      "execution_count": 314,
      "metadata": {
        "colab": {
          "base_uri": "https://localhost:8080/",
          "height": 575
        },
        "id": "XSL_UzGNjph0",
        "outputId": "6f233445-be87-4524-8b1c-98237d657f78"
      },
      "outputs": [
        {
          "name": "stdout",
          "output_type": "stream",
          "text": [
            "(10, 20)\n"
          ]
        },
        {
          "data": {
            "text/html": [
              "<div>\n",
              "<style scoped>\n",
              "    .dataframe tbody tr th:only-of-type {\n",
              "        vertical-align: middle;\n",
              "    }\n",
              "\n",
              "    .dataframe tbody tr th {\n",
              "        vertical-align: top;\n",
              "    }\n",
              "\n",
              "    .dataframe thead th {\n",
              "        text-align: right;\n",
              "    }\n",
              "</style>\n",
              "<table border=\"1\" class=\"dataframe\">\n",
              "  <thead>\n",
              "    <tr style=\"text-align: right;\">\n",
              "      <th></th>\n",
              "      <th>datetime</th>\n",
              "      <th>host</th>\n",
              "      <th>src</th>\n",
              "      <th>proto</th>\n",
              "      <th>type</th>\n",
              "      <th>spt</th>\n",
              "      <th>dpt</th>\n",
              "      <th>srcstr</th>\n",
              "      <th>country</th>\n",
              "      <th>locale</th>\n",
              "      <th>latitude</th>\n",
              "      <th>longitude</th>\n",
              "      <th>datetime</th>\n",
              "      <th>host</th>\n",
              "      <th>srcstr</th>\n",
              "      <th>cc</th>\n",
              "      <th>localeabbr</th>\n",
              "      <th>postalcode</th>\n",
              "      <th>latitude</th>\n",
              "      <th>longitude</th>\n",
              "    </tr>\n",
              "  </thead>\n",
              "  <tbody>\n",
              "    <tr>\n",
              "      <th>0</th>\n",
              "      <td>3/8/13 1:11</td>\n",
              "      <td>groucho-tokyo</td>\n",
              "      <td>1.398184e+09</td>\n",
              "      <td>TCP</td>\n",
              "      <td>NaN</td>\n",
              "      <td>2065.0</td>\n",
              "      <td>23.0</td>\n",
              "      <td>83.86.153.27</td>\n",
              "      <td>Netherlands</td>\n",
              "      <td>South Holland</td>\n",
              "      <td>52.1763</td>\n",
              "      <td>4.5282</td>\n",
              "      <td>3/8/13 1:11</td>\n",
              "      <td>groucho-tokyo</td>\n",
              "      <td>83.86.153.27</td>\n",
              "      <td>NL</td>\n",
              "      <td>ZH</td>\n",
              "      <td>NaN</td>\n",
              "      <td>52.1763</td>\n",
              "      <td>4.5282</td>\n",
              "    </tr>\n",
              "    <tr>\n",
              "      <th>1</th>\n",
              "      <td>3/8/13 1:12</td>\n",
              "      <td>groucho-tokyo</td>\n",
              "      <td>1.393253e+09</td>\n",
              "      <td>TCP</td>\n",
              "      <td>NaN</td>\n",
              "      <td>4667.0</td>\n",
              "      <td>23.0</td>\n",
              "      <td>83.11.89.168</td>\n",
              "      <td>Poland</td>\n",
              "      <td>Kujawsko-Pomorskie</td>\n",
              "      <td>52.5931</td>\n",
              "      <td>19.0894</td>\n",
              "      <td>3/8/13 1:12</td>\n",
              "      <td>groucho-tokyo</td>\n",
              "      <td>83.11.89.168</td>\n",
              "      <td>PL</td>\n",
              "      <td>KP</td>\n",
              "      <td>NaN</td>\n",
              "      <td>52.5931</td>\n",
              "      <td>19.0894</td>\n",
              "    </tr>\n",
              "    <tr>\n",
              "      <th>2</th>\n",
              "      <td>3/8/13 1:14</td>\n",
              "      <td>groucho-sa</td>\n",
              "      <td>3.662431e+09</td>\n",
              "      <td>ICMP</td>\n",
              "      <td>8.0</td>\n",
              "      <td>NaN</td>\n",
              "      <td>NaN</td>\n",
              "      <td>218.76.65.102</td>\n",
              "      <td>China</td>\n",
              "      <td>Hunan</td>\n",
              "      <td>28.1792</td>\n",
              "      <td>113.1136</td>\n",
              "      <td>3/8/13 1:14</td>\n",
              "      <td>groucho-sa</td>\n",
              "      <td>218.76.65.102</td>\n",
              "      <td>CN</td>\n",
              "      <td>43</td>\n",
              "      <td>NaN</td>\n",
              "      <td>28.1792</td>\n",
              "      <td>113.1136</td>\n",
              "    </tr>\n",
              "    <tr>\n",
              "      <th>3</th>\n",
              "      <td>3/8/13 1:14</td>\n",
              "      <td>groucho-sa</td>\n",
              "      <td>3.662431e+09</td>\n",
              "      <td>ICMP</td>\n",
              "      <td>8.0</td>\n",
              "      <td>NaN</td>\n",
              "      <td>NaN</td>\n",
              "      <td>218.76.65.102</td>\n",
              "      <td>China</td>\n",
              "      <td>Hunan</td>\n",
              "      <td>28.1792</td>\n",
              "      <td>113.1136</td>\n",
              "      <td>3/8/13 1:14</td>\n",
              "      <td>groucho-sa</td>\n",
              "      <td>218.76.65.102</td>\n",
              "      <td>CN</td>\n",
              "      <td>43</td>\n",
              "      <td>NaN</td>\n",
              "      <td>28.1792</td>\n",
              "      <td>113.1136</td>\n",
              "    </tr>\n",
              "    <tr>\n",
              "      <th>4</th>\n",
              "      <td>3/8/13 1:16</td>\n",
              "      <td>groucho-tokyo</td>\n",
              "      <td>4.114703e+08</td>\n",
              "      <td>TCP</td>\n",
              "      <td>NaN</td>\n",
              "      <td>3422.0</td>\n",
              "      <td>23.0</td>\n",
              "      <td>24.134.137.248</td>\n",
              "      <td>Germany</td>\n",
              "      <td>Lower Saxony</td>\n",
              "      <td>53.5568</td>\n",
              "      <td>8.1266</td>\n",
              "      <td>3/8/13 1:16</td>\n",
              "      <td>groucho-tokyo</td>\n",
              "      <td>24.134.137.248</td>\n",
              "      <td>DE</td>\n",
              "      <td>NI</td>\n",
              "      <td>26386.0</td>\n",
              "      <td>53.5568</td>\n",
              "      <td>8.1266</td>\n",
              "    </tr>\n",
              "    <tr>\n",
              "      <th>5</th>\n",
              "      <td>NaN</td>\n",
              "      <td>NaN</td>\n",
              "      <td>NaN</td>\n",
              "      <td>NaN</td>\n",
              "      <td>NaN</td>\n",
              "      <td>NaN</td>\n",
              "      <td>NaN</td>\n",
              "      <td>NaN</td>\n",
              "      <td>NaN</td>\n",
              "      <td>NaN</td>\n",
              "      <td>NaN</td>\n",
              "      <td>NaN</td>\n",
              "      <td>3/8/13 1:16</td>\n",
              "      <td>groucho-oregon</td>\n",
              "      <td>117.41.246.218</td>\n",
              "      <td>CN</td>\n",
              "      <td>36</td>\n",
              "      <td>NaN</td>\n",
              "      <td>28.5500</td>\n",
              "      <td>115.9333</td>\n",
              "    </tr>\n",
              "    <tr>\n",
              "      <th>6</th>\n",
              "      <td>NaN</td>\n",
              "      <td>NaN</td>\n",
              "      <td>NaN</td>\n",
              "      <td>NaN</td>\n",
              "      <td>NaN</td>\n",
              "      <td>NaN</td>\n",
              "      <td>NaN</td>\n",
              "      <td>NaN</td>\n",
              "      <td>NaN</td>\n",
              "      <td>NaN</td>\n",
              "      <td>NaN</td>\n",
              "      <td>NaN</td>\n",
              "      <td>3/8/13 1:17</td>\n",
              "      <td>groucho-tokyo</td>\n",
              "      <td>222.241.150.140</td>\n",
              "      <td>CN</td>\n",
              "      <td>43</td>\n",
              "      <td>NaN</td>\n",
              "      <td>28.1792</td>\n",
              "      <td>113.1136</td>\n",
              "    </tr>\n",
              "    <tr>\n",
              "      <th>7</th>\n",
              "      <td>NaN</td>\n",
              "      <td>NaN</td>\n",
              "      <td>NaN</td>\n",
              "      <td>NaN</td>\n",
              "      <td>NaN</td>\n",
              "      <td>NaN</td>\n",
              "      <td>NaN</td>\n",
              "      <td>NaN</td>\n",
              "      <td>NaN</td>\n",
              "      <td>NaN</td>\n",
              "      <td>NaN</td>\n",
              "      <td>NaN</td>\n",
              "      <td>3/8/13 1:18</td>\n",
              "      <td>groucho-tokyo</td>\n",
              "      <td>61.147.103.139</td>\n",
              "      <td>CN</td>\n",
              "      <td>32</td>\n",
              "      <td>NaN</td>\n",
              "      <td>32.0617</td>\n",
              "      <td>118.7778</td>\n",
              "    </tr>\n",
              "    <tr>\n",
              "      <th>8</th>\n",
              "      <td>NaN</td>\n",
              "      <td>NaN</td>\n",
              "      <td>NaN</td>\n",
              "      <td>NaN</td>\n",
              "      <td>NaN</td>\n",
              "      <td>NaN</td>\n",
              "      <td>NaN</td>\n",
              "      <td>NaN</td>\n",
              "      <td>NaN</td>\n",
              "      <td>NaN</td>\n",
              "      <td>NaN</td>\n",
              "      <td>NaN</td>\n",
              "      <td>3/8/13 1:19</td>\n",
              "      <td>groucho-tokyo</td>\n",
              "      <td>95.76.180.63</td>\n",
              "      <td>RO</td>\n",
              "      <td>BZ</td>\n",
              "      <td>NaN</td>\n",
              "      <td>45.1500</td>\n",
              "      <td>26.8333</td>\n",
              "    </tr>\n",
              "    <tr>\n",
              "      <th>9</th>\n",
              "      <td>NaN</td>\n",
              "      <td>NaN</td>\n",
              "      <td>NaN</td>\n",
              "      <td>NaN</td>\n",
              "      <td>NaN</td>\n",
              "      <td>NaN</td>\n",
              "      <td>NaN</td>\n",
              "      <td>NaN</td>\n",
              "      <td>NaN</td>\n",
              "      <td>NaN</td>\n",
              "      <td>NaN</td>\n",
              "      <td>NaN</td>\n",
              "      <td>3/8/13 1:20</td>\n",
              "      <td>groucho-tokyo</td>\n",
              "      <td>95.76.180.63</td>\n",
              "      <td>RO</td>\n",
              "      <td>BZ</td>\n",
              "      <td>NaN</td>\n",
              "      <td>45.1500</td>\n",
              "      <td>26.8333</td>\n",
              "    </tr>\n",
              "  </tbody>\n",
              "</table>\n",
              "</div>"
            ],
            "text/plain": [
              "      datetime           host           src proto  type     spt   dpt  \\\n",
              "0  3/8/13 1:11  groucho-tokyo  1.398184e+09   TCP   NaN  2065.0  23.0   \n",
              "1  3/8/13 1:12  groucho-tokyo  1.393253e+09   TCP   NaN  4667.0  23.0   \n",
              "2  3/8/13 1:14     groucho-sa  3.662431e+09  ICMP   8.0     NaN   NaN   \n",
              "3  3/8/13 1:14     groucho-sa  3.662431e+09  ICMP   8.0     NaN   NaN   \n",
              "4  3/8/13 1:16  groucho-tokyo  4.114703e+08   TCP   NaN  3422.0  23.0   \n",
              "5          NaN            NaN           NaN   NaN   NaN     NaN   NaN   \n",
              "6          NaN            NaN           NaN   NaN   NaN     NaN   NaN   \n",
              "7          NaN            NaN           NaN   NaN   NaN     NaN   NaN   \n",
              "8          NaN            NaN           NaN   NaN   NaN     NaN   NaN   \n",
              "9          NaN            NaN           NaN   NaN   NaN     NaN   NaN   \n",
              "\n",
              "           srcstr      country              locale  latitude  longitude  \\\n",
              "0    83.86.153.27  Netherlands       South Holland   52.1763     4.5282   \n",
              "1    83.11.89.168       Poland  Kujawsko-Pomorskie   52.5931    19.0894   \n",
              "2   218.76.65.102        China               Hunan   28.1792   113.1136   \n",
              "3   218.76.65.102        China               Hunan   28.1792   113.1136   \n",
              "4  24.134.137.248      Germany        Lower Saxony   53.5568     8.1266   \n",
              "5             NaN          NaN                 NaN       NaN        NaN   \n",
              "6             NaN          NaN                 NaN       NaN        NaN   \n",
              "7             NaN          NaN                 NaN       NaN        NaN   \n",
              "8             NaN          NaN                 NaN       NaN        NaN   \n",
              "9             NaN          NaN                 NaN       NaN        NaN   \n",
              "\n",
              "      datetime            host           srcstr  cc localeabbr  postalcode  \\\n",
              "0  3/8/13 1:11   groucho-tokyo     83.86.153.27  NL         ZH         NaN   \n",
              "1  3/8/13 1:12   groucho-tokyo     83.11.89.168  PL         KP         NaN   \n",
              "2  3/8/13 1:14      groucho-sa    218.76.65.102  CN         43         NaN   \n",
              "3  3/8/13 1:14      groucho-sa    218.76.65.102  CN         43         NaN   \n",
              "4  3/8/13 1:16   groucho-tokyo   24.134.137.248  DE         NI     26386.0   \n",
              "5  3/8/13 1:16  groucho-oregon   117.41.246.218  CN         36         NaN   \n",
              "6  3/8/13 1:17   groucho-tokyo  222.241.150.140  CN         43         NaN   \n",
              "7  3/8/13 1:18   groucho-tokyo   61.147.103.139  CN         32         NaN   \n",
              "8  3/8/13 1:19   groucho-tokyo     95.76.180.63  RO         BZ         NaN   \n",
              "9  3/8/13 1:20   groucho-tokyo     95.76.180.63  RO         BZ         NaN   \n",
              "\n",
              "   latitude  longitude  \n",
              "0   52.1763     4.5282  \n",
              "1   52.5931    19.0894  \n",
              "2   28.1792   113.1136  \n",
              "3   28.1792   113.1136  \n",
              "4   53.5568     8.1266  \n",
              "5   28.5500   115.9333  \n",
              "6   28.1792   113.1136  \n",
              "7   32.0617   118.7778  \n",
              "8   45.1500    26.8333  \n",
              "9   45.1500    26.8333  "
            ]
          },
          "execution_count": 314,
          "metadata": {},
          "output_type": "execute_result"
        }
      ],
      "source": [
        "all = pd.concat([first, loc], axis=1)\n",
        "# ruleaza celula, apoi decomenteaza linia urmatoare\n",
        "# all = all.loc[:,~all.columns.duplicated()]\n",
        "print(all.shape)\n",
        "all"
      ]
    },
    {
      "cell_type": "markdown",
      "metadata": {
        "id": "7slWSIxuvh91"
      },
      "source": [
        "# Exercitii Laborator\n",
        "\n",
        "In exercitiile propuse spre rezolvare, vom folosi urmatoarele dataset-uri:\n",
        "*   *movies.csv*\n",
        "      * contine date despre filmele din top 100 IMDB (precum titlul, anul aparitiei, rating, gen)\n",
        "*   *academy_awards.xlsx*\n",
        "* *bafta.xlsx*\n",
        "* *golden_globes.xlsx*\n",
        "  \n",
        "  * contin informatii despre nominalizari si premii castigate la 3 festivaluri de catre filmele din top 100 IMDB\n",
        "  * cele 6 categorii luate in considerare (ex. best film, best actor) au aceeasi denumire in toate cele 3 dataset-uri\n",
        "  * in dreptul unei categorii, un film poate avea una din urmatoarele valori:\n",
        "    * *1*, daca filmul a castigat acel premiu\n",
        "    * *2*, daca filmul a fost nominalizat pentru acel premiu, dar nu a castigat\n",
        "    * *nicio valoare*, daca filmul nu a fost nici macar nominalizat pentru acel premiu (se poate interpreta ca nan)\n"
      ]
    },
    {
      "cell_type": "code",
      "execution_count": 315,
      "metadata": {
        "colab": {
          "base_uri": "https://localhost:8080/",
          "height": 291
        },
        "id": "1-e24WJx06vR",
        "outputId": "7571540b-9499-40a0-ee61-e94ee786efb6"
      },
      "outputs": [
        {
          "data": {
            "text/html": [
              "<div>\n",
              "<style scoped>\n",
              "    .dataframe tbody tr th:only-of-type {\n",
              "        vertical-align: middle;\n",
              "    }\n",
              "\n",
              "    .dataframe tbody tr th {\n",
              "        vertical-align: top;\n",
              "    }\n",
              "\n",
              "    .dataframe thead th {\n",
              "        text-align: right;\n",
              "    }\n",
              "</style>\n",
              "<table border=\"1\" class=\"dataframe\">\n",
              "  <thead>\n",
              "    <tr style=\"text-align: right;\">\n",
              "      <th></th>\n",
              "      <th>imdb_title_id</th>\n",
              "      <th>original_title</th>\n",
              "      <th>year</th>\n",
              "      <th>genre</th>\n",
              "      <th>duration</th>\n",
              "      <th>director</th>\n",
              "      <th>writer</th>\n",
              "      <th>production_company</th>\n",
              "      <th>actors</th>\n",
              "      <th>description</th>\n",
              "      <th>avg_vote</th>\n",
              "      <th>votes</th>\n",
              "    </tr>\n",
              "  </thead>\n",
              "  <tbody>\n",
              "    <tr>\n",
              "      <th>0</th>\n",
              "      <td>tt0111161</td>\n",
              "      <td>The Shawshank Redemption</td>\n",
              "      <td>1994</td>\n",
              "      <td>Drama</td>\n",
              "      <td>142</td>\n",
              "      <td>Frank Darabont</td>\n",
              "      <td>Stephen King, Frank Darabont</td>\n",
              "      <td>Castle Rock Entertainment</td>\n",
              "      <td>Tim Robbins, Morgan Freeman, Bob Gunton, Willi...</td>\n",
              "      <td>Two imprisoned men bond over a number of years...</td>\n",
              "      <td>9.3</td>\n",
              "      <td>2278845</td>\n",
              "    </tr>\n",
              "    <tr>\n",
              "      <th>1</th>\n",
              "      <td>tt0068646</td>\n",
              "      <td>The Godfather</td>\n",
              "      <td>1972</td>\n",
              "      <td>Crime, Drama</td>\n",
              "      <td>175</td>\n",
              "      <td>Francis Ford Coppola</td>\n",
              "      <td>Mario Puzo, Francis Ford Coppola</td>\n",
              "      <td>Paramount Pictures</td>\n",
              "      <td>Marlon Brando, Al Pacino, James Caan, Richard ...</td>\n",
              "      <td>The aging patriarch of an organized crime dyna...</td>\n",
              "      <td>9.2</td>\n",
              "      <td>1572674</td>\n",
              "    </tr>\n",
              "    <tr>\n",
              "      <th>2</th>\n",
              "      <td>tt0071562</td>\n",
              "      <td>The Godfather: Part II</td>\n",
              "      <td>1974</td>\n",
              "      <td>Crime, Drama</td>\n",
              "      <td>202</td>\n",
              "      <td>Francis Ford Coppola</td>\n",
              "      <td>Francis Ford Coppola, Mario Puzo</td>\n",
              "      <td>Paramount Pictures</td>\n",
              "      <td>Al Pacino, Robert Duvall, Diane Keaton, Robert...</td>\n",
              "      <td>The early life and career of Vito Corleone in ...</td>\n",
              "      <td>9.0</td>\n",
              "      <td>1098714</td>\n",
              "    </tr>\n",
              "    <tr>\n",
              "      <th>3</th>\n",
              "      <td>tt0468569</td>\n",
              "      <td>The Dark Knight</td>\n",
              "      <td>2008</td>\n",
              "      <td>Action, Crime, Drama</td>\n",
              "      <td>152</td>\n",
              "      <td>Christopher Nolan</td>\n",
              "      <td>Jonathan Nolan, Christopher Nolan</td>\n",
              "      <td>Warner Bros.</td>\n",
              "      <td>Christian Bale, Heath Ledger, Aaron Eckhart, M...</td>\n",
              "      <td>When the menace known as the Joker wreaks havo...</td>\n",
              "      <td>9.0</td>\n",
              "      <td>2241615</td>\n",
              "    </tr>\n",
              "    <tr>\n",
              "      <th>4</th>\n",
              "      <td>tt0050083</td>\n",
              "      <td>12 Angry Men</td>\n",
              "      <td>1957</td>\n",
              "      <td>Crime, Drama</td>\n",
              "      <td>96</td>\n",
              "      <td>Sidney Lumet</td>\n",
              "      <td>Reginald Rose, Reginald Rose</td>\n",
              "      <td>Orion-Nova Productions</td>\n",
              "      <td>Martin Balsam, John Fiedler, Lee J. Cobb, E.G....</td>\n",
              "      <td>A jury holdout attempts to prevent a miscarria...</td>\n",
              "      <td>8.9</td>\n",
              "      <td>668473</td>\n",
              "    </tr>\n",
              "  </tbody>\n",
              "</table>\n",
              "</div>"
            ],
            "text/plain": [
              "  imdb_title_id            original_title  year                 genre  \\\n",
              "0     tt0111161  The Shawshank Redemption  1994                 Drama   \n",
              "1     tt0068646             The Godfather  1972          Crime, Drama   \n",
              "2     tt0071562    The Godfather: Part II  1974          Crime, Drama   \n",
              "3     tt0468569           The Dark Knight  2008  Action, Crime, Drama   \n",
              "4     tt0050083              12 Angry Men  1957          Crime, Drama   \n",
              "\n",
              "   duration              director                             writer  \\\n",
              "0       142        Frank Darabont       Stephen King, Frank Darabont   \n",
              "1       175  Francis Ford Coppola   Mario Puzo, Francis Ford Coppola   \n",
              "2       202  Francis Ford Coppola   Francis Ford Coppola, Mario Puzo   \n",
              "3       152     Christopher Nolan  Jonathan Nolan, Christopher Nolan   \n",
              "4        96          Sidney Lumet       Reginald Rose, Reginald Rose   \n",
              "\n",
              "          production_company  \\\n",
              "0  Castle Rock Entertainment   \n",
              "1         Paramount Pictures   \n",
              "2         Paramount Pictures   \n",
              "3               Warner Bros.   \n",
              "4     Orion-Nova Productions   \n",
              "\n",
              "                                              actors  \\\n",
              "0  Tim Robbins, Morgan Freeman, Bob Gunton, Willi...   \n",
              "1  Marlon Brando, Al Pacino, James Caan, Richard ...   \n",
              "2  Al Pacino, Robert Duvall, Diane Keaton, Robert...   \n",
              "3  Christian Bale, Heath Ledger, Aaron Eckhart, M...   \n",
              "4  Martin Balsam, John Fiedler, Lee J. Cobb, E.G....   \n",
              "\n",
              "                                         description  avg_vote    votes  \n",
              "0  Two imprisoned men bond over a number of years...       9.3  2278845  \n",
              "1  The aging patriarch of an organized crime dyna...       9.2  1572674  \n",
              "2  The early life and career of Vito Corleone in ...       9.0  1098714  \n",
              "3  When the menace known as the Joker wreaks havo...       9.0  2241615  \n",
              "4  A jury holdout attempts to prevent a miscarria...       8.9   668473  "
            ]
          },
          "execution_count": 315,
          "metadata": {},
          "output_type": "execute_result"
        }
      ],
      "source": [
        "import pandas as pd\n",
        "import numpy as np\n",
        "\n",
        "# top 100 IMDB movies\n",
        "movies = pd.read_csv(\"dataset/movies.csv\")\n",
        "movies.head()"
      ]
    },
    {
      "cell_type": "code",
      "execution_count": 316,
      "metadata": {
        "colab": {
          "base_uri": "https://localhost:8080/",
          "height": 205
        },
        "id": "GmERC3O657Kq",
        "outputId": "ee743d02-e5e6-4ab0-ebc6-f08d985dd8e1"
      },
      "outputs": [
        {
          "data": {
            "text/html": [
              "<div>\n",
              "<style scoped>\n",
              "    .dataframe tbody tr th:only-of-type {\n",
              "        vertical-align: middle;\n",
              "    }\n",
              "\n",
              "    .dataframe tbody tr th {\n",
              "        vertical-align: top;\n",
              "    }\n",
              "\n",
              "    .dataframe thead th {\n",
              "        text-align: right;\n",
              "    }\n",
              "</style>\n",
              "<table border=\"1\" class=\"dataframe\">\n",
              "  <thead>\n",
              "    <tr style=\"text-align: right;\">\n",
              "      <th></th>\n",
              "      <th>id</th>\n",
              "      <th>original_title</th>\n",
              "      <th>Festival</th>\n",
              "      <th>Year</th>\n",
              "      <th>Best 1 (picture)</th>\n",
              "      <th>Best 2 (actor)</th>\n",
              "      <th>Best 3 (actress)</th>\n",
              "      <th>Best 4 (director)</th>\n",
              "      <th>Best 5 (supporting actor)</th>\n",
              "      <th>Best 6 (supporting actress)</th>\n",
              "    </tr>\n",
              "  </thead>\n",
              "  <tbody>\n",
              "    <tr>\n",
              "      <th>0</th>\n",
              "      <td>1</td>\n",
              "      <td>The Shawshank Redemption</td>\n",
              "      <td>Academy Awards</td>\n",
              "      <td>1995</td>\n",
              "      <td>2.0</td>\n",
              "      <td>2.0</td>\n",
              "      <td>NaN</td>\n",
              "      <td>NaN</td>\n",
              "      <td>NaN</td>\n",
              "      <td>NaN</td>\n",
              "    </tr>\n",
              "    <tr>\n",
              "      <th>1</th>\n",
              "      <td>2</td>\n",
              "      <td>The Godfather</td>\n",
              "      <td>Academy Awards</td>\n",
              "      <td>1973</td>\n",
              "      <td>1.0</td>\n",
              "      <td>1.0</td>\n",
              "      <td>NaN</td>\n",
              "      <td>2.0</td>\n",
              "      <td>2.0</td>\n",
              "      <td>NaN</td>\n",
              "    </tr>\n",
              "    <tr>\n",
              "      <th>2</th>\n",
              "      <td>3</td>\n",
              "      <td>The Godfather: Part II</td>\n",
              "      <td>Academy Awards</td>\n",
              "      <td>1975</td>\n",
              "      <td>1.0</td>\n",
              "      <td>2.0</td>\n",
              "      <td>NaN</td>\n",
              "      <td>1.0</td>\n",
              "      <td>1.0</td>\n",
              "      <td>NaN</td>\n",
              "    </tr>\n",
              "    <tr>\n",
              "      <th>3</th>\n",
              "      <td>4</td>\n",
              "      <td>The Dark Knight</td>\n",
              "      <td>Academy Awards</td>\n",
              "      <td>2009</td>\n",
              "      <td>NaN</td>\n",
              "      <td>NaN</td>\n",
              "      <td>NaN</td>\n",
              "      <td>NaN</td>\n",
              "      <td>1.0</td>\n",
              "      <td>NaN</td>\n",
              "    </tr>\n",
              "    <tr>\n",
              "      <th>4</th>\n",
              "      <td>5</td>\n",
              "      <td>12 Angry Men</td>\n",
              "      <td>Academy Awards</td>\n",
              "      <td>1958</td>\n",
              "      <td>2.0</td>\n",
              "      <td>NaN</td>\n",
              "      <td>NaN</td>\n",
              "      <td>2.0</td>\n",
              "      <td>NaN</td>\n",
              "      <td>NaN</td>\n",
              "    </tr>\n",
              "  </tbody>\n",
              "</table>\n",
              "</div>"
            ],
            "text/plain": [
              "   id            original_title        Festival  Year  Best 1 (picture)  \\\n",
              "0   1  The Shawshank Redemption  Academy Awards  1995               2.0   \n",
              "1   2             The Godfather  Academy Awards  1973               1.0   \n",
              "2   3    The Godfather: Part II  Academy Awards  1975               1.0   \n",
              "3   4           The Dark Knight  Academy Awards  2009               NaN   \n",
              "4   5              12 Angry Men  Academy Awards  1958               2.0   \n",
              "\n",
              "   Best 2 (actor)  Best 3 (actress)  Best 4 (director)   \\\n",
              "0             2.0               NaN                 NaN   \n",
              "1             1.0               NaN                 2.0   \n",
              "2             2.0               NaN                 1.0   \n",
              "3             NaN               NaN                 NaN   \n",
              "4             NaN               NaN                 2.0   \n",
              "\n",
              "   Best 5 (supporting actor)  Best 6 (supporting actress)  \n",
              "0                        NaN                          NaN  \n",
              "1                        2.0                          NaN  \n",
              "2                        1.0                          NaN  \n",
              "3                        1.0                          NaN  \n",
              "4                        NaN                          NaN  "
            ]
          },
          "execution_count": 316,
          "metadata": {},
          "output_type": "execute_result"
        }
      ],
      "source": [
        "# awards\n",
        "academy_awards = pd.read_excel(\"dataset/academy_awards.xlsx\")\n",
        "bafta = pd.read_excel(\"dataset/bafta.xlsx\")\n",
        "golden_globes = pd.read_excel(\"dataset/golden_globes.xlsx\")\n",
        "\n",
        "# academy_awards.drop(columns=\"id\", inplace=True)\n",
        "academy_awards.head()"
      ]
    },
    {
      "cell_type": "markdown",
      "metadata": {
        "id": "OyvdysW1xBJN"
      },
      "source": [
        "### 1. In dataframe-urile corespunzatoare celor trei festivaluri, redenumiti astfel:"
      ]
    },
    {
      "cell_type": "markdown",
      "metadata": {
        "id": "E1te3EcNvpDq"
      },
      "source": [
        "  * Numele coloanelor corespunzatoare categoriilor de premii:\n",
        "\n",
        "        \"Best 1 (picture)\": \"Best Picture\"\n",
        "        \"Best 2 (actor)\": \"Best Actor\"\n",
        "        \"Best 3 (actress)\": \"Best Actress\"\n",
        "        \"Best 4 (director)\": \"Best Director\"\n",
        "        \"Best 5 (supporting actor)\": \"Best Supporting Actor\"\n",
        "        \"Best 6 (supporting actress)\": \"Best Supporting Actress\"\n",
        "\n",
        "  * Numele unor titluri de film cu traducerile lor in engleza:\n",
        "  \n",
        "        \"Il buono, il brutto, il cattivo\" : \"The Good, the Bad and the Ugly\"\n",
        "        \"Dag II\" : \"The Mountain II\"\n",
        "        \"Schichinin no samurai\" : \"Seven Samurai\"\n",
        "        \"Sen to Chihiro no kamikakushi\" : \"Spirited Away\"\n",
        "        \"Gisaengchung\" : \"Parasite\"\n",
        "        \"C'era una volta il West\" : \"Once Upon A Time  in the West\"\n",
        "        \"Hotaru no haka\" : \"Grave of the Fireflies\"\n",
        "        \"Mononoke-hime\" : \"Princess Mononoke\"\n",
        "        \"Oldeuboi\" : \"Oldboy\"\n",
        "        \"Das Leben ser Anderen\" : \"The Lives of Others\"\n",
        "        \"Kimi no na wa.\" : \"Your Name.\"\n",
        "        \"Capharnaüm\" : \"Capernaum\"\n",
        "        \"Ladri di biciclette\" : \"Bycicle Thieves\"\n",
        "        \"Per qualche dollaro in più\" : \"For a Few Dollars More\"\n"
      ]
    },
    {
      "cell_type": "code",
      "execution_count": 317,
      "metadata": {
        "colab": {
          "base_uri": "https://localhost:8080/",
          "height": 310
        },
        "id": "l5coNGU4wxg_",
        "outputId": "f17baae0-cd41-405c-b7a8-70bbbeb9ff87"
      },
      "outputs": [
        {
          "data": {
            "text/html": [
              "<div>\n",
              "<style scoped>\n",
              "    .dataframe tbody tr th:only-of-type {\n",
              "        vertical-align: middle;\n",
              "    }\n",
              "\n",
              "    .dataframe tbody tr th {\n",
              "        vertical-align: top;\n",
              "    }\n",
              "\n",
              "    .dataframe thead th {\n",
              "        text-align: right;\n",
              "    }\n",
              "</style>\n",
              "<table border=\"1\" class=\"dataframe\">\n",
              "  <thead>\n",
              "    <tr style=\"text-align: right;\">\n",
              "      <th></th>\n",
              "      <th>id</th>\n",
              "      <th>original_title</th>\n",
              "      <th>Festival</th>\n",
              "      <th>Year</th>\n",
              "      <th>Best Picture</th>\n",
              "      <th>Best Actor</th>\n",
              "      <th>Best Actress</th>\n",
              "      <th>Best Director</th>\n",
              "      <th>Best Supporting Actor</th>\n",
              "      <th>Best Supporting Actress</th>\n",
              "    </tr>\n",
              "  </thead>\n",
              "  <tbody>\n",
              "    <tr>\n",
              "      <th>0</th>\n",
              "      <td>1</td>\n",
              "      <td>The Shawshank Redemption</td>\n",
              "      <td>Academy Awards</td>\n",
              "      <td>1995</td>\n",
              "      <td>2.0</td>\n",
              "      <td>2.0</td>\n",
              "      <td>NaN</td>\n",
              "      <td>NaN</td>\n",
              "      <td>NaN</td>\n",
              "      <td>NaN</td>\n",
              "    </tr>\n",
              "    <tr>\n",
              "      <th>1</th>\n",
              "      <td>2</td>\n",
              "      <td>The Godfather</td>\n",
              "      <td>Academy Awards</td>\n",
              "      <td>1973</td>\n",
              "      <td>1.0</td>\n",
              "      <td>1.0</td>\n",
              "      <td>NaN</td>\n",
              "      <td>2.0</td>\n",
              "      <td>2.0</td>\n",
              "      <td>NaN</td>\n",
              "    </tr>\n",
              "    <tr>\n",
              "      <th>2</th>\n",
              "      <td>3</td>\n",
              "      <td>The Godfather: Part II</td>\n",
              "      <td>Academy Awards</td>\n",
              "      <td>1975</td>\n",
              "      <td>1.0</td>\n",
              "      <td>2.0</td>\n",
              "      <td>NaN</td>\n",
              "      <td>1.0</td>\n",
              "      <td>1.0</td>\n",
              "      <td>NaN</td>\n",
              "    </tr>\n",
              "    <tr>\n",
              "      <th>3</th>\n",
              "      <td>4</td>\n",
              "      <td>The Dark Knight</td>\n",
              "      <td>Academy Awards</td>\n",
              "      <td>2009</td>\n",
              "      <td>NaN</td>\n",
              "      <td>NaN</td>\n",
              "      <td>NaN</td>\n",
              "      <td>NaN</td>\n",
              "      <td>1.0</td>\n",
              "      <td>NaN</td>\n",
              "    </tr>\n",
              "    <tr>\n",
              "      <th>4</th>\n",
              "      <td>5</td>\n",
              "      <td>12 Angry Men</td>\n",
              "      <td>Academy Awards</td>\n",
              "      <td>1958</td>\n",
              "      <td>2.0</td>\n",
              "      <td>NaN</td>\n",
              "      <td>NaN</td>\n",
              "      <td>2.0</td>\n",
              "      <td>NaN</td>\n",
              "      <td>NaN</td>\n",
              "    </tr>\n",
              "  </tbody>\n",
              "</table>\n",
              "</div>"
            ],
            "text/plain": [
              "   id            original_title        Festival  Year  Best Picture  \\\n",
              "0   1  The Shawshank Redemption  Academy Awards  1995           2.0   \n",
              "1   2             The Godfather  Academy Awards  1973           1.0   \n",
              "2   3    The Godfather: Part II  Academy Awards  1975           1.0   \n",
              "3   4           The Dark Knight  Academy Awards  2009           NaN   \n",
              "4   5              12 Angry Men  Academy Awards  1958           2.0   \n",
              "\n",
              "   Best Actor  Best Actress  Best Director  Best Supporting Actor  \\\n",
              "0         2.0           NaN            NaN                    NaN   \n",
              "1         1.0           NaN            2.0                    2.0   \n",
              "2         2.0           NaN            1.0                    1.0   \n",
              "3         NaN           NaN            NaN                    1.0   \n",
              "4         NaN           NaN            2.0                    NaN   \n",
              "\n",
              "   Best Supporting Actress  \n",
              "0                      NaN  \n",
              "1                      NaN  \n",
              "2                      NaN  \n",
              "3                      NaN  \n",
              "4                      NaN  "
            ]
          },
          "metadata": {},
          "output_type": "display_data"
        },
        {
          "data": {
            "text/html": [
              "<div>\n",
              "<style scoped>\n",
              "    .dataframe tbody tr th:only-of-type {\n",
              "        vertical-align: middle;\n",
              "    }\n",
              "\n",
              "    .dataframe tbody tr th {\n",
              "        vertical-align: top;\n",
              "    }\n",
              "\n",
              "    .dataframe thead th {\n",
              "        text-align: right;\n",
              "    }\n",
              "</style>\n",
              "<table border=\"1\" class=\"dataframe\">\n",
              "  <thead>\n",
              "    <tr style=\"text-align: right;\">\n",
              "      <th></th>\n",
              "      <th>id</th>\n",
              "      <th>original_title</th>\n",
              "      <th>Festival</th>\n",
              "      <th>Year</th>\n",
              "      <th>Best Picture</th>\n",
              "      <th>Best Actor</th>\n",
              "      <th>Best Actress</th>\n",
              "      <th>Best Director</th>\n",
              "      <th>Best Supporting Actor</th>\n",
              "      <th>Best Supporting Actress</th>\n",
              "    </tr>\n",
              "  </thead>\n",
              "  <tbody>\n",
              "    <tr>\n",
              "      <th>0</th>\n",
              "      <td>1</td>\n",
              "      <td>The Shawshank Redemption</td>\n",
              "      <td>BAFTA</td>\n",
              "      <td>1995</td>\n",
              "      <td>NaN</td>\n",
              "      <td>NaN</td>\n",
              "      <td>NaN</td>\n",
              "      <td>NaN</td>\n",
              "      <td>NaN</td>\n",
              "      <td>NaN</td>\n",
              "    </tr>\n",
              "    <tr>\n",
              "      <th>1</th>\n",
              "      <td>2</td>\n",
              "      <td>The Godfather</td>\n",
              "      <td>BAFTA</td>\n",
              "      <td>1973</td>\n",
              "      <td>NaN</td>\n",
              "      <td>2.0</td>\n",
              "      <td>NaN</td>\n",
              "      <td>NaN</td>\n",
              "      <td>2.0</td>\n",
              "      <td>NaN</td>\n",
              "    </tr>\n",
              "    <tr>\n",
              "      <th>2</th>\n",
              "      <td>3</td>\n",
              "      <td>The Godfather: Part II</td>\n",
              "      <td>BAFTA</td>\n",
              "      <td>1976</td>\n",
              "      <td>NaN</td>\n",
              "      <td>1.0</td>\n",
              "      <td>NaN</td>\n",
              "      <td>NaN</td>\n",
              "      <td>NaN</td>\n",
              "      <td>NaN</td>\n",
              "    </tr>\n",
              "    <tr>\n",
              "      <th>3</th>\n",
              "      <td>4</td>\n",
              "      <td>The Dark Knight</td>\n",
              "      <td>BAFTA</td>\n",
              "      <td>2009</td>\n",
              "      <td>NaN</td>\n",
              "      <td>NaN</td>\n",
              "      <td>NaN</td>\n",
              "      <td>NaN</td>\n",
              "      <td>1.0</td>\n",
              "      <td>NaN</td>\n",
              "    </tr>\n",
              "    <tr>\n",
              "      <th>4</th>\n",
              "      <td>5</td>\n",
              "      <td>12 Angry Men</td>\n",
              "      <td>BAFTA</td>\n",
              "      <td>1958</td>\n",
              "      <td>2.0</td>\n",
              "      <td>1.0</td>\n",
              "      <td>NaN</td>\n",
              "      <td>NaN</td>\n",
              "      <td>NaN</td>\n",
              "      <td>NaN</td>\n",
              "    </tr>\n",
              "  </tbody>\n",
              "</table>\n",
              "</div>"
            ],
            "text/plain": [
              "   id            original_title Festival  Year  Best Picture  Best Actor  \\\n",
              "0   1  The Shawshank Redemption    BAFTA  1995           NaN         NaN   \n",
              "1   2             The Godfather    BAFTA  1973           NaN         2.0   \n",
              "2   3    The Godfather: Part II    BAFTA  1976           NaN         1.0   \n",
              "3   4           The Dark Knight    BAFTA  2009           NaN         NaN   \n",
              "4   5              12 Angry Men    BAFTA  1958           2.0         1.0   \n",
              "\n",
              "   Best Actress  Best Director  Best Supporting Actor  Best Supporting Actress  \n",
              "0           NaN            NaN                    NaN                      NaN  \n",
              "1           NaN            NaN                    2.0                      NaN  \n",
              "2           NaN            NaN                    NaN                      NaN  \n",
              "3           NaN            NaN                    1.0                      NaN  \n",
              "4           NaN            NaN                    NaN                      NaN  "
            ]
          },
          "metadata": {},
          "output_type": "display_data"
        },
        {
          "data": {
            "text/html": [
              "<div>\n",
              "<style scoped>\n",
              "    .dataframe tbody tr th:only-of-type {\n",
              "        vertical-align: middle;\n",
              "    }\n",
              "\n",
              "    .dataframe tbody tr th {\n",
              "        vertical-align: top;\n",
              "    }\n",
              "\n",
              "    .dataframe thead th {\n",
              "        text-align: right;\n",
              "    }\n",
              "</style>\n",
              "<table border=\"1\" class=\"dataframe\">\n",
              "  <thead>\n",
              "    <tr style=\"text-align: right;\">\n",
              "      <th></th>\n",
              "      <th>id</th>\n",
              "      <th>original_title</th>\n",
              "      <th>Festival</th>\n",
              "      <th>Year</th>\n",
              "      <th>Best Picture</th>\n",
              "      <th>Best Actor</th>\n",
              "      <th>Best Actress</th>\n",
              "      <th>Best Director</th>\n",
              "      <th>Best Supporting Actor</th>\n",
              "      <th>Best Supporting Actress</th>\n",
              "    </tr>\n",
              "  </thead>\n",
              "  <tbody>\n",
              "    <tr>\n",
              "      <th>0</th>\n",
              "      <td>1</td>\n",
              "      <td>The Shawshank Redemption</td>\n",
              "      <td>Golden Globes</td>\n",
              "      <td>1995</td>\n",
              "      <td>NaN</td>\n",
              "      <td>1.0</td>\n",
              "      <td>NaN</td>\n",
              "      <td>NaN</td>\n",
              "      <td>NaN</td>\n",
              "      <td>NaN</td>\n",
              "    </tr>\n",
              "    <tr>\n",
              "      <th>1</th>\n",
              "      <td>2</td>\n",
              "      <td>The Godfather</td>\n",
              "      <td>Golden Globes</td>\n",
              "      <td>1973</td>\n",
              "      <td>1.0</td>\n",
              "      <td>1.0</td>\n",
              "      <td>NaN</td>\n",
              "      <td>1.0</td>\n",
              "      <td>2.0</td>\n",
              "      <td>NaN</td>\n",
              "    </tr>\n",
              "    <tr>\n",
              "      <th>2</th>\n",
              "      <td>3</td>\n",
              "      <td>The Godfather: Part II</td>\n",
              "      <td>Golden Globes</td>\n",
              "      <td>1975</td>\n",
              "      <td>2.0</td>\n",
              "      <td>2.0</td>\n",
              "      <td>NaN</td>\n",
              "      <td>2.0</td>\n",
              "      <td>NaN</td>\n",
              "      <td>NaN</td>\n",
              "    </tr>\n",
              "    <tr>\n",
              "      <th>3</th>\n",
              "      <td>4</td>\n",
              "      <td>The Dark Knight</td>\n",
              "      <td>Golden Globes</td>\n",
              "      <td>2009</td>\n",
              "      <td>NaN</td>\n",
              "      <td>1.0</td>\n",
              "      <td>NaN</td>\n",
              "      <td>NaN</td>\n",
              "      <td>NaN</td>\n",
              "      <td>NaN</td>\n",
              "    </tr>\n",
              "    <tr>\n",
              "      <th>4</th>\n",
              "      <td>5</td>\n",
              "      <td>12 Angry Men</td>\n",
              "      <td>Golden Globes</td>\n",
              "      <td>1998</td>\n",
              "      <td>NaN</td>\n",
              "      <td>1.0</td>\n",
              "      <td>NaN</td>\n",
              "      <td>NaN</td>\n",
              "      <td>NaN</td>\n",
              "      <td>NaN</td>\n",
              "    </tr>\n",
              "  </tbody>\n",
              "</table>\n",
              "</div>"
            ],
            "text/plain": [
              "   id            original_title       Festival  Year  Best Picture  \\\n",
              "0   1  The Shawshank Redemption  Golden Globes  1995           NaN   \n",
              "1   2             The Godfather  Golden Globes  1973           1.0   \n",
              "2   3    The Godfather: Part II  Golden Globes  1975           2.0   \n",
              "3   4           The Dark Knight  Golden Globes  2009           NaN   \n",
              "4   5              12 Angry Men  Golden Globes  1998           NaN   \n",
              "\n",
              "   Best Actor  Best Actress  Best Director  Best Supporting Actor  \\\n",
              "0         1.0           NaN            NaN                    NaN   \n",
              "1         1.0           NaN            1.0                    2.0   \n",
              "2         2.0           NaN            2.0                    NaN   \n",
              "3         1.0           NaN            NaN                    NaN   \n",
              "4         1.0           NaN            NaN                    NaN   \n",
              "\n",
              "   Best Supporting Actress  \n",
              "0                      NaN  \n",
              "1                      NaN  \n",
              "2                      NaN  \n",
              "3                      NaN  \n",
              "4                      NaN  "
            ]
          },
          "metadata": {},
          "output_type": "display_data"
        }
      ],
      "source": [
        "rename_dict_columns = {\n",
        "    \"Best 1 (picture)\": \"Best Picture\",\n",
        "    \"Best 2 (actor)\": \"Best Actor\",\n",
        "    \"Best 3 (actress)\": \"Best Actress\",\n",
        "    \"Best 4 (director)\": \"Best Director\",\n",
        "    \"Best 4 (director) \": \"Best Director\",\n",
        "    \"Best 5 (supporting actor)\": \"Best Supporting Actor\",\n",
        "    \"Best 6 (supporting actress)\": \"Best Supporting Actress\",\n",
        "}\n",
        "\n",
        "rename_original_titles = {\n",
        "    \"Il buono, il brutto, il cattivo\" : \"The Good, the Bad and the Ugly\",\n",
        "    \"Dag II\" : \"The Mountain II\",\n",
        "    \"Schichinin no samurai\" : \"Seven Samurai\",\n",
        "    \"Sen to Chihiro no kamikakushi\" : \"Spirited Away\",\n",
        "    \"Gisaengchung\" : \"Parasite\",\n",
        "    \"C'era una volta il West\" : \"Once Upon A Time  in the West\",\n",
        "    \"Hotaru no haka\" : \"Grave of the Fireflies\",\n",
        "    \"Mononoke-hime\" : \"Princess Mononoke\",\n",
        "    \"Oldeuboi\" : \"Oldboy\",\n",
        "    \"Das Leben ser Anderen\" : \"The Lives of Others\",\n",
        "    \"Kimi no na wa.\" : \"Your Name.\",\n",
        "    \"Capharnaüm\" : \"Capernaum\",\n",
        "    \"Ladri di biciclette\" : \"Bycicle Thieves\",\n",
        "    \"Per qualche dollaro in più\" : \"For a Few Dollars More\"\n",
        "}\n",
        "\n",
        "festivals = [academy_awards, bafta, golden_globes]\n",
        "\n",
        "for festival in festivals:\n",
        "    festival.rename(columns=rename_dict_columns, inplace=True)\n",
        "    festival[\"original_title\"] = festival[\"original_title\"].replace(rename_original_titles)\n",
        "    display(festival.head())"
      ]
    },
    {
      "cell_type": "markdown",
      "metadata": {
        "id": "o8qX91LTxhU2"
      },
      "source": [
        "### 2. Adaugati cate doua coloane noi fiecaruia dintre cele trei dataframe-uri de tip festival, astfel:\n"
      ]
    },
    {
      "cell_type": "markdown",
      "metadata": {
        "id": "-Wgv47g2zaMC"
      },
      "source": [
        "* o coloana numita \"Winner\", continand numarul total de premii castigate de un film\n",
        "* o coloana numita \"Nominee\", continand numarul total de nominalizari ale unui film\n",
        "\n",
        "  *Atentie!* In acest calcul, vom considera ca un premiu castigat implica si o nominalizare."
      ]
    },
    {
      "cell_type": "code",
      "execution_count": 318,
      "metadata": {
        "colab": {
          "base_uri": "https://localhost:8080/",
          "height": 310
        },
        "id": "wd8TeySLzblt",
        "outputId": "6adba6cc-8412-4648-fa1c-7e6e3c1e55bf"
      },
      "outputs": [
        {
          "data": {
            "text/html": [
              "<div>\n",
              "<style scoped>\n",
              "    .dataframe tbody tr th:only-of-type {\n",
              "        vertical-align: middle;\n",
              "    }\n",
              "\n",
              "    .dataframe tbody tr th {\n",
              "        vertical-align: top;\n",
              "    }\n",
              "\n",
              "    .dataframe thead th {\n",
              "        text-align: right;\n",
              "    }\n",
              "</style>\n",
              "<table border=\"1\" class=\"dataframe\">\n",
              "  <thead>\n",
              "    <tr style=\"text-align: right;\">\n",
              "      <th></th>\n",
              "      <th>id</th>\n",
              "      <th>original_title</th>\n",
              "      <th>Festival</th>\n",
              "      <th>Year</th>\n",
              "      <th>Best Picture</th>\n",
              "      <th>Best Actor</th>\n",
              "      <th>Best Actress</th>\n",
              "      <th>Best Director</th>\n",
              "      <th>Best Supporting Actor</th>\n",
              "      <th>Best Supporting Actress</th>\n",
              "      <th>Winner</th>\n",
              "      <th>Nominee</th>\n",
              "    </tr>\n",
              "  </thead>\n",
              "  <tbody>\n",
              "    <tr>\n",
              "      <th>0</th>\n",
              "      <td>1</td>\n",
              "      <td>The Shawshank Redemption</td>\n",
              "      <td>Academy Awards</td>\n",
              "      <td>1995</td>\n",
              "      <td>2.0</td>\n",
              "      <td>2.0</td>\n",
              "      <td>NaN</td>\n",
              "      <td>NaN</td>\n",
              "      <td>NaN</td>\n",
              "      <td>NaN</td>\n",
              "      <td>0</td>\n",
              "      <td>2</td>\n",
              "    </tr>\n",
              "    <tr>\n",
              "      <th>1</th>\n",
              "      <td>2</td>\n",
              "      <td>The Godfather</td>\n",
              "      <td>Academy Awards</td>\n",
              "      <td>1973</td>\n",
              "      <td>1.0</td>\n",
              "      <td>1.0</td>\n",
              "      <td>NaN</td>\n",
              "      <td>2.0</td>\n",
              "      <td>2.0</td>\n",
              "      <td>NaN</td>\n",
              "      <td>2</td>\n",
              "      <td>4</td>\n",
              "    </tr>\n",
              "    <tr>\n",
              "      <th>2</th>\n",
              "      <td>3</td>\n",
              "      <td>The Godfather: Part II</td>\n",
              "      <td>Academy Awards</td>\n",
              "      <td>1975</td>\n",
              "      <td>1.0</td>\n",
              "      <td>2.0</td>\n",
              "      <td>NaN</td>\n",
              "      <td>1.0</td>\n",
              "      <td>1.0</td>\n",
              "      <td>NaN</td>\n",
              "      <td>3</td>\n",
              "      <td>4</td>\n",
              "    </tr>\n",
              "    <tr>\n",
              "      <th>3</th>\n",
              "      <td>4</td>\n",
              "      <td>The Dark Knight</td>\n",
              "      <td>Academy Awards</td>\n",
              "      <td>2009</td>\n",
              "      <td>NaN</td>\n",
              "      <td>NaN</td>\n",
              "      <td>NaN</td>\n",
              "      <td>NaN</td>\n",
              "      <td>1.0</td>\n",
              "      <td>NaN</td>\n",
              "      <td>1</td>\n",
              "      <td>1</td>\n",
              "    </tr>\n",
              "    <tr>\n",
              "      <th>4</th>\n",
              "      <td>5</td>\n",
              "      <td>12 Angry Men</td>\n",
              "      <td>Academy Awards</td>\n",
              "      <td>1958</td>\n",
              "      <td>2.0</td>\n",
              "      <td>NaN</td>\n",
              "      <td>NaN</td>\n",
              "      <td>2.0</td>\n",
              "      <td>NaN</td>\n",
              "      <td>NaN</td>\n",
              "      <td>0</td>\n",
              "      <td>2</td>\n",
              "    </tr>\n",
              "  </tbody>\n",
              "</table>\n",
              "</div>"
            ],
            "text/plain": [
              "   id            original_title        Festival  Year  Best Picture  \\\n",
              "0   1  The Shawshank Redemption  Academy Awards  1995           2.0   \n",
              "1   2             The Godfather  Academy Awards  1973           1.0   \n",
              "2   3    The Godfather: Part II  Academy Awards  1975           1.0   \n",
              "3   4           The Dark Knight  Academy Awards  2009           NaN   \n",
              "4   5              12 Angry Men  Academy Awards  1958           2.0   \n",
              "\n",
              "   Best Actor  Best Actress  Best Director  Best Supporting Actor  \\\n",
              "0         2.0           NaN            NaN                    NaN   \n",
              "1         1.0           NaN            2.0                    2.0   \n",
              "2         2.0           NaN            1.0                    1.0   \n",
              "3         NaN           NaN            NaN                    1.0   \n",
              "4         NaN           NaN            2.0                    NaN   \n",
              "\n",
              "   Best Supporting Actress  Winner  Nominee  \n",
              "0                      NaN       0        2  \n",
              "1                      NaN       2        4  \n",
              "2                      NaN       3        4  \n",
              "3                      NaN       1        1  \n",
              "4                      NaN       0        2  "
            ]
          },
          "metadata": {},
          "output_type": "display_data"
        },
        {
          "data": {
            "text/html": [
              "<div>\n",
              "<style scoped>\n",
              "    .dataframe tbody tr th:only-of-type {\n",
              "        vertical-align: middle;\n",
              "    }\n",
              "\n",
              "    .dataframe tbody tr th {\n",
              "        vertical-align: top;\n",
              "    }\n",
              "\n",
              "    .dataframe thead th {\n",
              "        text-align: right;\n",
              "    }\n",
              "</style>\n",
              "<table border=\"1\" class=\"dataframe\">\n",
              "  <thead>\n",
              "    <tr style=\"text-align: right;\">\n",
              "      <th></th>\n",
              "      <th>id</th>\n",
              "      <th>original_title</th>\n",
              "      <th>Festival</th>\n",
              "      <th>Year</th>\n",
              "      <th>Best Picture</th>\n",
              "      <th>Best Actor</th>\n",
              "      <th>Best Actress</th>\n",
              "      <th>Best Director</th>\n",
              "      <th>Best Supporting Actor</th>\n",
              "      <th>Best Supporting Actress</th>\n",
              "      <th>Winner</th>\n",
              "      <th>Nominee</th>\n",
              "    </tr>\n",
              "  </thead>\n",
              "  <tbody>\n",
              "    <tr>\n",
              "      <th>0</th>\n",
              "      <td>1</td>\n",
              "      <td>The Shawshank Redemption</td>\n",
              "      <td>BAFTA</td>\n",
              "      <td>1995</td>\n",
              "      <td>NaN</td>\n",
              "      <td>NaN</td>\n",
              "      <td>NaN</td>\n",
              "      <td>NaN</td>\n",
              "      <td>NaN</td>\n",
              "      <td>NaN</td>\n",
              "      <td>0</td>\n",
              "      <td>0</td>\n",
              "    </tr>\n",
              "    <tr>\n",
              "      <th>1</th>\n",
              "      <td>2</td>\n",
              "      <td>The Godfather</td>\n",
              "      <td>BAFTA</td>\n",
              "      <td>1973</td>\n",
              "      <td>NaN</td>\n",
              "      <td>2.0</td>\n",
              "      <td>NaN</td>\n",
              "      <td>NaN</td>\n",
              "      <td>2.0</td>\n",
              "      <td>NaN</td>\n",
              "      <td>0</td>\n",
              "      <td>2</td>\n",
              "    </tr>\n",
              "    <tr>\n",
              "      <th>2</th>\n",
              "      <td>3</td>\n",
              "      <td>The Godfather: Part II</td>\n",
              "      <td>BAFTA</td>\n",
              "      <td>1976</td>\n",
              "      <td>NaN</td>\n",
              "      <td>1.0</td>\n",
              "      <td>NaN</td>\n",
              "      <td>NaN</td>\n",
              "      <td>NaN</td>\n",
              "      <td>NaN</td>\n",
              "      <td>1</td>\n",
              "      <td>1</td>\n",
              "    </tr>\n",
              "    <tr>\n",
              "      <th>3</th>\n",
              "      <td>4</td>\n",
              "      <td>The Dark Knight</td>\n",
              "      <td>BAFTA</td>\n",
              "      <td>2009</td>\n",
              "      <td>NaN</td>\n",
              "      <td>NaN</td>\n",
              "      <td>NaN</td>\n",
              "      <td>NaN</td>\n",
              "      <td>1.0</td>\n",
              "      <td>NaN</td>\n",
              "      <td>1</td>\n",
              "      <td>1</td>\n",
              "    </tr>\n",
              "    <tr>\n",
              "      <th>4</th>\n",
              "      <td>5</td>\n",
              "      <td>12 Angry Men</td>\n",
              "      <td>BAFTA</td>\n",
              "      <td>1958</td>\n",
              "      <td>2.0</td>\n",
              "      <td>1.0</td>\n",
              "      <td>NaN</td>\n",
              "      <td>NaN</td>\n",
              "      <td>NaN</td>\n",
              "      <td>NaN</td>\n",
              "      <td>1</td>\n",
              "      <td>2</td>\n",
              "    </tr>\n",
              "  </tbody>\n",
              "</table>\n",
              "</div>"
            ],
            "text/plain": [
              "   id            original_title Festival  Year  Best Picture  Best Actor  \\\n",
              "0   1  The Shawshank Redemption    BAFTA  1995           NaN         NaN   \n",
              "1   2             The Godfather    BAFTA  1973           NaN         2.0   \n",
              "2   3    The Godfather: Part II    BAFTA  1976           NaN         1.0   \n",
              "3   4           The Dark Knight    BAFTA  2009           NaN         NaN   \n",
              "4   5              12 Angry Men    BAFTA  1958           2.0         1.0   \n",
              "\n",
              "   Best Actress  Best Director  Best Supporting Actor  \\\n",
              "0           NaN            NaN                    NaN   \n",
              "1           NaN            NaN                    2.0   \n",
              "2           NaN            NaN                    NaN   \n",
              "3           NaN            NaN                    1.0   \n",
              "4           NaN            NaN                    NaN   \n",
              "\n",
              "   Best Supporting Actress  Winner  Nominee  \n",
              "0                      NaN       0        0  \n",
              "1                      NaN       0        2  \n",
              "2                      NaN       1        1  \n",
              "3                      NaN       1        1  \n",
              "4                      NaN       1        2  "
            ]
          },
          "metadata": {},
          "output_type": "display_data"
        },
        {
          "data": {
            "text/html": [
              "<div>\n",
              "<style scoped>\n",
              "    .dataframe tbody tr th:only-of-type {\n",
              "        vertical-align: middle;\n",
              "    }\n",
              "\n",
              "    .dataframe tbody tr th {\n",
              "        vertical-align: top;\n",
              "    }\n",
              "\n",
              "    .dataframe thead th {\n",
              "        text-align: right;\n",
              "    }\n",
              "</style>\n",
              "<table border=\"1\" class=\"dataframe\">\n",
              "  <thead>\n",
              "    <tr style=\"text-align: right;\">\n",
              "      <th></th>\n",
              "      <th>id</th>\n",
              "      <th>original_title</th>\n",
              "      <th>Festival</th>\n",
              "      <th>Year</th>\n",
              "      <th>Best Picture</th>\n",
              "      <th>Best Actor</th>\n",
              "      <th>Best Actress</th>\n",
              "      <th>Best Director</th>\n",
              "      <th>Best Supporting Actor</th>\n",
              "      <th>Best Supporting Actress</th>\n",
              "      <th>Winner</th>\n",
              "      <th>Nominee</th>\n",
              "    </tr>\n",
              "  </thead>\n",
              "  <tbody>\n",
              "    <tr>\n",
              "      <th>0</th>\n",
              "      <td>1</td>\n",
              "      <td>The Shawshank Redemption</td>\n",
              "      <td>Golden Globes</td>\n",
              "      <td>1995</td>\n",
              "      <td>NaN</td>\n",
              "      <td>1.0</td>\n",
              "      <td>NaN</td>\n",
              "      <td>NaN</td>\n",
              "      <td>NaN</td>\n",
              "      <td>NaN</td>\n",
              "      <td>1</td>\n",
              "      <td>1</td>\n",
              "    </tr>\n",
              "    <tr>\n",
              "      <th>1</th>\n",
              "      <td>2</td>\n",
              "      <td>The Godfather</td>\n",
              "      <td>Golden Globes</td>\n",
              "      <td>1973</td>\n",
              "      <td>1.0</td>\n",
              "      <td>1.0</td>\n",
              "      <td>NaN</td>\n",
              "      <td>1.0</td>\n",
              "      <td>2.0</td>\n",
              "      <td>NaN</td>\n",
              "      <td>3</td>\n",
              "      <td>4</td>\n",
              "    </tr>\n",
              "    <tr>\n",
              "      <th>2</th>\n",
              "      <td>3</td>\n",
              "      <td>The Godfather: Part II</td>\n",
              "      <td>Golden Globes</td>\n",
              "      <td>1975</td>\n",
              "      <td>2.0</td>\n",
              "      <td>2.0</td>\n",
              "      <td>NaN</td>\n",
              "      <td>2.0</td>\n",
              "      <td>NaN</td>\n",
              "      <td>NaN</td>\n",
              "      <td>0</td>\n",
              "      <td>3</td>\n",
              "    </tr>\n",
              "    <tr>\n",
              "      <th>3</th>\n",
              "      <td>4</td>\n",
              "      <td>The Dark Knight</td>\n",
              "      <td>Golden Globes</td>\n",
              "      <td>2009</td>\n",
              "      <td>NaN</td>\n",
              "      <td>1.0</td>\n",
              "      <td>NaN</td>\n",
              "      <td>NaN</td>\n",
              "      <td>NaN</td>\n",
              "      <td>NaN</td>\n",
              "      <td>1</td>\n",
              "      <td>1</td>\n",
              "    </tr>\n",
              "    <tr>\n",
              "      <th>4</th>\n",
              "      <td>5</td>\n",
              "      <td>12 Angry Men</td>\n",
              "      <td>Golden Globes</td>\n",
              "      <td>1998</td>\n",
              "      <td>NaN</td>\n",
              "      <td>1.0</td>\n",
              "      <td>NaN</td>\n",
              "      <td>NaN</td>\n",
              "      <td>NaN</td>\n",
              "      <td>NaN</td>\n",
              "      <td>1</td>\n",
              "      <td>1</td>\n",
              "    </tr>\n",
              "  </tbody>\n",
              "</table>\n",
              "</div>"
            ],
            "text/plain": [
              "   id            original_title       Festival  Year  Best Picture  \\\n",
              "0   1  The Shawshank Redemption  Golden Globes  1995           NaN   \n",
              "1   2             The Godfather  Golden Globes  1973           1.0   \n",
              "2   3    The Godfather: Part II  Golden Globes  1975           2.0   \n",
              "3   4           The Dark Knight  Golden Globes  2009           NaN   \n",
              "4   5              12 Angry Men  Golden Globes  1998           NaN   \n",
              "\n",
              "   Best Actor  Best Actress  Best Director  Best Supporting Actor  \\\n",
              "0         1.0           NaN            NaN                    NaN   \n",
              "1         1.0           NaN            1.0                    2.0   \n",
              "2         2.0           NaN            2.0                    NaN   \n",
              "3         1.0           NaN            NaN                    NaN   \n",
              "4         1.0           NaN            NaN                    NaN   \n",
              "\n",
              "   Best Supporting Actress  Winner  Nominee  \n",
              "0                      NaN       1        1  \n",
              "1                      NaN       3        4  \n",
              "2                      NaN       0        3  \n",
              "3                      NaN       1        1  \n",
              "4                      NaN       1        1  "
            ]
          },
          "metadata": {},
          "output_type": "display_data"
        }
      ],
      "source": [
        "catagories = [\"Best Picture\", \"Best Actor\", \"Best Actress\", \"Best Director\", \"Best Supporting Actor\", \"Best Supporting Actress\"]\n",
        "\n",
        "for festival in festivals:\n",
        "    festival[\"Winner\"] = festival[catagories].apply(lambda x: x.eq(1.0).sum(), axis=1)\n",
        "    festival[\"Nominee\"] = festival[catagories].apply(lambda x: x.eq(1.0).sum() + x.eq(2.0).sum(), axis=1)\n",
        "    display(festival.head())\n"
      ]
    },
    {
      "cell_type": "markdown",
      "metadata": {
        "id": "Puxmwbghx97f"
      },
      "source": [
        "Acum avem o evidenta generala a castigurilor si nominalizarilor.\n",
        "\n",
        "* Eliminati coloanele corespunzatoare celor sase categorii din fiecare dataframe si pastrati doar valorile calculate anterior."
      ]
    },
    {
      "cell_type": "code",
      "execution_count": 319,
      "metadata": {
        "colab": {
          "base_uri": "https://localhost:8080/",
          "height": 206
        },
        "id": "jDK3gERS1KkG",
        "outputId": "efb53f53-7c05-41c6-f9de-1b1a9d354425"
      },
      "outputs": [
        {
          "data": {
            "text/html": [
              "<div>\n",
              "<style scoped>\n",
              "    .dataframe tbody tr th:only-of-type {\n",
              "        vertical-align: middle;\n",
              "    }\n",
              "\n",
              "    .dataframe tbody tr th {\n",
              "        vertical-align: top;\n",
              "    }\n",
              "\n",
              "    .dataframe thead th {\n",
              "        text-align: right;\n",
              "    }\n",
              "</style>\n",
              "<table border=\"1\" class=\"dataframe\">\n",
              "  <thead>\n",
              "    <tr style=\"text-align: right;\">\n",
              "      <th></th>\n",
              "      <th>id</th>\n",
              "      <th>original_title</th>\n",
              "      <th>Festival</th>\n",
              "      <th>Year</th>\n",
              "      <th>Winner</th>\n",
              "      <th>Nominee</th>\n",
              "    </tr>\n",
              "  </thead>\n",
              "  <tbody>\n",
              "    <tr>\n",
              "      <th>0</th>\n",
              "      <td>1</td>\n",
              "      <td>The Shawshank Redemption</td>\n",
              "      <td>Academy Awards</td>\n",
              "      <td>1995</td>\n",
              "      <td>0</td>\n",
              "      <td>2</td>\n",
              "    </tr>\n",
              "    <tr>\n",
              "      <th>1</th>\n",
              "      <td>2</td>\n",
              "      <td>The Godfather</td>\n",
              "      <td>Academy Awards</td>\n",
              "      <td>1973</td>\n",
              "      <td>2</td>\n",
              "      <td>4</td>\n",
              "    </tr>\n",
              "    <tr>\n",
              "      <th>2</th>\n",
              "      <td>3</td>\n",
              "      <td>The Godfather: Part II</td>\n",
              "      <td>Academy Awards</td>\n",
              "      <td>1975</td>\n",
              "      <td>3</td>\n",
              "      <td>4</td>\n",
              "    </tr>\n",
              "    <tr>\n",
              "      <th>3</th>\n",
              "      <td>4</td>\n",
              "      <td>The Dark Knight</td>\n",
              "      <td>Academy Awards</td>\n",
              "      <td>2009</td>\n",
              "      <td>1</td>\n",
              "      <td>1</td>\n",
              "    </tr>\n",
              "    <tr>\n",
              "      <th>4</th>\n",
              "      <td>5</td>\n",
              "      <td>12 Angry Men</td>\n",
              "      <td>Academy Awards</td>\n",
              "      <td>1958</td>\n",
              "      <td>0</td>\n",
              "      <td>2</td>\n",
              "    </tr>\n",
              "  </tbody>\n",
              "</table>\n",
              "</div>"
            ],
            "text/plain": [
              "   id            original_title        Festival  Year  Winner  Nominee\n",
              "0   1  The Shawshank Redemption  Academy Awards  1995       0        2\n",
              "1   2             The Godfather  Academy Awards  1973       2        4\n",
              "2   3    The Godfather: Part II  Academy Awards  1975       3        4\n",
              "3   4           The Dark Knight  Academy Awards  2009       1        1\n",
              "4   5              12 Angry Men  Academy Awards  1958       0        2"
            ]
          },
          "metadata": {},
          "output_type": "display_data"
        },
        {
          "data": {
            "text/html": [
              "<div>\n",
              "<style scoped>\n",
              "    .dataframe tbody tr th:only-of-type {\n",
              "        vertical-align: middle;\n",
              "    }\n",
              "\n",
              "    .dataframe tbody tr th {\n",
              "        vertical-align: top;\n",
              "    }\n",
              "\n",
              "    .dataframe thead th {\n",
              "        text-align: right;\n",
              "    }\n",
              "</style>\n",
              "<table border=\"1\" class=\"dataframe\">\n",
              "  <thead>\n",
              "    <tr style=\"text-align: right;\">\n",
              "      <th></th>\n",
              "      <th>id</th>\n",
              "      <th>original_title</th>\n",
              "      <th>Festival</th>\n",
              "      <th>Year</th>\n",
              "      <th>Winner</th>\n",
              "      <th>Nominee</th>\n",
              "    </tr>\n",
              "  </thead>\n",
              "  <tbody>\n",
              "    <tr>\n",
              "      <th>0</th>\n",
              "      <td>1</td>\n",
              "      <td>The Shawshank Redemption</td>\n",
              "      <td>BAFTA</td>\n",
              "      <td>1995</td>\n",
              "      <td>0</td>\n",
              "      <td>0</td>\n",
              "    </tr>\n",
              "    <tr>\n",
              "      <th>1</th>\n",
              "      <td>2</td>\n",
              "      <td>The Godfather</td>\n",
              "      <td>BAFTA</td>\n",
              "      <td>1973</td>\n",
              "      <td>0</td>\n",
              "      <td>2</td>\n",
              "    </tr>\n",
              "    <tr>\n",
              "      <th>2</th>\n",
              "      <td>3</td>\n",
              "      <td>The Godfather: Part II</td>\n",
              "      <td>BAFTA</td>\n",
              "      <td>1976</td>\n",
              "      <td>1</td>\n",
              "      <td>1</td>\n",
              "    </tr>\n",
              "    <tr>\n",
              "      <th>3</th>\n",
              "      <td>4</td>\n",
              "      <td>The Dark Knight</td>\n",
              "      <td>BAFTA</td>\n",
              "      <td>2009</td>\n",
              "      <td>1</td>\n",
              "      <td>1</td>\n",
              "    </tr>\n",
              "    <tr>\n",
              "      <th>4</th>\n",
              "      <td>5</td>\n",
              "      <td>12 Angry Men</td>\n",
              "      <td>BAFTA</td>\n",
              "      <td>1958</td>\n",
              "      <td>1</td>\n",
              "      <td>2</td>\n",
              "    </tr>\n",
              "  </tbody>\n",
              "</table>\n",
              "</div>"
            ],
            "text/plain": [
              "   id            original_title Festival  Year  Winner  Nominee\n",
              "0   1  The Shawshank Redemption    BAFTA  1995       0        0\n",
              "1   2             The Godfather    BAFTA  1973       0        2\n",
              "2   3    The Godfather: Part II    BAFTA  1976       1        1\n",
              "3   4           The Dark Knight    BAFTA  2009       1        1\n",
              "4   5              12 Angry Men    BAFTA  1958       1        2"
            ]
          },
          "metadata": {},
          "output_type": "display_data"
        },
        {
          "data": {
            "text/html": [
              "<div>\n",
              "<style scoped>\n",
              "    .dataframe tbody tr th:only-of-type {\n",
              "        vertical-align: middle;\n",
              "    }\n",
              "\n",
              "    .dataframe tbody tr th {\n",
              "        vertical-align: top;\n",
              "    }\n",
              "\n",
              "    .dataframe thead th {\n",
              "        text-align: right;\n",
              "    }\n",
              "</style>\n",
              "<table border=\"1\" class=\"dataframe\">\n",
              "  <thead>\n",
              "    <tr style=\"text-align: right;\">\n",
              "      <th></th>\n",
              "      <th>id</th>\n",
              "      <th>original_title</th>\n",
              "      <th>Festival</th>\n",
              "      <th>Year</th>\n",
              "      <th>Winner</th>\n",
              "      <th>Nominee</th>\n",
              "    </tr>\n",
              "  </thead>\n",
              "  <tbody>\n",
              "    <tr>\n",
              "      <th>0</th>\n",
              "      <td>1</td>\n",
              "      <td>The Shawshank Redemption</td>\n",
              "      <td>Golden Globes</td>\n",
              "      <td>1995</td>\n",
              "      <td>1</td>\n",
              "      <td>1</td>\n",
              "    </tr>\n",
              "    <tr>\n",
              "      <th>1</th>\n",
              "      <td>2</td>\n",
              "      <td>The Godfather</td>\n",
              "      <td>Golden Globes</td>\n",
              "      <td>1973</td>\n",
              "      <td>3</td>\n",
              "      <td>4</td>\n",
              "    </tr>\n",
              "    <tr>\n",
              "      <th>2</th>\n",
              "      <td>3</td>\n",
              "      <td>The Godfather: Part II</td>\n",
              "      <td>Golden Globes</td>\n",
              "      <td>1975</td>\n",
              "      <td>0</td>\n",
              "      <td>3</td>\n",
              "    </tr>\n",
              "    <tr>\n",
              "      <th>3</th>\n",
              "      <td>4</td>\n",
              "      <td>The Dark Knight</td>\n",
              "      <td>Golden Globes</td>\n",
              "      <td>2009</td>\n",
              "      <td>1</td>\n",
              "      <td>1</td>\n",
              "    </tr>\n",
              "    <tr>\n",
              "      <th>4</th>\n",
              "      <td>5</td>\n",
              "      <td>12 Angry Men</td>\n",
              "      <td>Golden Globes</td>\n",
              "      <td>1998</td>\n",
              "      <td>1</td>\n",
              "      <td>1</td>\n",
              "    </tr>\n",
              "  </tbody>\n",
              "</table>\n",
              "</div>"
            ],
            "text/plain": [
              "   id            original_title       Festival  Year  Winner  Nominee\n",
              "0   1  The Shawshank Redemption  Golden Globes  1995       1        1\n",
              "1   2             The Godfather  Golden Globes  1973       3        4\n",
              "2   3    The Godfather: Part II  Golden Globes  1975       0        3\n",
              "3   4           The Dark Knight  Golden Globes  2009       1        1\n",
              "4   5              12 Angry Men  Golden Globes  1998       1        1"
            ]
          },
          "metadata": {},
          "output_type": "display_data"
        }
      ],
      "source": [
        "for festival in festivals:\n",
        "    festival.drop(columns=catagories, inplace=True)\n",
        "    display(festival.head())"
      ]
    },
    {
      "cell_type": "markdown",
      "metadata": {
        "id": "5uzP2nu02zd_"
      },
      "source": [
        "### 3. Extrageti din fiecare festival filmul care a castigat cele mai multe premii. Creati un nou dataframe care sa contina aceste trei filme."
      ]
    },
    {
      "cell_type": "code",
      "execution_count": 320,
      "metadata": {
        "colab": {
          "base_uri": "https://localhost:8080/",
          "height": 80
        },
        "id": "BUDJqQoa3WYa",
        "outputId": "a9d9a2c8-2d6a-485e-d227-681a2abc1432"
      },
      "outputs": [
        {
          "data": {
            "text/html": [
              "<div>\n",
              "<style scoped>\n",
              "    .dataframe tbody tr th:only-of-type {\n",
              "        vertical-align: middle;\n",
              "    }\n",
              "\n",
              "    .dataframe tbody tr th {\n",
              "        vertical-align: top;\n",
              "    }\n",
              "\n",
              "    .dataframe thead th {\n",
              "        text-align: right;\n",
              "    }\n",
              "</style>\n",
              "<table border=\"1\" class=\"dataframe\">\n",
              "  <thead>\n",
              "    <tr style=\"text-align: right;\">\n",
              "      <th></th>\n",
              "      <th>Festival</th>\n",
              "      <th>Most Wins</th>\n",
              "    </tr>\n",
              "  </thead>\n",
              "  <tbody>\n",
              "    <tr>\n",
              "      <th>0</th>\n",
              "      <td>Academy Awards</td>\n",
              "      <td>One Flew Over the Cuckoo's Nest</td>\n",
              "    </tr>\n",
              "    <tr>\n",
              "      <th>1</th>\n",
              "      <td>BAFTA</td>\n",
              "      <td>One Flew Over the Cuckoo's Nest</td>\n",
              "    </tr>\n",
              "    <tr>\n",
              "      <th>2</th>\n",
              "      <td>Golden Globes</td>\n",
              "      <td>One Flew Over the Cuckoo's Nest</td>\n",
              "    </tr>\n",
              "  </tbody>\n",
              "</table>\n",
              "</div>"
            ],
            "text/plain": [
              "         Festival                        Most Wins\n",
              "0  Academy Awards  One Flew Over the Cuckoo's Nest\n",
              "1           BAFTA  One Flew Over the Cuckoo's Nest\n",
              "2   Golden Globes  One Flew Over the Cuckoo's Nest"
            ]
          },
          "execution_count": 320,
          "metadata": {},
          "output_type": "execute_result"
        }
      ],
      "source": [
        "\n",
        "most_wins_academy = academy_awards.loc[academy_awards['Winner'].idxmax()]['original_title']\n",
        "most_wins_bafta = bafta.loc[bafta['Winner'].idxmax()]['original_title']\n",
        "most_wins_golden_globes = golden_globes.loc[golden_globes['Winner'].idxmax()]['original_title']\n",
        "\n",
        "most_wins_df = pd.DataFrame({\n",
        "    'Festival': ['Academy Awards', 'BAFTA', 'Golden Globes'],\n",
        "    'Most Wins': [most_wins_academy, most_wins_bafta, most_wins_golden_globes]\n",
        "})\n",
        "\n",
        "most_wins_df"
      ]
    },
    {
      "cell_type": "markdown",
      "metadata": {
        "id": "HP7qzKVz5Wsp"
      },
      "source": [
        "### 4. Care este filmul cu cele mai multe nominalizari la toate cele 3 festivaluri?"
      ]
    },
    {
      "cell_type": "markdown",
      "metadata": {
        "id": "1IhMEy7n53Bk"
      },
      "source": [
        "*Hint: concat(), set_index().*"
      ]
    },
    {
      "cell_type": "code",
      "execution_count": 321,
      "metadata": {
        "colab": {
          "base_uri": "https://localhost:8080/",
          "height": 205
        },
        "id": "V21gG-Nn57Ea",
        "outputId": "527c2217-30d2-479a-ff2c-71710b3f6ba1"
      },
      "outputs": [
        {
          "data": {
            "text/plain": [
              "\"One Flew Over the Cuckoo's Nest\""
            ]
          },
          "metadata": {},
          "output_type": "display_data"
        }
      ],
      "source": [
        "all_festivals = pd.concat(festivals)\n",
        "\n",
        "nominee_counts = all_festivals.groupby('original_title')['Nominee'].sum()\n",
        "\n",
        "most_nominated_movie = nominee_counts.idxmax()\n",
        "most_nominations = nominee_counts.max()\n",
        "display(most_nominated_movie)"
      ]
    },
    {
      "cell_type": "markdown",
      "metadata": {
        "id": "Dketv5Se6YSA"
      },
      "source": [
        "### 5. Ce proportie din filmele din top 100 IMDB nu au fost nominalizate la nici macar un festival?"
      ]
    },
    {
      "cell_type": "code",
      "execution_count": 322,
      "metadata": {
        "colab": {
          "base_uri": "https://localhost:8080/"
        },
        "id": "iuO0xCmc6i_f",
        "outputId": "51b62107-8920-4aee-9062-5d5542a5ec5e"
      },
      "outputs": [
        {
          "data": {
            "text/plain": [
              "36.36363636363637"
            ]
          },
          "metadata": {},
          "output_type": "display_data"
        }
      ],
      "source": [
        "title_nominations = pd.merge(movies, all_festivals.groupby('original_title').agg({'Nominee': 'sum'}).reset_index())[[\"original_title\", \"Nominee\"]]\n",
        "zero_nominations = title_nominations[title_nominations[\"Nominee\"] == 0].shape[0]\n",
        "display(zero_nominations / title_nominations.shape[0] * 100)"
      ]
    },
    {
      "cell_type": "markdown",
      "metadata": {
        "id": "OuVPgnWc6tY5"
      },
      "source": [
        "### 6. Returnati filmele care: au o nota mai mare strict decat 8.5 pe IMDB, sunt regizate de unul dintre regizorii [\"Quentin Tarantino\", \"David Fincher\", \"Stanley Kubrik\", \"Christopher Nolan\"] si sunt mai recente de 1989."
      ]
    },
    {
      "cell_type": "markdown",
      "metadata": {
        "id": "G0WgJ6577Gan"
      },
      "source": [
        "*Hint: boolean mask.*"
      ]
    },
    {
      "cell_type": "code",
      "execution_count": 323,
      "metadata": {
        "colab": {
          "base_uri": "https://localhost:8080/",
          "height": 691
        },
        "id": "3SPSGs2f9mEo",
        "outputId": "a5abcb44-3c9c-474b-95e4-e60432c68b47"
      },
      "outputs": [
        {
          "data": {
            "text/html": [
              "<div>\n",
              "<style scoped>\n",
              "    .dataframe tbody tr th:only-of-type {\n",
              "        vertical-align: middle;\n",
              "    }\n",
              "\n",
              "    .dataframe tbody tr th {\n",
              "        vertical-align: top;\n",
              "    }\n",
              "\n",
              "    .dataframe thead th {\n",
              "        text-align: right;\n",
              "    }\n",
              "</style>\n",
              "<table border=\"1\" class=\"dataframe\">\n",
              "  <thead>\n",
              "    <tr style=\"text-align: right;\">\n",
              "      <th></th>\n",
              "      <th>imdb_title_id</th>\n",
              "      <th>original_title</th>\n",
              "      <th>year</th>\n",
              "      <th>genre</th>\n",
              "      <th>duration</th>\n",
              "      <th>director</th>\n",
              "      <th>writer</th>\n",
              "      <th>production_company</th>\n",
              "      <th>actors</th>\n",
              "      <th>description</th>\n",
              "      <th>avg_vote</th>\n",
              "      <th>votes</th>\n",
              "    </tr>\n",
              "  </thead>\n",
              "  <tbody>\n",
              "    <tr>\n",
              "      <th>3</th>\n",
              "      <td>tt0468569</td>\n",
              "      <td>The Dark Knight</td>\n",
              "      <td>2008</td>\n",
              "      <td>Action, Crime, Drama</td>\n",
              "      <td>152</td>\n",
              "      <td>Christopher Nolan</td>\n",
              "      <td>Jonathan Nolan, Christopher Nolan</td>\n",
              "      <td>Warner Bros.</td>\n",
              "      <td>Christian Bale, Heath Ledger, Aaron Eckhart, M...</td>\n",
              "      <td>When the menace known as the Joker wreaks havo...</td>\n",
              "      <td>9.0</td>\n",
              "      <td>2241615</td>\n",
              "    </tr>\n",
              "    <tr>\n",
              "      <th>6</th>\n",
              "      <td>tt0110912</td>\n",
              "      <td>Pulp Fiction</td>\n",
              "      <td>1994</td>\n",
              "      <td>Crime, Drama</td>\n",
              "      <td>154</td>\n",
              "      <td>Quentin Tarantino</td>\n",
              "      <td>Quentin Tarantino, Roger Avary</td>\n",
              "      <td>Miramax</td>\n",
              "      <td>Tim Roth, Amanda Plummer, Laura Lovelace, John...</td>\n",
              "      <td>The lives of two mob hitmen, a boxer, a gangst...</td>\n",
              "      <td>8.9</td>\n",
              "      <td>1780147</td>\n",
              "    </tr>\n",
              "    <tr>\n",
              "      <th>11</th>\n",
              "      <td>tt0137523</td>\n",
              "      <td>Fight Club</td>\n",
              "      <td>1999</td>\n",
              "      <td>Drama</td>\n",
              "      <td>139</td>\n",
              "      <td>David Fincher</td>\n",
              "      <td>Chuck Palahniuk, Jim Uhls</td>\n",
              "      <td>Fox 2000 Pictures</td>\n",
              "      <td>Edward Norton, Brad Pitt, Meat Loaf, Zach Gren...</td>\n",
              "      <td>An insomniac office worker and a devil-may-car...</td>\n",
              "      <td>8.8</td>\n",
              "      <td>1807440</td>\n",
              "    </tr>\n",
              "    <tr>\n",
              "      <th>12</th>\n",
              "      <td>tt1375666</td>\n",
              "      <td>Inception</td>\n",
              "      <td>2010</td>\n",
              "      <td>Action, Adventure, Sci-Fi</td>\n",
              "      <td>148</td>\n",
              "      <td>Christopher Nolan</td>\n",
              "      <td>Christopher Nolan</td>\n",
              "      <td>Warner Bros.</td>\n",
              "      <td>Leonardo DiCaprio, Joseph Gordon-Levitt, Ellen...</td>\n",
              "      <td>A thief who steals corporate secrets through t...</td>\n",
              "      <td>8.8</td>\n",
              "      <td>2002816</td>\n",
              "    </tr>\n",
              "    <tr>\n",
              "      <th>24</th>\n",
              "      <td>tt0114369</td>\n",
              "      <td>Se7en</td>\n",
              "      <td>1995</td>\n",
              "      <td>Crime, Drama, Mystery</td>\n",
              "      <td>127</td>\n",
              "      <td>David Fincher</td>\n",
              "      <td>Andrew Kevin Walker</td>\n",
              "      <td>Cecchi Gori Pictures</td>\n",
              "      <td>Morgan Freeman, Andrew Kevin Walker, Daniel Za...</td>\n",
              "      <td>Two detectives, a rookie and a veteran, hunt a...</td>\n",
              "      <td>8.6</td>\n",
              "      <td>1402015</td>\n",
              "    </tr>\n",
              "    <tr>\n",
              "      <th>30</th>\n",
              "      <td>tt0816692</td>\n",
              "      <td>Interstellar</td>\n",
              "      <td>2014</td>\n",
              "      <td>Adventure, Drama, Sci-Fi</td>\n",
              "      <td>169</td>\n",
              "      <td>Christopher Nolan</td>\n",
              "      <td>Jonathan Nolan, Christopher Nolan</td>\n",
              "      <td>Paramount Pictures</td>\n",
              "      <td>Ellen Burstyn, Matthew McConaughey, Mackenzie ...</td>\n",
              "      <td>A team of explorers travel through a wormhole ...</td>\n",
              "      <td>8.6</td>\n",
              "      <td>1449256</td>\n",
              "    </tr>\n",
              "  </tbody>\n",
              "</table>\n",
              "</div>"
            ],
            "text/plain": [
              "   imdb_title_id   original_title  year                      genre  duration  \\\n",
              "3      tt0468569  The Dark Knight  2008       Action, Crime, Drama       152   \n",
              "6      tt0110912     Pulp Fiction  1994               Crime, Drama       154   \n",
              "11     tt0137523       Fight Club  1999                      Drama       139   \n",
              "12     tt1375666        Inception  2010  Action, Adventure, Sci-Fi       148   \n",
              "24     tt0114369            Se7en  1995      Crime, Drama, Mystery       127   \n",
              "30     tt0816692     Interstellar  2014   Adventure, Drama, Sci-Fi       169   \n",
              "\n",
              "             director                             writer  \\\n",
              "3   Christopher Nolan  Jonathan Nolan, Christopher Nolan   \n",
              "6   Quentin Tarantino     Quentin Tarantino, Roger Avary   \n",
              "11      David Fincher          Chuck Palahniuk, Jim Uhls   \n",
              "12  Christopher Nolan                  Christopher Nolan   \n",
              "24      David Fincher                Andrew Kevin Walker   \n",
              "30  Christopher Nolan  Jonathan Nolan, Christopher Nolan   \n",
              "\n",
              "      production_company                                             actors  \\\n",
              "3           Warner Bros.  Christian Bale, Heath Ledger, Aaron Eckhart, M...   \n",
              "6                Miramax  Tim Roth, Amanda Plummer, Laura Lovelace, John...   \n",
              "11     Fox 2000 Pictures  Edward Norton, Brad Pitt, Meat Loaf, Zach Gren...   \n",
              "12          Warner Bros.  Leonardo DiCaprio, Joseph Gordon-Levitt, Ellen...   \n",
              "24  Cecchi Gori Pictures  Morgan Freeman, Andrew Kevin Walker, Daniel Za...   \n",
              "30    Paramount Pictures  Ellen Burstyn, Matthew McConaughey, Mackenzie ...   \n",
              "\n",
              "                                          description  avg_vote    votes  \n",
              "3   When the menace known as the Joker wreaks havo...       9.0  2241615  \n",
              "6   The lives of two mob hitmen, a boxer, a gangst...       8.9  1780147  \n",
              "11  An insomniac office worker and a devil-may-car...       8.8  1807440  \n",
              "12  A thief who steals corporate secrets through t...       8.8  2002816  \n",
              "24  Two detectives, a rookie and a veteran, hunt a...       8.6  1402015  \n",
              "30  A team of explorers travel through a wormhole ...       8.6  1449256  "
            ]
          },
          "execution_count": 323,
          "metadata": {},
          "output_type": "execute_result"
        }
      ],
      "source": [
        "allowed_directors = [\"Christopher Nolan\", \"Quentin Tarantino\", \"David Fincher\", \"Stanley Kubrick\"]\n",
        "\n",
        "movies[movies[\"director\"].isin(allowed_directors) & (movies[\"avg_vote\"] > 8.5)]"
      ]
    },
    {
      "cell_type": "markdown",
      "metadata": {
        "id": "S_rykUVSEQLP"
      },
      "source": [
        "### 7. Calculati deviatia standard a rating-ului fiecarui film fata de nota medie a filmelor din acelasi gen.\n",
        "\n"
      ]
    },
    {
      "cell_type": "markdown",
      "metadata": {
        "id": "pvk3qh0KEmC2"
      },
      "source": [
        "Rezultatul poate fi fie o noua coloana, fie un Series."
      ]
    },
    {
      "cell_type": "code",
      "execution_count": 324,
      "metadata": {
        "colab": {
          "base_uri": "https://localhost:8080/",
          "height": 423
        },
        "id": "IYLzVyz-FAKP",
        "outputId": "ba73c254-3532-4c2c-90da-1cb255d8a1b2"
      },
      "outputs": [
        {
          "data": {
            "text/html": [
              "<div>\n",
              "<style scoped>\n",
              "    .dataframe tbody tr th:only-of-type {\n",
              "        vertical-align: middle;\n",
              "    }\n",
              "\n",
              "    .dataframe tbody tr th {\n",
              "        vertical-align: top;\n",
              "    }\n",
              "\n",
              "    .dataframe thead th {\n",
              "        text-align: right;\n",
              "    }\n",
              "</style>\n",
              "<table border=\"1\" class=\"dataframe\">\n",
              "  <thead>\n",
              "    <tr style=\"text-align: right;\">\n",
              "      <th></th>\n",
              "      <th>original_title</th>\n",
              "      <th>std_dev</th>\n",
              "    </tr>\n",
              "  </thead>\n",
              "  <tbody>\n",
              "    <tr>\n",
              "      <th>0</th>\n",
              "      <td>The Shawshank Redemption</td>\n",
              "      <td>0.333809</td>\n",
              "    </tr>\n",
              "    <tr>\n",
              "      <th>1</th>\n",
              "      <td>The Godfather</td>\n",
              "      <td>0.346410</td>\n",
              "    </tr>\n",
              "    <tr>\n",
              "      <th>2</th>\n",
              "      <td>The Godfather: Part II</td>\n",
              "      <td>0.346410</td>\n",
              "    </tr>\n",
              "    <tr>\n",
              "      <th>3</th>\n",
              "      <td>The Dark Knight</td>\n",
              "      <td>0.353553</td>\n",
              "    </tr>\n",
              "    <tr>\n",
              "      <th>4</th>\n",
              "      <td>12 Angry Men</td>\n",
              "      <td>0.346410</td>\n",
              "    </tr>\n",
              "    <tr>\n",
              "      <th>...</th>\n",
              "      <td>...</td>\n",
              "      <td>...</td>\n",
              "    </tr>\n",
              "    <tr>\n",
              "      <th>95</th>\n",
              "      <td>Taxi Driver</td>\n",
              "      <td>0.346410</td>\n",
              "    </tr>\n",
              "    <tr>\n",
              "      <th>96</th>\n",
              "      <td>Das Boot</td>\n",
              "      <td>NaN</td>\n",
              "    </tr>\n",
              "    <tr>\n",
              "      <th>97</th>\n",
              "      <td>Star Wars: Episode VI - Return of the Jedi</td>\n",
              "      <td>0.208167</td>\n",
              "    </tr>\n",
              "    <tr>\n",
              "      <th>98</th>\n",
              "      <td>Scarface</td>\n",
              "      <td>0.346410</td>\n",
              "    </tr>\n",
              "    <tr>\n",
              "      <th>99</th>\n",
              "      <td>Amadeus</td>\n",
              "      <td>0.424264</td>\n",
              "    </tr>\n",
              "  </tbody>\n",
              "</table>\n",
              "<p>100 rows × 2 columns</p>\n",
              "</div>"
            ],
            "text/plain": [
              "                                original_title   std_dev\n",
              "0                     The Shawshank Redemption  0.333809\n",
              "1                                The Godfather  0.346410\n",
              "2                       The Godfather: Part II  0.346410\n",
              "3                              The Dark Knight  0.353553\n",
              "4                                 12 Angry Men  0.346410\n",
              "..                                         ...       ...\n",
              "95                                 Taxi Driver  0.346410\n",
              "96                                    Das Boot       NaN\n",
              "97  Star Wars: Episode VI - Return of the Jedi  0.208167\n",
              "98                                    Scarface  0.346410\n",
              "99                                     Amadeus  0.424264\n",
              "\n",
              "[100 rows x 2 columns]"
            ]
          },
          "execution_count": 324,
          "metadata": {},
          "output_type": "execute_result"
        }
      ],
      "source": [
        "movies[\"std_dev\"] = movies.groupby(\"genre\")[\"avg_vote\"].transform(\"std\")\n",
        "movies[[\"original_title\", \"std_dev\"]]"
      ]
    },
    {
      "cell_type": "markdown",
      "metadata": {
        "id": "Um7LHD4EFBsn"
      },
      "source": [
        "### 8. Filtrati dataframe-ul movies, astfel incat sa contina doar filmele cu media rating-ului genului mai mare decat 8.65."
      ]
    },
    {
      "cell_type": "code",
      "execution_count": 325,
      "metadata": {
        "colab": {
          "base_uri": "https://localhost:8080/",
          "height": 457
        },
        "id": "qJlMXqVNFfGT",
        "outputId": "f38274b6-6032-4a8c-9e0d-388553ec45f7"
      },
      "outputs": [
        {
          "data": {
            "text/html": [
              "<div>\n",
              "<style scoped>\n",
              "    .dataframe tbody tr th:only-of-type {\n",
              "        vertical-align: middle;\n",
              "    }\n",
              "\n",
              "    .dataframe tbody tr th {\n",
              "        vertical-align: top;\n",
              "    }\n",
              "\n",
              "    .dataframe thead th {\n",
              "        text-align: right;\n",
              "    }\n",
              "</style>\n",
              "<table border=\"1\" class=\"dataframe\">\n",
              "  <thead>\n",
              "    <tr style=\"text-align: right;\">\n",
              "      <th></th>\n",
              "      <th>imdb_title_id</th>\n",
              "      <th>original_title</th>\n",
              "      <th>year</th>\n",
              "      <th>genre</th>\n",
              "      <th>duration</th>\n",
              "      <th>director</th>\n",
              "      <th>writer</th>\n",
              "      <th>production_company</th>\n",
              "      <th>actors</th>\n",
              "      <th>description</th>\n",
              "      <th>avg_vote</th>\n",
              "      <th>votes</th>\n",
              "      <th>std_dev</th>\n",
              "    </tr>\n",
              "  </thead>\n",
              "  <tbody>\n",
              "    <tr>\n",
              "      <th>0</th>\n",
              "      <td>tt0068646</td>\n",
              "      <td>The Godfather</td>\n",
              "      <td>1972</td>\n",
              "      <td>Crime, Drama</td>\n",
              "      <td>175</td>\n",
              "      <td>Francis Ford Coppola</td>\n",
              "      <td>Mario Puzo, Francis Ford Coppola</td>\n",
              "      <td>Paramount Pictures</td>\n",
              "      <td>Marlon Brando, Al Pacino, James Caan, Richard ...</td>\n",
              "      <td>The aging patriarch of an organized crime dyna...</td>\n",
              "      <td>9.2</td>\n",
              "      <td>1572674</td>\n",
              "      <td>0.346410</td>\n",
              "    </tr>\n",
              "    <tr>\n",
              "      <th>1</th>\n",
              "      <td>tt0071562</td>\n",
              "      <td>The Godfather: Part II</td>\n",
              "      <td>1974</td>\n",
              "      <td>Crime, Drama</td>\n",
              "      <td>202</td>\n",
              "      <td>Francis Ford Coppola</td>\n",
              "      <td>Francis Ford Coppola, Mario Puzo</td>\n",
              "      <td>Paramount Pictures</td>\n",
              "      <td>Al Pacino, Robert Duvall, Diane Keaton, Robert...</td>\n",
              "      <td>The early life and career of Vito Corleone in ...</td>\n",
              "      <td>9.0</td>\n",
              "      <td>1098714</td>\n",
              "      <td>0.346410</td>\n",
              "    </tr>\n",
              "    <tr>\n",
              "      <th>2</th>\n",
              "      <td>tt0468569</td>\n",
              "      <td>The Dark Knight</td>\n",
              "      <td>2008</td>\n",
              "      <td>Action, Crime, Drama</td>\n",
              "      <td>152</td>\n",
              "      <td>Christopher Nolan</td>\n",
              "      <td>Jonathan Nolan, Christopher Nolan</td>\n",
              "      <td>Warner Bros.</td>\n",
              "      <td>Christian Bale, Heath Ledger, Aaron Eckhart, M...</td>\n",
              "      <td>When the menace known as the Joker wreaks havo...</td>\n",
              "      <td>9.0</td>\n",
              "      <td>2241615</td>\n",
              "      <td>0.353553</td>\n",
              "    </tr>\n",
              "    <tr>\n",
              "      <th>3</th>\n",
              "      <td>tt0050083</td>\n",
              "      <td>12 Angry Men</td>\n",
              "      <td>1957</td>\n",
              "      <td>Crime, Drama</td>\n",
              "      <td>96</td>\n",
              "      <td>Sidney Lumet</td>\n",
              "      <td>Reginald Rose, Reginald Rose</td>\n",
              "      <td>Orion-Nova Productions</td>\n",
              "      <td>Martin Balsam, John Fiedler, Lee J. Cobb, E.G....</td>\n",
              "      <td>A jury holdout attempts to prevent a miscarria...</td>\n",
              "      <td>8.9</td>\n",
              "      <td>668473</td>\n",
              "      <td>0.346410</td>\n",
              "    </tr>\n",
              "    <tr>\n",
              "      <th>4</th>\n",
              "      <td>tt0110912</td>\n",
              "      <td>Pulp Fiction</td>\n",
              "      <td>1994</td>\n",
              "      <td>Crime, Drama</td>\n",
              "      <td>154</td>\n",
              "      <td>Quentin Tarantino</td>\n",
              "      <td>Quentin Tarantino, Roger Avary</td>\n",
              "      <td>Miramax</td>\n",
              "      <td>Tim Roth, Amanda Plummer, Laura Lovelace, John...</td>\n",
              "      <td>The lives of two mob hitmen, a boxer, a gangst...</td>\n",
              "      <td>8.9</td>\n",
              "      <td>1780147</td>\n",
              "      <td>0.346410</td>\n",
              "    </tr>\n",
              "    <tr>\n",
              "      <th>5</th>\n",
              "      <td>tt0109830</td>\n",
              "      <td>Forrest Gump</td>\n",
              "      <td>1994</td>\n",
              "      <td>Drama, Romance</td>\n",
              "      <td>142</td>\n",
              "      <td>Robert Zemeckis</td>\n",
              "      <td>Winston Groom, Eric Roth</td>\n",
              "      <td>Paramount Pictures</td>\n",
              "      <td>Tom Hanks, Rebecca Williams, Sally Field, Mich...</td>\n",
              "      <td>The presidencies of Kennedy and Johnson, the e...</td>\n",
              "      <td>8.8</td>\n",
              "      <td>1755490</td>\n",
              "      <td>NaN</td>\n",
              "    </tr>\n",
              "    <tr>\n",
              "      <th>6</th>\n",
              "      <td>tt5813916</td>\n",
              "      <td>Dag II</td>\n",
              "      <td>2016</td>\n",
              "      <td>Action, Drama, War</td>\n",
              "      <td>135</td>\n",
              "      <td>Alper Caglar</td>\n",
              "      <td>Alper Caglar</td>\n",
              "      <td>3leven</td>\n",
              "      <td>Caglar Ertugrul, Ufuk Bayraktar, Ahu Türkpençe...</td>\n",
              "      <td>In a desolate war zone where screams of the in...</td>\n",
              "      <td>8.8</td>\n",
              "      <td>103949</td>\n",
              "      <td>NaN</td>\n",
              "    </tr>\n",
              "    <tr>\n",
              "      <th>7</th>\n",
              "      <td>tt0099685</td>\n",
              "      <td>Goodfellas</td>\n",
              "      <td>1990</td>\n",
              "      <td>Biography, Crime, Drama</td>\n",
              "      <td>146</td>\n",
              "      <td>Martin Scorsese</td>\n",
              "      <td>Nicholas Pileggi, Nicholas Pileggi</td>\n",
              "      <td>Warner Bros.</td>\n",
              "      <td>Robert De Niro, Ray Liotta, Joe Pesci, Lorrain...</td>\n",
              "      <td>The story of</td>\n",
              "      <td>8.7</td>\n",
              "      <td>991505</td>\n",
              "      <td>NaN</td>\n",
              "    </tr>\n",
              "    <tr>\n",
              "      <th>8</th>\n",
              "      <td>tt0317248</td>\n",
              "      <td>Cidade de Deus</td>\n",
              "      <td>2002</td>\n",
              "      <td>Crime, Drama</td>\n",
              "      <td>130</td>\n",
              "      <td>Fernando Meirelles, Kátia Lund</td>\n",
              "      <td>Paulo Lins, Bráulio Mantovani</td>\n",
              "      <td>O2 Filmes</td>\n",
              "      <td>Alexandre Rodrigues, Leandro Firmino, Phellipe...</td>\n",
              "      <td>In the slums of Rio, two kids' paths diverge a...</td>\n",
              "      <td>8.6</td>\n",
              "      <td>685856</td>\n",
              "      <td>0.346410</td>\n",
              "    </tr>\n",
              "    <tr>\n",
              "      <th>9</th>\n",
              "      <td>tt0110413</td>\n",
              "      <td>Léon</td>\n",
              "      <td>1994</td>\n",
              "      <td>Action, Crime, Drama</td>\n",
              "      <td>110</td>\n",
              "      <td>Luc Besson</td>\n",
              "      <td>Luc Besson</td>\n",
              "      <td>Gaumont</td>\n",
              "      <td>Jean Reno, Gary Oldman, Natalie Portman, Danny...</td>\n",
              "      <td>Mathilda, a 12-year-old girl, is reluctantly t...</td>\n",
              "      <td>8.5</td>\n",
              "      <td>1007598</td>\n",
              "      <td>0.353553</td>\n",
              "    </tr>\n",
              "    <tr>\n",
              "      <th>10</th>\n",
              "      <td>tt0087843</td>\n",
              "      <td>Once Upon a Time in America</td>\n",
              "      <td>1984</td>\n",
              "      <td>Crime, Drama</td>\n",
              "      <td>229</td>\n",
              "      <td>Sergio Leone</td>\n",
              "      <td>Harry Grey, Leonardo Benvenuti</td>\n",
              "      <td>The Ladd Company</td>\n",
              "      <td>Robert De Niro, James Woods, Elizabeth McGover...</td>\n",
              "      <td>A former Prohibition-era Jewish gangster retur...</td>\n",
              "      <td>8.4</td>\n",
              "      <td>302317</td>\n",
              "      <td>0.346410</td>\n",
              "    </tr>\n",
              "    <tr>\n",
              "      <th>11</th>\n",
              "      <td>tt0075314</td>\n",
              "      <td>Taxi Driver</td>\n",
              "      <td>1976</td>\n",
              "      <td>Crime, Drama</td>\n",
              "      <td>114</td>\n",
              "      <td>Martin Scorsese</td>\n",
              "      <td>Paul Schrader</td>\n",
              "      <td>Columbia Pictures</td>\n",
              "      <td>Diahnne Abbott, Frank Adu, Victor Argo, Gino A...</td>\n",
              "      <td>A mentally unstable veteran works as a nightti...</td>\n",
              "      <td>8.3</td>\n",
              "      <td>703264</td>\n",
              "      <td>0.346410</td>\n",
              "    </tr>\n",
              "    <tr>\n",
              "      <th>12</th>\n",
              "      <td>tt0086250</td>\n",
              "      <td>Scarface</td>\n",
              "      <td>1983</td>\n",
              "      <td>Crime, Drama</td>\n",
              "      <td>170</td>\n",
              "      <td>Brian De Palma</td>\n",
              "      <td>Oliver Stone</td>\n",
              "      <td>Universal Pictures</td>\n",
              "      <td>Al Pacino, Steven Bauer, Michelle Pfeiffer, Ma...</td>\n",
              "      <td>In 1980 Miami, a determined Cuban immigrant ta...</td>\n",
              "      <td>8.3</td>\n",
              "      <td>721343</td>\n",
              "      <td>0.346410</td>\n",
              "    </tr>\n",
              "  </tbody>\n",
              "</table>\n",
              "</div>"
            ],
            "text/plain": [
              "   imdb_title_id               original_title  year                    genre  \\\n",
              "0      tt0068646                The Godfather  1972             Crime, Drama   \n",
              "1      tt0071562       The Godfather: Part II  1974             Crime, Drama   \n",
              "2      tt0468569              The Dark Knight  2008     Action, Crime, Drama   \n",
              "3      tt0050083                 12 Angry Men  1957             Crime, Drama   \n",
              "4      tt0110912                 Pulp Fiction  1994             Crime, Drama   \n",
              "5      tt0109830                 Forrest Gump  1994           Drama, Romance   \n",
              "6      tt5813916                       Dag II  2016       Action, Drama, War   \n",
              "7      tt0099685                   Goodfellas  1990  Biography, Crime, Drama   \n",
              "8      tt0317248               Cidade de Deus  2002             Crime, Drama   \n",
              "9      tt0110413                         Léon  1994     Action, Crime, Drama   \n",
              "10     tt0087843  Once Upon a Time in America  1984             Crime, Drama   \n",
              "11     tt0075314                  Taxi Driver  1976             Crime, Drama   \n",
              "12     tt0086250                     Scarface  1983             Crime, Drama   \n",
              "\n",
              "    duration                        director  \\\n",
              "0        175            Francis Ford Coppola   \n",
              "1        202            Francis Ford Coppola   \n",
              "2        152               Christopher Nolan   \n",
              "3         96                    Sidney Lumet   \n",
              "4        154               Quentin Tarantino   \n",
              "5        142                 Robert Zemeckis   \n",
              "6        135                    Alper Caglar   \n",
              "7        146                 Martin Scorsese   \n",
              "8        130  Fernando Meirelles, Kátia Lund   \n",
              "9        110                      Luc Besson   \n",
              "10       229                    Sergio Leone   \n",
              "11       114                 Martin Scorsese   \n",
              "12       170                  Brian De Palma   \n",
              "\n",
              "                                writer      production_company  \\\n",
              "0     Mario Puzo, Francis Ford Coppola      Paramount Pictures   \n",
              "1     Francis Ford Coppola, Mario Puzo      Paramount Pictures   \n",
              "2    Jonathan Nolan, Christopher Nolan            Warner Bros.   \n",
              "3         Reginald Rose, Reginald Rose  Orion-Nova Productions   \n",
              "4       Quentin Tarantino, Roger Avary                 Miramax   \n",
              "5             Winston Groom, Eric Roth      Paramount Pictures   \n",
              "6                         Alper Caglar                  3leven   \n",
              "7   Nicholas Pileggi, Nicholas Pileggi            Warner Bros.   \n",
              "8        Paulo Lins, Bráulio Mantovani               O2 Filmes   \n",
              "9                           Luc Besson                 Gaumont   \n",
              "10      Harry Grey, Leonardo Benvenuti        The Ladd Company   \n",
              "11                       Paul Schrader       Columbia Pictures   \n",
              "12                        Oliver Stone      Universal Pictures   \n",
              "\n",
              "                                               actors  \\\n",
              "0   Marlon Brando, Al Pacino, James Caan, Richard ...   \n",
              "1   Al Pacino, Robert Duvall, Diane Keaton, Robert...   \n",
              "2   Christian Bale, Heath Ledger, Aaron Eckhart, M...   \n",
              "3   Martin Balsam, John Fiedler, Lee J. Cobb, E.G....   \n",
              "4   Tim Roth, Amanda Plummer, Laura Lovelace, John...   \n",
              "5   Tom Hanks, Rebecca Williams, Sally Field, Mich...   \n",
              "6   Caglar Ertugrul, Ufuk Bayraktar, Ahu Türkpençe...   \n",
              "7   Robert De Niro, Ray Liotta, Joe Pesci, Lorrain...   \n",
              "8   Alexandre Rodrigues, Leandro Firmino, Phellipe...   \n",
              "9   Jean Reno, Gary Oldman, Natalie Portman, Danny...   \n",
              "10  Robert De Niro, James Woods, Elizabeth McGover...   \n",
              "11  Diahnne Abbott, Frank Adu, Victor Argo, Gino A...   \n",
              "12  Al Pacino, Steven Bauer, Michelle Pfeiffer, Ma...   \n",
              "\n",
              "                                          description  avg_vote    votes  \\\n",
              "0   The aging patriarch of an organized crime dyna...       9.2  1572674   \n",
              "1   The early life and career of Vito Corleone in ...       9.0  1098714   \n",
              "2   When the menace known as the Joker wreaks havo...       9.0  2241615   \n",
              "3   A jury holdout attempts to prevent a miscarria...       8.9   668473   \n",
              "4   The lives of two mob hitmen, a boxer, a gangst...       8.9  1780147   \n",
              "5   The presidencies of Kennedy and Johnson, the e...       8.8  1755490   \n",
              "6   In a desolate war zone where screams of the in...       8.8   103949   \n",
              "7                                        The story of       8.7   991505   \n",
              "8   In the slums of Rio, two kids' paths diverge a...       8.6   685856   \n",
              "9   Mathilda, a 12-year-old girl, is reluctantly t...       8.5  1007598   \n",
              "10  A former Prohibition-era Jewish gangster retur...       8.4   302317   \n",
              "11  A mentally unstable veteran works as a nightti...       8.3   703264   \n",
              "12  In 1980 Miami, a determined Cuban immigrant ta...       8.3   721343   \n",
              "\n",
              "     std_dev  \n",
              "0   0.346410  \n",
              "1   0.346410  \n",
              "2   0.353553  \n",
              "3   0.346410  \n",
              "4   0.346410  \n",
              "5        NaN  \n",
              "6        NaN  \n",
              "7        NaN  \n",
              "8   0.346410  \n",
              "9   0.353553  \n",
              "10  0.346410  \n",
              "11  0.346410  \n",
              "12  0.346410  "
            ]
          },
          "execution_count": 325,
          "metadata": {},
          "output_type": "execute_result"
        }
      ],
      "source": [
        "filtered_moveis = movies.groupby(\"genre\").filter(lambda x: np.nanmean(x[\"avg_vote\"]) > 8.65)\n",
        "filtered_moveis.reset_index(inplace=True)\n",
        "filtered_moveis.drop(columns=\"index\")"
      ]
    },
    {
      "cell_type": "markdown",
      "metadata": {
        "id": "EqnvA5_pGTkW"
      },
      "source": [
        "### 9. Extrageti deceniul cu cea mai mare medie a rating-ului filmelor."
      ]
    },
    {
      "cell_type": "markdown",
      "metadata": {
        "id": "v2Lqq4oJGrjS"
      },
      "source": [
        "*Hint: apply, groupby*"
      ]
    },
    {
      "cell_type": "code",
      "execution_count": 326,
      "metadata": {
        "colab": {
          "base_uri": "https://localhost:8080/"
        },
        "id": "0bdTJdC_G67r",
        "outputId": "fbdab46d-c122-45c2-f0ee-26baa2c769c9"
      },
      "outputs": [
        {
          "data": {
            "text/plain": [
              "avg_vote    2020\n",
              "dtype: int64"
            ]
          },
          "execution_count": 326,
          "metadata": {},
          "output_type": "execute_result"
        }
      ],
      "source": [
        "movies[\"decade\"] = (movies[\"year\"] // 10) * 10\n",
        "movies.groupby(\"decade\").agg({\"avg_vote\": \"mean\"}).idxmax()"
      ]
    },
    {
      "cell_type": "markdown",
      "metadata": {
        "id": "rQz01DRzGyH_"
      },
      "source": [
        "### 10. Care pereche actor-regizor are cele mai multe colaborari?"
      ]
    },
    {
      "cell_type": "code",
      "execution_count": 327,
      "metadata": {
        "colab": {
          "base_uri": "https://localhost:8080/"
        },
        "id": "bcTX4eNwHHLp",
        "outputId": "d13d35c2-4ad3-4a1f-8345-70a44d36e49b"
      },
      "outputs": [
        {
          "data": {
            "text/plain": [
              "('Christopher Nolan', 'Michael Caine')"
            ]
          },
          "execution_count": 327,
          "metadata": {},
          "output_type": "execute_result"
        }
      ],
      "source": [
        "movies.set_index(\"director\")[\"actors\"].str.split(\", \", expand=True).stack().reset_index(level=1, drop=True) \\\n",
        "      .reset_index(name=\"actor\").groupby([\"director\", \"actor\"]).size().idxmax()"
      ]
    },
    {
      "cell_type": "markdown",
      "metadata": {
        "id": "DvsRHv6SqKlS"
      },
      "source": [
        "Referinte bibliografice:\n",
        "\n",
        "[1] https://docs.dask.org/en/stable/\n",
        "\n",
        "[2] https://spark.apache.org/docs/latest/api/python/"
      ]
    }
  ],
  "metadata": {
    "colab": {
      "collapsed_sections": [
        "M-WqOMCInken",
        "ITVyKb53oIYm",
        "MfwDsduEubQS",
        "1NNsSA9CwCLI",
        "to4hV4VX5lCa",
        "mTcmK7ObCicu",
        "2KzPW1HI-y7b",
        "sNdz3X2n-7PU",
        "jRBYOLq2_D1x"
      ],
      "provenance": []
    },
    "kernelspec": {
      "display_name": ".venv",
      "language": "python",
      "name": "python3"
    },
    "language_info": {
      "codemirror_mode": {
        "name": "ipython",
        "version": 3
      },
      "file_extension": ".py",
      "mimetype": "text/x-python",
      "name": "python",
      "nbconvert_exporter": "python",
      "pygments_lexer": "ipython3",
      "version": "3.12.7"
    }
  },
  "nbformat": 4,
  "nbformat_minor": 0
}
